{
 "cells": [
  {
   "cell_type": "code",
   "execution_count": 1,
   "metadata": {
    "collapsed": true
   },
   "outputs": [],
   "source": [
    "import scipy.stats as stats\n",
    "import numpy as np\n",
    "import matplotlib.pyplot as plt\n",
    "%matplotlib inline"
   ]
  },
  {
   "cell_type": "markdown",
   "metadata": {},
   "source": [
    "### Two-Sample Test"
   ]
  },
  {
   "cell_type": "markdown",
   "metadata": {},
   "source": [
    "First, we'll go through the example of my running times from 2018 and 2019. We can do this by getting ten random pulls from the normal distribution of our choosing, using the 'seed' function to ensure repeatability."
   ]
  },
  {
   "cell_type": "code",
   "execution_count": 2,
   "metadata": {},
   "outputs": [
    {
     "name": "stdout",
     "output_type": "stream",
     "text": [
      "468.0\n",
      "836.6666666666666\n"
     ]
    }
   ],
   "source": [
    "np.random.seed(42)\n",
    "a = np.round(stats.norm(450, 40).rvs(10),0)\n",
    "print(np.mean(a))\n",
    "print(np.var(a, ddof=1))"
   ]
  },
  {
   "cell_type": "code",
   "execution_count": 3,
   "metadata": {},
   "outputs": [
    {
     "name": "stdout",
     "output_type": "stream",
     "text": [
      "418.0\n",
      "836.6666666666666\n"
     ]
    }
   ],
   "source": [
    "np.random.seed(42)\n",
    "b = np.round(stats.norm(400, 40).rvs(10),0)\n",
    "print(np.mean(b))\n",
    "print(np.var(b, ddof=1))"
   ]
  },
  {
   "cell_type": "markdown",
   "metadata": {},
   "source": [
    "The difference in means between the two samples is -50"
   ]
  },
  {
   "cell_type": "code",
   "execution_count": 4,
   "metadata": {},
   "outputs": [
    {
     "data": {
      "text/plain": [
       "-50.0"
      ]
     },
     "execution_count": 4,
     "metadata": {},
     "output_type": "execute_result"
    }
   ],
   "source": [
    "np.mean(b) - np.mean(a)"
   ]
  },
  {
   "cell_type": "markdown",
   "metadata": {},
   "source": [
    "Below is a custom function to calculate pooled variance from the equation, based on the formula from class."
   ]
  },
  {
   "cell_type": "code",
   "execution_count": 5,
   "metadata": {
    "collapsed": true
   },
   "outputs": [],
   "source": [
    "def custom_pooled_variance(a, b):\n",
    "    return ((((len(a) - 1) * np.var(a, ddof=1)) + ((len(b) - 1) * np.var(b, ddof=1))) / (len(a) + len(b) - 2)) * ((1/len(a)) + 1/len(b))"
   ]
  },
  {
   "cell_type": "markdown",
   "metadata": {},
   "source": [
    "Below is the pooled variance of the two samples..."
   ]
  },
  {
   "cell_type": "code",
   "execution_count": 6,
   "metadata": {},
   "outputs": [
    {
     "data": {
      "text/plain": [
       "167.33333333333334"
      ]
     },
     "execution_count": 6,
     "metadata": {},
     "output_type": "execute_result"
    }
   ],
   "source": [
    "pooled_var = custom_pooled_variance(a, b)\n",
    "pooled_var"
   ]
  },
  {
   "cell_type": "markdown",
   "metadata": {},
   "source": [
    "And below is the pooled standard deviation of the two samples..."
   ]
  },
  {
   "cell_type": "code",
   "execution_count": 7,
   "metadata": {},
   "outputs": [
    {
     "data": {
      "text/plain": [
       "12.935738607954837"
      ]
     },
     "execution_count": 7,
     "metadata": {},
     "output_type": "execute_result"
    }
   ],
   "source": [
    "np.sqrt(pooled_var)"
   ]
  },
  {
   "cell_type": "markdown",
   "metadata": {},
   "source": [
    "We can make a T distribution with a mean of 0 and our pooled standard deviation, along with 18 degrees of freedom (our combined number of samples minus 2).\n",
    "\n",
    "We can use the CDF function to see the percentile of our sample mean. Clearly, we can rejct the null hypothesis that the two samples have the same mean."
   ]
  },
  {
   "cell_type": "code",
   "execution_count": 8,
   "metadata": {},
   "outputs": [
    {
     "data": {
      "text/plain": [
       "0.0005669435253738896"
      ]
     },
     "execution_count": 8,
     "metadata": {},
     "output_type": "execute_result"
    }
   ],
   "source": [
    "stats.t(loc=0, scale=np.sqrt(pooled_var), df=18).cdf(-50)"
   ]
  },
  {
   "cell_type": "markdown",
   "metadata": {},
   "source": [
    "For a one-sided test where our alternate hypothesis is that the difference between the means is negative, we can use the raw percentile value as our p-value.\n",
    "\n",
    "For a one-sided test where our alternate hypothesis is that the difference between the means is positive, we can use 1 minus the raw percentile value as our p-value.\n",
    "\n",
    "For a two-sided test, we can multiply the low percentile (0.5 or less) by 2 or 1 - the high percentile (0.5 or more) by 2 to find the p-value"
   ]
  },
  {
   "cell_type": "code",
   "execution_count": 9,
   "metadata": {},
   "outputs": [
    {
     "data": {
      "text/plain": [
       "0.0005669435253738896"
      ]
     },
     "execution_count": 9,
     "metadata": {},
     "output_type": "execute_result"
    }
   ],
   "source": [
    "#P-Value - One-Sided - Negative Difference\n",
    "stats.t(loc=0, scale=np.sqrt(pooled_var), df=18).cdf(-50)"
   ]
  },
  {
   "cell_type": "code",
   "execution_count": 10,
   "metadata": {},
   "outputs": [
    {
     "data": {
      "text/plain": [
       "0.0005669435253738975"
      ]
     },
     "execution_count": 10,
     "metadata": {},
     "output_type": "execute_result"
    }
   ],
   "source": [
    "#P-Value - One-Sided - Positive Difference\n",
    "1 - stats.t(loc=0, scale=np.sqrt(pooled_var), df=18).cdf(50)"
   ]
  },
  {
   "cell_type": "code",
   "execution_count": 11,
   "metadata": {},
   "outputs": [
    {
     "data": {
      "text/plain": [
       "0.0011338870507477791"
      ]
     },
     "execution_count": 11,
     "metadata": {},
     "output_type": "execute_result"
    }
   ],
   "source": [
    "#P-Value - Two-Sided\n",
    "stats.t(loc=0, scale=np.sqrt(pooled_var), df=18).cdf(-50) * 2"
   ]
  },
  {
   "cell_type": "code",
   "execution_count": 12,
   "metadata": {},
   "outputs": [
    {
     "data": {
      "text/plain": [
       "0.001133887050747795"
      ]
     },
     "execution_count": 12,
     "metadata": {},
     "output_type": "execute_result"
    }
   ],
   "source": [
    "#P-Value - One-Sided - Positive Difference\n",
    "(1 - stats.t(loc=0, scale=np.sqrt(pooled_var), df=18).cdf(50)) * 2"
   ]
  },
  {
   "cell_type": "markdown",
   "metadata": {},
   "source": [
    "The stats also has a module to do a two-sided t-test to see if the sample means of two arrays are different."
   ]
  },
  {
   "cell_type": "code",
   "execution_count": 13,
   "metadata": {},
   "outputs": [
    {
     "data": {
      "text/plain": [
       "Ttest_indResult(statistic=3.8652605402255484, pvalue=0.0011338870507477791)"
      ]
     },
     "execution_count": 13,
     "metadata": {},
     "output_type": "execute_result"
    }
   ],
   "source": [
    "stats.ttest_ind(a, b)"
   ]
  },
  {
   "cell_type": "code",
   "execution_count": 14,
   "metadata": {},
   "outputs": [
    {
     "data": {
      "text/plain": [
       "Text(0.5,0.92,'T-Distribution of Difference Between Samples')"
      ]
     },
     "execution_count": 14,
     "metadata": {},
     "output_type": "execute_result"
    },
    {
     "data": {
      "image/png": "[encoded data removed]",
      "text/plain": [
       "<matplotlib.figure.Figure at 0x122c3f8d0>"
      ]
     },
     "metadata": {},
     "output_type": "display_data"
    }
   ],
   "source": [
    "dist = stats.t(loc=0, scale=np.sqrt(pooled_var), df=18)\n",
    "fig = plt.figure(figsize=(10,10))\n",
    "x = np.linspace(dist.ppf(0.0001), dist.ppf(0.9999), 100)\n",
    "plt.plot(x, dist.pdf(x))\n",
    "plt.plot([dist.ppf(0.05), dist.ppf(0.05)],[0, dist.pdf(dist.ppf(0.05))], linestyle='dotted', color='#1f77b4')\n",
    "X_fill = np.linspace(dist.ppf(0.0001), dist.ppf(0.05))\n",
    "Y = dist.pdf(X_fill)\n",
    "plt.fill_between(X_fill, 0, Y, facecolor='red')\n",
    "plt.ylim(bottom=0)\n",
    "plt.xlabel('Difference in Sample Means')\n",
    "plt.ylabel('Probability Density Function')\n",
    "fig.suptitle('T-Distribution of Difference Between Samples', fontsize=15, y=0.92)"
   ]
  },
  {
   "cell_type": "markdown",
   "metadata": {},
   "source": [
    "## Bootstrapping"
   ]
  },
  {
   "cell_type": "markdown",
   "metadata": {},
   "source": [
    "### Running Example\n",
    "\n",
    "Below we shuffle our two lists 10,000 times and get a list of 10,000 sample differences between our two lists."
   ]
  },
  {
   "cell_type": "code",
   "execution_count": 15,
   "metadata": {
    "collapsed": true
   },
   "outputs": [],
   "source": [
    "np.random.seed(42)\n",
    "diff = []\n",
    "for i in range(10000):\n",
    "    total = np.concatenate((a, b), axis=None)\n",
    "    np.random.shuffle(total)\n",
    "    new_a = total[:len(a)]\n",
    "    new_b = total[len(b):]\n",
    "    diff.append(np.mean(new_b) - np.mean(new_a))"
   ]
  },
  {
   "cell_type": "code",
   "execution_count": 16,
   "metadata": {},
   "outputs": [
    {
     "data": {
      "text/plain": [
       "0.24456000000000003"
      ]
     },
     "execution_count": 16,
     "metadata": {},
     "output_type": "execute_result"
    }
   ],
   "source": [
    "np.mean(diff)"
   ]
  },
  {
   "cell_type": "code",
   "execution_count": 17,
   "metadata": {},
   "outputs": [
    {
     "data": {
      "text/plain": [
       "Text(0.5,0.92,'Bootstrap Distribution of Difference Between Samples')"
      ]
     },
     "execution_count": 17,
     "metadata": {},
     "output_type": "execute_result"
    },
    {
     "data": {
      "image/png": "[encoded data removed]",
      "text/plain": [
       "<matplotlib.figure.Figure at 0x122c26d68>"
      ]
     },
     "metadata": {},
     "output_type": "display_data"
    }
   ],
   "source": [
    "fig = plt.figure(figsize=(10,10))\n",
    "plt.hist(diff, bins=50)\n",
    "plt.xlabel('Diff Between 2018 and 2019')\n",
    "plt.ylabel('Count')\n",
    "fig.suptitle('Bootstrap Distribution of Difference Between Samples', fontsize=15, y=0.92)"
   ]
  },
  {
   "cell_type": "markdown",
   "metadata": {},
   "source": [
    "The 'percentile' function in numpy gets the number value of a certain percentile in an array, which in this case will be 5, since we're doing a one-sided test at the 0.05 significance level."
   ]
  },
  {
   "cell_type": "code",
   "execution_count": 18,
   "metadata": {},
   "outputs": [
    {
     "data": {
      "text/plain": [
       "-28.0"
      ]
     },
     "execution_count": 18,
     "metadata": {},
     "output_type": "execute_result"
    }
   ],
   "source": [
    "np.percentile(diff, 5)"
   ]
  },
  {
   "cell_type": "markdown",
   "metadata": {},
   "source": [
    "The 'percentile of score' function gets the percentile of our value in the list, similar to the percentile point function (ppf) of a formal distribution"
   ]
  },
  {
   "cell_type": "code",
   "execution_count": 19,
   "metadata": {},
   "outputs": [
    {
     "data": {
      "text/plain": [
       "0.06"
      ]
     },
     "execution_count": 19,
     "metadata": {},
     "output_type": "execute_result"
    }
   ],
   "source": [
    "stats.percentileofscore(diff, -50)"
   ]
  },
  {
   "cell_type": "code",
   "execution_count": 20,
   "metadata": {},
   "outputs": [
    {
     "data": {
      "text/plain": [
       "array([-53.4, -50.6, -56. , -57.8, -53.8, -57.8])"
      ]
     },
     "execution_count": 20,
     "metadata": {},
     "output_type": "execute_result"
    }
   ],
   "source": [
    "np.array(diff)[np.array(diff) <= -50]"
   ]
  },
  {
   "cell_type": "code",
   "execution_count": 21,
   "metadata": {},
   "outputs": [
    {
     "data": {
      "text/plain": [
       "0.06"
      ]
     },
     "execution_count": 21,
     "metadata": {},
     "output_type": "execute_result"
    }
   ],
   "source": [
    "(6/10000) * 100"
   ]
  },
  {
   "cell_type": "markdown",
   "metadata": {},
   "source": [
    "Note that the percentile value is 0.06 - specifically there are 6 random values out of 10,000 generated that are less than 10,000"
   ]
  },
  {
   "cell_type": "markdown",
   "metadata": {
    "collapsed": true
   },
   "source": [
    "### Voting Example\n",
    "\n",
    "First we'll build a list of 'True' and 'False' to signify Republicans and Democrats who voted for and against the bill."
   ]
  },
  {
   "cell_type": "code",
   "execution_count": 22,
   "metadata": {
    "collapsed": true
   },
   "outputs": [],
   "source": [
    "reps = np.array([True] * 215 + [False] * 6)\n",
    "dems = np.array([True] * 81 + [False] * 126)"
   ]
  },
  {
   "cell_type": "code",
   "execution_count": 23,
   "metadata": {},
   "outputs": [
    {
     "data": {
      "text/plain": [
       "428"
      ]
     },
     "execution_count": 23,
     "metadata": {},
     "output_type": "execute_result"
    }
   ],
   "source": [
    "len(reps) + len(dems)"
   ]
  },
  {
   "cell_type": "markdown",
   "metadata": {},
   "source": [
    "97% of Republicans voted for the bill, while 39% of Democrats voted for the bill. In total, 69% of the representatives voted 'yes' to the resolution."
   ]
  },
  {
   "cell_type": "code",
   "execution_count": 24,
   "metadata": {},
   "outputs": [
    {
     "data": {
      "text/plain": [
       "0.9728506787330317"
      ]
     },
     "execution_count": 24,
     "metadata": {},
     "output_type": "execute_result"
    }
   ],
   "source": [
    "np.sum(reps)/len(reps)"
   ]
  },
  {
   "cell_type": "code",
   "execution_count": 25,
   "metadata": {},
   "outputs": [
    {
     "data": {
      "text/plain": [
       "0.391304347826087"
      ]
     },
     "execution_count": 25,
     "metadata": {},
     "output_type": "execute_result"
    }
   ],
   "source": [
    "np.sum(dems)/len(dems)"
   ]
  },
  {
   "cell_type": "code",
   "execution_count": 26,
   "metadata": {},
   "outputs": [
    {
     "data": {
      "text/plain": [
       "0.6915887850467289"
      ]
     },
     "execution_count": 26,
     "metadata": {},
     "output_type": "execute_result"
    }
   ],
   "source": [
    "(np.sum(reps) + np.sum(dems)) / (len(reps) + len(dems))"
   ]
  },
  {
   "cell_type": "markdown",
   "metadata": {},
   "source": [
    "Now, 10,000 times, we'll combine the lists of republicans and democrats and shuffle them. Specifically we want to see, if we randomly pick 221 names out of the 428, how many times will at least 97% of the names we choose vote for the bill?"
   ]
  },
  {
   "cell_type": "code",
   "execution_count": 27,
   "metadata": {
    "collapsed": true
   },
   "outputs": [],
   "source": [
    "np.random.seed(42)\n",
    "results = []\n",
    "for i in range(10000):\n",
    "    total = np.concatenate((reps, dems), axis=None)\n",
    "    np.random.shuffle(total)\n",
    "    new_dems = total[:len(dems)]\n",
    "    new_reps = total[len(dems):]\n",
    "    results.append(np.sum(new_reps)/len(new_reps))"
   ]
  },
  {
   "cell_type": "code",
   "execution_count": 28,
   "metadata": {},
   "outputs": [
    {
     "data": {
      "text/plain": [
       "Text(0.5,0.92,'Bootstrap Distribution of Republican Votes')"
      ]
     },
     "execution_count": 28,
     "metadata": {},
     "output_type": "execute_result"
    },
    {
     "data": {
      "image/png": "[encoded data removed]",
      "text/plain": [
       "<matplotlib.figure.Figure at 0x122c26630>"
      ]
     },
     "metadata": {},
     "output_type": "display_data"
    }
   ],
   "source": [
    "fig = plt.figure(figsize=(10,10))\n",
    "plt.hist(results, bins=20)\n",
    "plt.xlabel('% of Yes Republican Votes')\n",
    "plt.ylabel('Count')\n",
    "fig.suptitle('Bootstrap Distribution of Republican Votes', fontsize=15, y=0.92)"
   ]
  },
  {
   "cell_type": "markdown",
   "metadata": {},
   "source": [
    "At a significance level of 0.05 (for a one-sided test), any value above 72.85% is in the rejection region."
   ]
  },
  {
   "cell_type": "code",
   "execution_count": 29,
   "metadata": {},
   "outputs": [
    {
     "data": {
      "text/plain": [
       "0.7285067873303167"
      ]
     },
     "execution_count": 29,
     "metadata": {},
     "output_type": "execute_result"
    }
   ],
   "source": [
    "np.percentile(results, 95)"
   ]
  },
  {
   "cell_type": "markdown",
   "metadata": {},
   "source": [
    "The value of 0.972 is in the 100th percentile of the list - indeed, there are no values in the list equal to or higher than it, and the max value generated randomly is actually 0.778. We can reject the null hypothesis that party affiliation did not affect whether a representative would vote for the resolution."
   ]
  },
  {
   "cell_type": "code",
   "execution_count": 30,
   "metadata": {},
   "outputs": [
    {
     "data": {
      "text/plain": [
       "100.0"
      ]
     },
     "execution_count": 30,
     "metadata": {},
     "output_type": "execute_result"
    }
   ],
   "source": [
    "stats.percentileofscore(results, 0.972)"
   ]
  },
  {
   "cell_type": "code",
   "execution_count": 31,
   "metadata": {},
   "outputs": [
    {
     "data": {
      "text/plain": [
       "array([], dtype=float64)"
      ]
     },
     "execution_count": 31,
     "metadata": {},
     "output_type": "execute_result"
    }
   ],
   "source": [
    "np.array(results)[np.array(results) >= 0.972]"
   ]
  },
  {
   "cell_type": "code",
   "execution_count": 32,
   "metadata": {},
   "outputs": [
    {
     "data": {
      "text/plain": [
       "0.7782805429864253"
      ]
     },
     "execution_count": 32,
     "metadata": {},
     "output_type": "execute_result"
    }
   ],
   "source": [
    "np.max(results)"
   ]
  },
  {
   "cell_type": "markdown",
   "metadata": {},
   "source": [
    "## Chi-Square\n",
    "\n",
    "### Goodness of Fit - Dice Roll Simulation\n",
    "\n",
    "First we can create the expected values for rolling 100 pairs of dice."
   ]
  },
  {
   "cell_type": "code",
   "execution_count": 33,
   "metadata": {},
   "outputs": [
    {
     "data": {
      "text/plain": [
       "array([[ 2.        ,  0.02777778],\n",
       "       [ 3.        ,  0.05555556],\n",
       "       [ 4.        ,  0.08333333],\n",
       "       [ 5.        ,  0.11111111],\n",
       "       [ 6.        ,  0.13888889],\n",
       "       [ 7.        ,  0.16666667],\n",
       "       [ 8.        ,  0.13888889],\n",
       "       [ 9.        ,  0.11111111],\n",
       "       [10.        ,  0.08333333],\n",
       "       [11.        ,  0.05555556],\n",
       "       [12.        ,  0.02777778]])"
      ]
     },
     "execution_count": 33,
     "metadata": {},
     "output_type": "execute_result"
    }
   ],
   "source": [
    "expected_results = []\n",
    "for i in range(1,7):\n",
    "    for j in range(1,7):\n",
    "        total = i + j\n",
    "        expected_results.append(total)\n",
    "expected_values, expected_counts = np.unique(expected_results, return_counts=True)\n",
    "np.transpose((expected_values, expected_counts/np.sum(expected_counts)))"
   ]
  },
  {
   "cell_type": "markdown",
   "metadata": {},
   "source": [
    "Above are the results that can come from rolling a pair of dice along with the probabilities of each outcome. We can multiply this percentage by 100 to get the expected number of times each of these outcomes will occur."
   ]
  },
  {
   "cell_type": "code",
   "execution_count": 34,
   "metadata": {},
   "outputs": [
    {
     "data": {
      "text/plain": [
       "array([[ 2.        ,  2.77777778],\n",
       "       [ 3.        ,  5.55555556],\n",
       "       [ 4.        ,  8.33333333],\n",
       "       [ 5.        , 11.11111111],\n",
       "       [ 6.        , 13.88888889],\n",
       "       [ 7.        , 16.66666667],\n",
       "       [ 8.        , 13.88888889],\n",
       "       [ 9.        , 11.11111111],\n",
       "       [10.        ,  8.33333333],\n",
       "       [11.        ,  5.55555556],\n",
       "       [12.        ,  2.77777778]])"
      ]
     },
     "execution_count": 34,
     "metadata": {},
     "output_type": "execute_result"
    }
   ],
   "source": [
    "expected_counts_100 = expected_counts/np.sum(expected_counts) * 100\n",
    "np.transpose((expected_values, expected_counts_100))"
   ]
  },
  {
   "cell_type": "markdown",
   "metadata": {},
   "source": [
    "Now we'll simulate the results of 100 dice rolls by picking a random outcome between 2 and 12 100 times."
   ]
  },
  {
   "cell_type": "code",
   "execution_count": 35,
   "metadata": {},
   "outputs": [
    {
     "data": {
      "text/plain": [
       "array([[ 2,  7],\n",
       "       [ 3, 10],\n",
       "       [ 4,  9],\n",
       "       [ 5,  9],\n",
       "       [ 6, 10],\n",
       "       [ 7,  6],\n",
       "       [ 8,  9],\n",
       "       [ 9, 14],\n",
       "       [10, 10],\n",
       "       [11,  9],\n",
       "       [12,  7]])"
      ]
     },
     "execution_count": 35,
     "metadata": {},
     "output_type": "execute_result"
    }
   ],
   "source": [
    "np.random.seed(42)\n",
    "observed_results = []\n",
    "for i in range(100):\n",
    "    observed_results.append(np.random.randint(2,13))\n",
    "observed_values, observed_counts = np.unique(observed_results, return_counts=True)\n",
    "np.transpose((observed_values, observed_counts))"
   ]
  },
  {
   "cell_type": "markdown",
   "metadata": {},
   "source": [
    "We can run the 'stats.chisquare' function to do a chi-square test on the two arrays."
   ]
  },
  {
   "cell_type": "code",
   "execution_count": 36,
   "metadata": {},
   "outputs": [
    {
     "data": {
      "text/plain": [
       "Power_divergenceResult(statistic=29.702, pvalue=0.0009582277855238355)"
      ]
     },
     "execution_count": 36,
     "metadata": {},
     "output_type": "execute_result"
    }
   ],
   "source": [
    "stats.chisquare(observed_counts, expected_counts_100)"
   ]
  },
  {
   "cell_type": "markdown",
   "metadata": {},
   "source": [
    "The chi-squared statistics here is 29.702, which we can recreate by manually executing the Chi-Square equation."
   ]
  },
  {
   "cell_type": "code",
   "execution_count": 37,
   "metadata": {},
   "outputs": [
    {
     "name": "stdout",
     "output_type": "stream",
     "text": [
      "29.702\n"
     ]
    }
   ],
   "source": [
    "m = 0\n",
    "for i in range(len(expected_counts_100)):\n",
    "    x = np.power(expected_counts_100[i] - observed_counts[i], 2) / expected_counts_100[i]\n",
    "    m += x\n",
    "print(m)"
   ]
  },
  {
   "cell_type": "markdown",
   "metadata": {},
   "source": [
    "We can also manually build out the chi-square distribution at 10 degrees of freedom to see where the rejection region is."
   ]
  },
  {
   "cell_type": "code",
   "execution_count": 38,
   "metadata": {},
   "outputs": [
    {
     "data": {
      "text/plain": [
       "Text(0.5,0.92,'Chi-Square Distribution with 10 Degrees of Freedom')"
      ]
     },
     "execution_count": 38,
     "metadata": {},
     "output_type": "execute_result"
    },
    {
     "data": {
      "image/png": "[encoded data removed]",
      "text/plain": [
       "<matplotlib.figure.Figure at 0x125144e48>"
      ]
     },
     "metadata": {},
     "output_type": "display_data"
    }
   ],
   "source": [
    "dist = stats.chi2(df=10)\n",
    "fig = plt.figure(figsize=(10,10))\n",
    "x = np.linspace(dist.ppf(0.0001), dist.ppf(0.9999), 100)\n",
    "plt.plot(x, dist.pdf(x))\n",
    "#plt.plot([dist.ppf(0.025), dist.ppf(0.025)],[0, dist.pdf(dist.ppf(0.025))], linestyle='dotted', color='#1f77b4')\n",
    "plt.plot([dist.ppf(0.95), dist.ppf(0.95)],[0, dist.pdf(dist.ppf(0.95))], linestyle='dotted', color='#1f77b4')\n",
    "X_fill = np.linspace(dist.ppf(0.95), dist.ppf(0.999))\n",
    "Y = dist.pdf(X_fill)\n",
    "plt.fill_between(X_fill, 0, Y, facecolor='red')\n",
    "plt.ylim(bottom=0)\n",
    "plt.xlabel('Chi-Square Statistic')\n",
    "plt.ylabel('Probability Density Function')\n",
    "fig.suptitle('Chi-Square Distribution with 10 Degrees of Freedom', fontsize=15, y=0.92)"
   ]
  },
  {
   "cell_type": "markdown",
   "metadata": {},
   "source": [
    "And below we can manually find the p-value found in the function."
   ]
  },
  {
   "cell_type": "code",
   "execution_count": 39,
   "metadata": {},
   "outputs": [
    {
     "data": {
      "text/plain": [
       "0.0009582277855237908"
      ]
     },
     "execution_count": 39,
     "metadata": {},
     "output_type": "execute_result"
    }
   ],
   "source": [
    "(1 - stats.chi2(df=10).cdf(29.702))"
   ]
  },
  {
   "cell_type": "markdown",
   "metadata": {},
   "source": [
    "The rejection region is any value above 18.3"
   ]
  },
  {
   "cell_type": "code",
   "execution_count": 40,
   "metadata": {},
   "outputs": [
    {
     "data": {
      "text/plain": [
       "18.307038053275146"
      ]
     },
     "execution_count": 40,
     "metadata": {},
     "output_type": "execute_result"
    }
   ],
   "source": [
    "stats.chi2(df=10).ppf(0.95)"
   ]
  },
  {
   "cell_type": "markdown",
   "metadata": {},
   "source": [
    "### Homogeneity - Shakespeare"
   ]
  },
  {
   "cell_type": "markdown",
   "metadata": {},
   "source": [
    "While the goodness of fit tests a distribution relative to its *expected values*, the homogeneity tests two discrete distributions against each other to see if they conceivably could come from the same distribution.\n",
    "\n",
    "We could very easily do this with one line of code: the first value produced is the chi-squared value, the second value produced is the p-value, and the third and fourth values are the expected values for each distribution."
   ]
  },
  {
   "cell_type": "code",
   "execution_count": 41,
   "metadata": {},
   "outputs": [
    {
     "data": {
      "text/plain": [
       "(7.904411764705882, 0.048029091843219095, 3, array([[144.,  30.,  24., 102.],\n",
       "        [ 96.,  20.,  16.,  68.]]))"
      ]
     },
     "execution_count": 41,
     "metadata": {},
     "output_type": "execute_result"
    }
   ],
   "source": [
    "stats.chi2_contingency([[150,30,30,90], [90,20,10,80]])"
   ]
  },
  {
   "cell_type": "markdown",
   "metadata": {},
   "source": [
    "We can also manually run the chi-square formula here to get the chi-squared value."
   ]
  },
  {
   "cell_type": "code",
   "execution_count": 42,
   "metadata": {},
   "outputs": [
    {
     "name": "stdout",
     "output_type": "stream",
     "text": [
      "7.904411764705882\n"
     ]
    }
   ],
   "source": [
    "observed = [150,30,30,90,90,20,10,80]\n",
    "expected = [144,30,24,102,96,20,16,68]\n",
    "z = 0\n",
    "for i in range(len(observed)):\n",
    "    x = np.power(observed[i] - expected[i], 2) / expected[i]\n",
    "    z += x\n",
    "print(z)"
   ]
  },
  {
   "cell_type": "markdown",
   "metadata": {},
   "source": [
    "Since there are four degrees in each distribution and two distributions total, the number of degrees of freedom is (4 - 1) \\* (2 - 1), or 3 * 1 = 3.\n",
    "\n",
    "We can confirm the p-value below."
   ]
  },
  {
   "cell_type": "code",
   "execution_count": 43,
   "metadata": {},
   "outputs": [
    {
     "data": {
      "text/plain": [
       "0.04802909184321913"
      ]
     },
     "execution_count": 43,
     "metadata": {},
     "output_type": "execute_result"
    }
   ],
   "source": [
    "1 - stats.chi2(3).cdf(7.904411764705882)"
   ]
  },
  {
   "cell_type": "markdown",
   "metadata": {},
   "source": [
    "The rejection region is any value that's 7.81 or higher."
   ]
  },
  {
   "cell_type": "code",
   "execution_count": 44,
   "metadata": {},
   "outputs": [
    {
     "data": {
      "text/plain": [
       "7.814727903251179"
      ]
     },
     "execution_count": 44,
     "metadata": {},
     "output_type": "execute_result"
    }
   ],
   "source": [
    "stats.chi2(3).ppf(0.95)"
   ]
  },
  {
   "cell_type": "code",
   "execution_count": 45,
   "metadata": {},
   "outputs": [
    {
     "data": {
      "text/plain": [
       "Text(0.5,0.92,'Chi-Square Distribution with 10 Degrees of Freedom')"
      ]
     },
     "execution_count": 45,
     "metadata": {},
     "output_type": "execute_result"
    },
    {
     "data": {
      "image/png": "[encoded data removed]",
      "text/plain": [
       "<matplotlib.figure.Figure at 0x1255e0208>"
      ]
     },
     "metadata": {},
     "output_type": "display_data"
    }
   ],
   "source": [
    "dist = stats.chi2(df=3)\n",
    "fig = plt.figure(figsize=(10,10))\n",
    "x = np.linspace(dist.ppf(0.0000001), dist.ppf(0.9999), 100)\n",
    "plt.plot(x, dist.pdf(x))\n",
    "#plt.plot([dist.ppf(0.025), dist.ppf(0.025)],[0, dist.pdf(dist.ppf(0.025))], linestyle='dotted', color='#1f77b4')\n",
    "plt.plot([dist.ppf(0.95), dist.ppf(0.95)],[0, dist.pdf(dist.ppf(0.95))], linestyle='dotted', color='#1f77b4')\n",
    "X_fill = np.linspace(dist.ppf(0.95), dist.ppf(0.999))\n",
    "Y = dist.pdf(X_fill)\n",
    "plt.fill_between(X_fill, 0, Y, facecolor='red')\n",
    "plt.ylim(bottom=0)\n",
    "plt.xlabel('Chi-Square Statistic')\n",
    "plt.ylabel('Probability Density Function')\n",
    "fig.suptitle('Chi-Square Distribution with 10 Degrees of Freedom', fontsize=15, y=0.92)"
   ]
  },
  {
   "cell_type": "code",
   "execution_count": null,
   "metadata": {
    "collapsed": true
   },
   "outputs": [],
   "source": []
  }
 ],
 "metadata": {
  "kernelspec": {
   "display_name": "Python 3",
   "language": "python",
   "name": "python3"
  },
  "language_info": {
   "codemirror_mode": {
    "name": "ipython",
    "version": 3
   },
   "file_extension": ".py",
   "mimetype": "text/x-python",
   "name": "python",
   "nbconvert_exporter": "python",
   "pygments_lexer": "ipython3",
   "version": "3.6.8"
  }
 },
 "nbformat": 4,
 "nbformat_minor": 2
}
