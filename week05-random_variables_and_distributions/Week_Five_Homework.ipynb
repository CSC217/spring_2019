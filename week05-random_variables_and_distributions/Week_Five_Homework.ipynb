{
 "cells": [
  {
   "cell_type": "markdown",
   "metadata": {},
   "source": [
    "#### 1. From Chapter 5 of Introduction to Probability and Statistics, please do Questions 2,3,6,11,12,13, and 14"
   ]
  },
  {
   "cell_type": "markdown",
   "metadata": {},
   "source": [
    "#### 2. One fun application of bionomial probabilities is in sports, where people can make predictions of playoff series' or even seasons by assessing the binomial probabilities of each matchup.\n",
    "\n",
    "#### Say the New York Knicks get Kevin Durant next year and make it to the NBA Finals. They will face off against Lebron's Los Angeles Lakers in a seven-game series. In a given game, the Knicks chance of winning is 40%.\n",
    "\n",
    "#### With a seven-game series, there are four ways to win. You can win in:\n",
    "* 4 Games\n",
    "* 5 Games (Win 4 Games and Lose 1 Game)\n",
    "* 6 Games (Win 4 Games and Lose 2 Games)\n",
    "* 7 Games (Win 4 Games and Lose 3 Games)\n",
    "\n",
    "#### For each of these scenarios, the Knicks must win the last game. I.e. if they win in five games, they must win the fifth game. *Hint: Think about the odds of them winning 3 out of 4 Games, and then multiply that by the odds of them winning another game*\n",
    "\n",
    "#### What is the probability of the Knicks winning in each of these scenarios? And what is the probability of the Knicks winning overall, given that these are the only scenarios in which they can win (*Hint: Add up the probabilities of them winning in each scenario*)"
   ]
  },
  {
   "cell_type": "markdown",
   "metadata": {},
   "source": [
    "#### 3. Typically, the way a seven game series in the NBA happens is as such: There are two home games, then three away games, then two home games. Say, in our scenario, the two teams play the first two games in Los Angeles, the next three games in New York, and the final two games in Los Angeles.\n",
    "\n",
    "#### For games played in Los Angeles, the Knicks have a 30% chance of winning. For games played in New York, the Knicks have a 60% chance of winning.\n",
    "\n",
    "#### There are still four ways to win. You can win in:\n",
    "* 4 Games (Two on the road, and two at home)\n",
    "* 5 Games (Two on the road, and three at home)\n",
    "* 6 Games (Two on the road, three at home, and one more on the road)\n",
    "* 7 Games (Two on the road, three at home, and two more on the road)\n",
    "\n",
    "#### Again, same as above, the team must win the last game in the series in each of these scenarios. This is different, however, because the odds of winning at home and the odds of winning on the road are different.\n",
    "\n",
    "#### The best way to go about this is to probably manually write out the scenarios in which they can win. I.e.: in order to win the series in 5 games, the Knicks can win one of two of the first two away games and all three home games OR they can win both of the first two away games and two of the three home games. Add these scenarios up to get the total probability of them winning in five games."
   ]
  },
  {
   "cell_type": "markdown",
   "metadata": {},
   "source": [
    "#### 4. In class we found the PMF and CDF for the result of getting two dice rolls. Find all of the results possible when you roll three dice, along with the PMF and CDF for each possibility, along with a graphical representation of each PMF and CDF (*Hint: in class we found the result for two dice by nesting one for loop inside another. How can we find the result for three dice?*). Of course label your graphs appropriately!"
   ]
  },
  {
   "cell_type": "code",
   "execution_count": null,
   "metadata": {
    "collapsed": true
   },
   "outputs": [],
   "source": []
  }
 ],
 "metadata": {
  "kernelspec": {
   "display_name": "Python 3",
   "language": "python",
   "name": "python3"
  },
  "language_info": {
   "codemirror_mode": {
    "name": "ipython",
    "version": 3
   },
   "file_extension": ".py",
   "mimetype": "text/x-python",
   "name": "python",
   "nbconvert_exporter": "python",
   "pygments_lexer": "ipython3",
   "version": "3.6.3"
  }
 },
 "nbformat": 4,
 "nbformat_minor": 2
}
