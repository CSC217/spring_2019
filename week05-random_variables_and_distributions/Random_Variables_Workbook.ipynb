{
 "cells": [
  {
   "cell_type": "code",
   "execution_count": null,
   "metadata": {
    "collapsed": true
   },
   "outputs": [],
   "source": [
    "import numpy as np\n",
    "import matplotlib.pyplot as plt\n",
    "import scipy.stats as stats\n",
    "% matplotlib inline"
   ]
  },
  {
   "cell_type": "markdown",
   "metadata": {},
   "source": [
    "## Randomness"
   ]
  },
  {
   "cell_type": "markdown",
   "metadata": {},
   "source": [
    "Let's briefly review the principles of randomness we discussed last week."
   ]
  },
  {
   "cell_type": "code",
   "execution_count": null,
   "metadata": {},
   "outputs": [],
   "source": [
    "#Randomly Take a Value From a List\n",
    "np.random.choice(['a', 'b', 'c'])"
   ]
  },
  {
   "cell_type": "code",
   "execution_count": null,
   "metadata": {},
   "outputs": [],
   "source": [
    "#Randomly Take an Integer in Range of Numbers\n",
    "np.random.randint(1,5)"
   ]
  },
  {
   "cell_type": "code",
   "execution_count": null,
   "metadata": {},
   "outputs": [],
   "source": [
    "#Randomly Take a Float Value in a Range of Numbers\n",
    "np.random.uniform(0,2)"
   ]
  },
  {
   "cell_type": "markdown",
   "metadata": {},
   "source": [
    "We can also use the 'size' argument in any of these functions to return more than one result"
   ]
  },
  {
   "cell_type": "code",
   "execution_count": null,
   "metadata": {},
   "outputs": [],
   "source": [
    "np.random.uniform(0,2, size=3)"
   ]
  },
  {
   "cell_type": "markdown",
   "metadata": {},
   "source": [
    "What if we want to make reproducible code that uses a 'random' function? We can use the 'np.random.seed' function so that our 'random' value will be the same every time.  \n",
    "\n",
    "**Note that in order for this to work in Jupyter Notebook, you need to run it in the same cell as your random code. If you are running multiple random functions that you want to be re-producible, you need to put this line of code in every cell that has a random function!!**"
   ]
  },
  {
   "cell_type": "code",
   "execution_count": null,
   "metadata": {
    "collapsed": true
   },
   "outputs": [],
   "source": [
    "np.random.seed(42)"
   ]
  },
  {
   "cell_type": "markdown",
   "metadata": {},
   "source": [
    "Below, we can our results when we randomly draw a float value between 0 and 2 10,000 times."
   ]
  },
  {
   "cell_type": "code",
   "execution_count": null,
   "metadata": {},
   "outputs": [],
   "source": [
    "plt.hist(np.random.uniform(0,2, size=10000))"
   ]
  },
  {
   "cell_type": "markdown",
   "metadata": {},
   "source": [
    "## Bernoulli Distribution"
   ]
  },
  {
   "cell_type": "markdown",
   "metadata": {},
   "source": [
    "The Bernoulli distribution is equivalent to flipping a coin. We could simulate this by picking a random value between 0 and 1 and saying that anything above 0.5 is a 'head' and anything below 0.5 is a 'tail'."
   ]
  },
  {
   "cell_type": "code",
   "execution_count": null,
   "metadata": {},
   "outputs": [],
   "source": [
    "np.random.random()"
   ]
  },
  {
   "cell_type": "markdown",
   "metadata": {},
   "source": [
    "Let's say we wanted to \"flip 100 coins\" using this method."
   ]
  },
  {
   "cell_type": "code",
   "execution_count": null,
   "metadata": {},
   "outputs": [],
   "source": [
    "#Note that last week I was using the 'append' function to add to our list of simulated trials, but the below is actually better practice.\n",
    "random_numbers = np.empty(100)\n",
    "for i in range(100):\n",
    "    x = np.random.random()\n",
    "    if x >= 0.5:\n",
    "        random_numbers[i] = 1\n",
    "    else:\n",
    "        random_numbers[i] = 0\n",
    "plt.hist(random_numbers)"
   ]
  },
  {
   "cell_type": "markdown",
   "metadata": {},
   "source": [
    "This is nice to play around with, but we can also use the 'Scipy.Stats' module to create a simulation."
   ]
  },
  {
   "cell_type": "code",
   "execution_count": null,
   "metadata": {},
   "outputs": [],
   "source": [
    "dist = stats.bernoulli(0.5)\n",
    "random_numbers = dist.rvs(size=100)\n",
    "plt.hist(random_numbers)"
   ]
  },
  {
   "cell_type": "markdown",
   "metadata": {},
   "source": [
    "The module also has all of the vital information regarding the distribution."
   ]
  },
  {
   "cell_type": "code",
   "execution_count": null,
   "metadata": {},
   "outputs": [],
   "source": [
    "#Mean\n",
    "dist.mean()"
   ]
  },
  {
   "cell_type": "code",
   "execution_count": null,
   "metadata": {},
   "outputs": [],
   "source": [
    "#Variance\n",
    "dist.var()"
   ]
  },
  {
   "cell_type": "code",
   "execution_count": null,
   "metadata": {},
   "outputs": [],
   "source": [
    "#PMF of 0\n",
    "dist.pmf(0)"
   ]
  },
  {
   "cell_type": "code",
   "execution_count": null,
   "metadata": {},
   "outputs": [],
   "source": [
    "#PMF of 1\n",
    "dist.pmf(1)"
   ]
  },
  {
   "cell_type": "code",
   "execution_count": null,
   "metadata": {},
   "outputs": [],
   "source": [
    "#CDF of 0\n",
    "dist.cdf(0)"
   ]
  },
  {
   "cell_type": "code",
   "execution_count": null,
   "metadata": {},
   "outputs": [],
   "source": [
    "#CDF of 1\n",
    "dist.cdf(1)"
   ]
  },
  {
   "cell_type": "markdown",
   "metadata": {},
   "source": [
    "## Binomial Distribution"
   ]
  },
  {
   "cell_type": "markdown",
   "metadata": {},
   "source": [
    "Let's look at binomial distribution, like flipping 100 coins!"
   ]
  },
  {
   "cell_type": "code",
   "execution_count": null,
   "metadata": {
    "collapsed": true
   },
   "outputs": [],
   "source": [
    "dist = stats.binom(n=100, p=0.5)"
   ]
  },
  {
   "cell_type": "markdown",
   "metadata": {},
   "source": [
    "Below is the result of how many heads we could get if we flipped 100 coins 100 times."
   ]
  },
  {
   "cell_type": "code",
   "execution_count": null,
   "metadata": {},
   "outputs": [],
   "source": [
    "dist.rvs(size=100)"
   ]
  },
  {
   "cell_type": "code",
   "execution_count": null,
   "metadata": {},
   "outputs": [],
   "source": [
    "plt.hist(dist.rvs(size=100))"
   ]
  },
  {
   "cell_type": "code",
   "execution_count": null,
   "metadata": {},
   "outputs": [],
   "source": [
    "#Mean\n",
    "dist.mean()"
   ]
  },
  {
   "cell_type": "code",
   "execution_count": null,
   "metadata": {},
   "outputs": [],
   "source": [
    "#Variance\n",
    "dist.var()"
   ]
  },
  {
   "cell_type": "code",
   "execution_count": null,
   "metadata": {},
   "outputs": [],
   "source": [
    "#PMF of 50\n",
    "dist.pmf(50)"
   ]
  },
  {
   "cell_type": "code",
   "execution_count": null,
   "metadata": {},
   "outputs": [],
   "source": [
    "#CDF of 50\n",
    "dist.cdf(50)"
   ]
  },
  {
   "cell_type": "code",
   "execution_count": null,
   "metadata": {},
   "outputs": [],
   "source": [
    "#Manual Recreation of a CDF\n",
    "x = 0\n",
    "for i in range(51):\n",
    "    x += dist.pmf(i)\n",
    "x"
   ]
  },
  {
   "cell_type": "markdown",
   "metadata": {},
   "source": [
    "Say we have only 3 trials instead of 100 - we can plot the different PMF values for each different number of successes."
   ]
  },
  {
   "cell_type": "code",
   "execution_count": null,
   "metadata": {},
   "outputs": [],
   "source": [
    "values = np.array([])\n",
    "pmf_values = np.array([])\n",
    "for i in range(4):\n",
    "    values = np.append(values, i)\n",
    "    pmf_values = np.append(pmf_values, stats.binom.pmf(n=3, p=0.5, k=i))\n",
    "plt.hist(values, weights=pmf_values)"
   ]
  },
  {
   "cell_type": "markdown",
   "metadata": {},
   "source": [
    "## An Aside: Creating Nicer Plots in Matplotlib"
   ]
  },
  {
   "cell_type": "markdown",
   "metadata": {},
   "source": [
    "Now is as good a time as any to learn a few more things about how to make better visualizations in Python with Matplotlib. We briefly covered some of this in Week 2.\n",
    "\n",
    "First, we can put in a line of code to make our plot bigger. We can use the 'figsize' argument to put in a custom size for the height and width of our graph."
   ]
  },
  {
   "cell_type": "code",
   "execution_count": null,
   "metadata": {},
   "outputs": [],
   "source": [
    "#Plot a Histogram - The Fig Line is to Make the Graph Bigger\n",
    "fig = plt.figure(figsize=(10,10))\n",
    "plt.hist(values, weights=pmf_values)"
   ]
  },
  {
   "cell_type": "markdown",
   "metadata": {},
   "source": [
    "Now we can customize the ticks along the x axis"
   ]
  },
  {
   "cell_type": "code",
   "execution_count": null,
   "metadata": {},
   "outputs": [],
   "source": [
    "fig = plt.figure(figsize=(10,10))\n",
    "plt.xticks(range(4))\n",
    "plt.hist(values, weights=pmf_values)"
   ]
  },
  {
   "cell_type": "markdown",
   "metadata": {},
   "source": [
    "We can add a title..."
   ]
  },
  {
   "cell_type": "code",
   "execution_count": null,
   "metadata": {},
   "outputs": [],
   "source": [
    "fig = plt.figure(figsize=(10,10))\n",
    "plt.xticks(range(4))\n",
    "plt.hist(values, weights=pmf_values)\n",
    "fig.suptitle('PMFs for 3 Coin Flips', fontsize=15, y=0.92)"
   ]
  },
  {
   "cell_type": "markdown",
   "metadata": {},
   "source": [
    "And labels for our X and Y axises:"
   ]
  },
  {
   "cell_type": "code",
   "execution_count": null,
   "metadata": {},
   "outputs": [],
   "source": [
    "fig = plt.figure(figsize=(10,10))\n",
    "plt.xticks(range(4))\n",
    "plt.hist(values, weights=pmf_values)\n",
    "plt.xlabel('# of Heads')\n",
    "plt.ylabel('Probability')\n",
    "fig.suptitle('PMFs for 3 Coin Flips', fontsize=15, y=0.92)"
   ]
  },
  {
   "cell_type": "markdown",
   "metadata": {},
   "source": [
    "Having a title and X and Y labels are **required** for any visualizations submitted for your project."
   ]
  },
  {
   "cell_type": "markdown",
   "metadata": {},
   "source": [
    "### Back to Binomial\n",
    "\n",
    "Below is a CDF plot for the different values in 3 trials."
   ]
  },
  {
   "cell_type": "code",
   "execution_count": null,
   "metadata": {
    "collapsed": true
   },
   "outputs": [],
   "source": [
    "values = np.array([])\n",
    "cdf_values = np.array([])\n",
    "for i in range(4):\n",
    "    values = np.append(values, i)\n",
    "    cdf_values = np.append(cdf_values, stats.binom.cdf(n=3, p=0.5, k=i))"
   ]
  },
  {
   "cell_type": "markdown",
   "metadata": {},
   "source": [
    "You can use either a bar graph or line graph to plot a CDF, but a line graph makes more sense."
   ]
  },
  {
   "cell_type": "code",
   "execution_count": null,
   "metadata": {},
   "outputs": [],
   "source": [
    "fig = plt.figure(figsize=(10,10))\n",
    "plt.xticks(range(4))\n",
    "plt.plot(values, cdf_values,  drawstyle='steps-post', linestyle='-')\n",
    "plt.xlabel('# of Heads')\n",
    "plt.ylabel('Probability')\n",
    "fig.suptitle('CDFs for 3 Coin Flips', fontsize=15, y=0.92)"
   ]
  },
  {
   "cell_type": "markdown",
   "metadata": {},
   "source": [
    "## Geometric Distribution\n",
    "\n",
    "We can also simulate a geometric distribution to see how many coins we will need to flip to get our first heads."
   ]
  },
  {
   "cell_type": "code",
   "execution_count": null,
   "metadata": {
    "collapsed": true
   },
   "outputs": [],
   "source": [
    "dist = stats.geom(0.5)"
   ]
  },
  {
   "cell_type": "code",
   "execution_count": null,
   "metadata": {},
   "outputs": [],
   "source": [
    "dist.mean()"
   ]
  },
  {
   "cell_type": "code",
   "execution_count": null,
   "metadata": {},
   "outputs": [],
   "source": [
    "dist.var()"
   ]
  },
  {
   "cell_type": "code",
   "execution_count": null,
   "metadata": {},
   "outputs": [],
   "source": [
    "dist.pmf(1)"
   ]
  },
  {
   "cell_type": "code",
   "execution_count": null,
   "metadata": {},
   "outputs": [],
   "source": [
    "dist.pmf(2)"
   ]
  },
  {
   "cell_type": "code",
   "execution_count": null,
   "metadata": {},
   "outputs": [],
   "source": [
    "dist.pmf(3)"
   ]
  },
  {
   "cell_type": "code",
   "execution_count": null,
   "metadata": {},
   "outputs": [],
   "source": [
    "dist.cdf(3)"
   ]
  },
  {
   "cell_type": "code",
   "execution_count": null,
   "metadata": {
    "collapsed": true
   },
   "outputs": [],
   "source": [
    "values = np.array([])\n",
    "pmf_values = np.array([])\n",
    "#Why is the minimum one here?\n",
    "for i in range(1,6):\n",
    "    values = np.append(values, i)\n",
    "    pmf_values = np.append(pmf_values, stats.geom.pmf(p=0.5, k=i))"
   ]
  },
  {
   "cell_type": "code",
   "execution_count": null,
   "metadata": {},
   "outputs": [],
   "source": [
    "fig = plt.figure(figsize=(10,10))\n",
    "plt.xticks(range(1,6))\n",
    "plt.hist(values, weights=pmf_values)\n",
    "plt.xlabel('# of Trials Until First Head')\n",
    "plt.ylabel('Probability')\n",
    "fig.suptitle('PMFs for 5 Coin Flips', fontsize=15, y=0.92)"
   ]
  },
  {
   "cell_type": "code",
   "execution_count": null,
   "metadata": {
    "collapsed": true
   },
   "outputs": [],
   "source": [
    "values = np.array([])\n",
    "cdf_values = np.array([])\n",
    "for i in range(1,6):\n",
    "    values = np.append(values, i)\n",
    "    cdf_values = np.append(cdf_values, stats.geom.cdf(p=0.5, k=i))"
   ]
  },
  {
   "cell_type": "code",
   "execution_count": null,
   "metadata": {},
   "outputs": [],
   "source": [
    "fig = plt.figure(figsize=(10,10))\n",
    "plt.xticks(range(1,6))\n",
    "plt.plot(values, cdf_values,  drawstyle='steps-post', linestyle='-')\n",
    "plt.xlabel('# of Trials Until First Head')\n",
    "plt.ylabel('Probability')\n",
    "fig.suptitle('CDFs for 5 Coin Flips', fontsize=15, y=0.92)"
   ]
  },
  {
   "cell_type": "markdown",
   "metadata": {},
   "source": [
    "## Poisson Distribution"
   ]
  },
  {
   "cell_type": "markdown",
   "metadata": {},
   "source": [
    "Say, on average, 2 trains arrive every ten minutes at the 145th Street A stop."
   ]
  },
  {
   "cell_type": "code",
   "execution_count": null,
   "metadata": {
    "collapsed": true
   },
   "outputs": [],
   "source": [
    "dist = stats.poisson(2)"
   ]
  },
  {
   "cell_type": "code",
   "execution_count": null,
   "metadata": {},
   "outputs": [],
   "source": [
    "dist.mean()"
   ]
  },
  {
   "cell_type": "code",
   "execution_count": null,
   "metadata": {},
   "outputs": [],
   "source": [
    "dist.var()"
   ]
  },
  {
   "cell_type": "code",
   "execution_count": null,
   "metadata": {
    "collapsed": true
   },
   "outputs": [],
   "source": [
    "values = np.array([])\n",
    "pmf_values = np.array([])\n",
    "for i in range(10):\n",
    "    values = np.append(values, i)\n",
    "    pmf_values = np.append(pmf_values, stats.poisson.pmf(mu=2, k=i))"
   ]
  },
  {
   "cell_type": "code",
   "execution_count": null,
   "metadata": {},
   "outputs": [],
   "source": [
    "fig = plt.figure(figsize=(10,10))\n",
    "plt.xticks(range(10))\n",
    "plt.hist(values, weights=pmf_values)\n",
    "plt.xlabel('# of Trains')\n",
    "plt.ylabel('Probability')\n",
    "fig.suptitle('PMFs for # of Trains That Will Arrive in a 10-Minute Window', fontsize=15, y=0.92)"
   ]
  },
  {
   "cell_type": "code",
   "execution_count": null,
   "metadata": {
    "collapsed": true
   },
   "outputs": [],
   "source": [
    "values = np.array([])\n",
    "cdf_values = np.array([])\n",
    "for i in range(10):\n",
    "    values = np.append(values, i)\n",
    "    cdf_values = np.append(cdf_values, stats.poisson.cdf(mu=2, k=i))"
   ]
  },
  {
   "cell_type": "code",
   "execution_count": null,
   "metadata": {},
   "outputs": [],
   "source": [
    "fig = plt.figure(figsize=(10,10))\n",
    "plt.xticks(range(10))\n",
    "plt.plot(values, cdf_values,  drawstyle='steps-post', linestyle='-')\n",
    "plt.xlabel('# of Trains')\n",
    "plt.ylabel('Probability')\n",
    "fig.suptitle('PMFs for # of Trains That Will Arrive in a 10-Minute Window', fontsize=15, y=0.92)"
   ]
  },
  {
   "cell_type": "markdown",
   "metadata": {},
   "source": [
    "As we mentioned in class, the Poisson distribution can be used as an approximation to the binomial distribution when there are a high number of trials (n > 100) and a low probability (p < 0.05). Let's see if this works out!\n",
    "\n",
    "Let's look at a binomial function with 100 trials and a 0.01 probability of success per trial and examine the PMF values for 0-4 through both the binomial function and the Poisson function. In this case, the Poisson function will have a Lambda of 1 (100 * 0.01 = 1)"
   ]
  },
  {
   "cell_type": "code",
   "execution_count": null,
   "metadata": {},
   "outputs": [],
   "source": [
    "[stats.binom.pmf(p=0.01, n=100, k=i) for i in range(5)]"
   ]
  },
  {
   "cell_type": "code",
   "execution_count": null,
   "metadata": {},
   "outputs": [],
   "source": [
    "[stats.poisson.pmf(mu=1, k=i) for i in range(5)]"
   ]
  },
  {
   "cell_type": "markdown",
   "metadata": {},
   "source": [
    "Quite close!"
   ]
  },
  {
   "cell_type": "markdown",
   "metadata": {
    "collapsed": true
   },
   "source": [
    "## Discrete Distributions\n",
    "\n",
    "We can also build a custom distribution, such as the results of rolling two dice which we covered in class."
   ]
  },
  {
   "cell_type": "code",
   "execution_count": null,
   "metadata": {
    "collapsed": true
   },
   "outputs": [],
   "source": [
    "two_dice = np.array([])\n",
    "for i in range(1,7):\n",
    "    for j in range(1,7):\n",
    "        two_dice = np.append(two_dice, i + j)"
   ]
  },
  {
   "cell_type": "code",
   "execution_count": null,
   "metadata": {},
   "outputs": [],
   "source": [
    "two_dice"
   ]
  },
  {
   "cell_type": "code",
   "execution_count": null,
   "metadata": {},
   "outputs": [],
   "source": [
    "len(two_dice)"
   ]
  },
  {
   "cell_type": "markdown",
   "metadata": {},
   "source": [
    "Similar to the code we used for Monty Hall last week, we can use the 'np.unique' function to see the unique results in our output, as well as the number of times they occur. As a reminder, this code takes all the unique values found in our answer and gives us a raw count of how many times each value occurs in our array."
   ]
  },
  {
   "cell_type": "code",
   "execution_count": null,
   "metadata": {},
   "outputs": [],
   "source": [
    "np.transpose(np.unique(two_dice, return_counts=True))"
   ]
  },
  {
   "cell_type": "markdown",
   "metadata": {},
   "source": [
    "Transposing it is good for visualization purposes, but let's look at the actual output, two arrays - one with the unique results of two dice rolls and one with the respective counts for each of those results."
   ]
  },
  {
   "cell_type": "code",
   "execution_count": null,
   "metadata": {},
   "outputs": [],
   "source": [
    "np.unique(two_dice, return_counts=True)"
   ]
  },
  {
   "cell_type": "markdown",
   "metadata": {},
   "source": [
    "We can then assign these two arrays to variables."
   ]
  },
  {
   "cell_type": "code",
   "execution_count": null,
   "metadata": {
    "collapsed": true
   },
   "outputs": [],
   "source": [
    "two_dice_unique, counts = np.unique(two_dice, return_counts=True)"
   ]
  },
  {
   "cell_type": "code",
   "execution_count": null,
   "metadata": {},
   "outputs": [],
   "source": [
    "two_dice_unique"
   ]
  },
  {
   "cell_type": "code",
   "execution_count": null,
   "metadata": {},
   "outputs": [],
   "source": [
    "counts"
   ]
  },
  {
   "cell_type": "markdown",
   "metadata": {},
   "source": [
    "We can see that the sum of the 'counts' variable is equal to the total sample space."
   ]
  },
  {
   "cell_type": "code",
   "execution_count": null,
   "metadata": {},
   "outputs": [],
   "source": [
    "np.sum(counts)"
   ]
  },
  {
   "cell_type": "markdown",
   "metadata": {},
   "source": [
    "Below we can get the PMF of each result:"
   ]
  },
  {
   "cell_type": "code",
   "execution_count": null,
   "metadata": {},
   "outputs": [],
   "source": [
    "counts/np.sum(counts)"
   ]
  },
  {
   "cell_type": "code",
   "execution_count": null,
   "metadata": {},
   "outputs": [],
   "source": [
    "np.transpose((two_dice_unique, counts/np.sum(counts)))"
   ]
  },
  {
   "cell_type": "markdown",
   "metadata": {},
   "source": [
    "And below we can get the CDF of reach result:"
   ]
  },
  {
   "cell_type": "code",
   "execution_count": null,
   "metadata": {},
   "outputs": [],
   "source": [
    "np.cumsum(counts)/np.sum(counts)"
   ]
  },
  {
   "cell_type": "code",
   "execution_count": null,
   "metadata": {},
   "outputs": [],
   "source": [
    "np.transpose((two_dice_unique, np.cumsum(counts)/np.sum(counts)))"
   ]
  },
  {
   "cell_type": "code",
   "execution_count": null,
   "metadata": {},
   "outputs": [],
   "source": [
    "fig = plt.figure(figsize=(10,10))\n",
    "plt.xticks(two_dice_unique)\n",
    "plt.hist(two_dice_unique, weights=counts/np.sum(counts), bins=25)\n",
    "plt.xlabel('Dice Roll Results')\n",
    "plt.ylabel('Probability Mass Function')\n",
    "fig.suptitle('PMFs for Rolling Two Dice', fontsize=15, y=0.92)"
   ]
  },
  {
   "cell_type": "code",
   "execution_count": null,
   "metadata": {},
   "outputs": [],
   "source": [
    "fig = plt.figure(figsize=(10,10))\n",
    "plt.xticks(two_dice_unique)\n",
    "plt.plot(two_dice_unique, np.cumsum(counts)/np.sum(counts),  drawstyle='steps-post', linestyle='-')\n",
    "plt.xlabel('Dice Roll Results')\n",
    "plt.ylabel('Cumulative Distribution Function')\n",
    "fig.suptitle('CDFs for Two Dice', fontsize=15, y=0.92)"
   ]
  },
  {
   "cell_type": "code",
   "execution_count": null,
   "metadata": {
    "collapsed": true
   },
   "outputs": [],
   "source": []
  }
 ],
 "metadata": {
  "kernelspec": {
   "display_name": "Python 3",
   "language": "python",
   "name": "python3"
  },
  "language_info": {
   "codemirror_mode": {
    "name": "ipython",
    "version": 3
   },
   "file_extension": ".py",
   "mimetype": "text/x-python",
   "name": "python",
   "nbconvert_exporter": "python",
   "pygments_lexer": "ipython3",
   "version": "3.6.3"
  }
 },
 "nbformat": 4,
 "nbformat_minor": 2
}
