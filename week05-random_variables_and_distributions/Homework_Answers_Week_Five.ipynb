{
 "cells": [
  {
   "cell_type": "code",
   "execution_count": 1,
   "metadata": {
    "collapsed": true
   },
   "outputs": [],
   "source": [
    "from scipy import stats\n",
    "import numpy as np"
   ]
  },
  {
   "cell_type": "markdown",
   "metadata": {},
   "source": [
    "## Chapter 5\n",
    "1,2,3,6,11,12,13,14"
   ]
  },
  {
   "cell_type": "markdown",
   "metadata": {},
   "source": [
    "    1. A satellite system consists of 4 components and can function adequately if at least 2 of the 4 components are in working condition. If each component is, independently, in working condition with probability .6, what is the probability that the system functions adequately?"
   ]
  },
  {
   "cell_type": "code",
   "execution_count": 2,
   "metadata": {},
   "outputs": [
    {
     "data": {
      "text/plain": [
       "0.8208"
      ]
     },
     "execution_count": 2,
     "metadata": {},
     "output_type": "execute_result"
    }
   ],
   "source": [
    "1 - stats.binom.cdf(n=4, p=0.6, k=1)"
   ]
  },
  {
   "cell_type": "code",
   "execution_count": 3,
   "metadata": {},
   "outputs": [
    {
     "data": {
      "text/plain": [
       "0.8208000000000002"
      ]
     },
     "execution_count": 3,
     "metadata": {},
     "output_type": "execute_result"
    }
   ],
   "source": [
    "stats.binom.pmf(n=4, p=0.6, k=2) + stats.binom.pmf(n=4, p=0.6, k=3) + stats.binom.pmf(n=4, p=0.6, k=4)"
   ]
  },
  {
   "cell_type": "markdown",
   "metadata": {},
   "source": [
    "    2. A communications channel transmits the digits 0 and 1. However, due to static, the digit transmitted is incorrectly received with probability .2. Suppose that we want to transmit an important message consisting of one binary digit. To reduce the chance of error, we transmit 00000 instead of 0 and 11111 instead of 1. If the receiver of the message uses “majority” decoding, what is the probability that the message will be incorrectly decoded? What independence assumptions are you making? (By majority decoding we mean that the message is decoded as “0” if there are at least three zeros in the message received and as “1” otherwise.)"
   ]
  },
  {
   "cell_type": "code",
   "execution_count": 4,
   "metadata": {},
   "outputs": [
    {
     "data": {
      "text/plain": [
       "0.05791999999999997"
      ]
     },
     "execution_count": 4,
     "metadata": {},
     "output_type": "execute_result"
    }
   ],
   "source": [
    "1 - stats.binom.cdf(n=5, p=0.2, k=2)"
   ]
  },
  {
   "cell_type": "markdown",
   "metadata": {},
   "source": [
    "We are making the assumption that all errors in transmission are independent of each other."
   ]
  },
  {
   "cell_type": "markdown",
   "metadata": {},
   "source": [
    "    3. If each voter is for Proposition A with probability .7, what is the probability that exactly 7 of 10 voters are for this proposition?"
   ]
  },
  {
   "cell_type": "code",
   "execution_count": 5,
   "metadata": {},
   "outputs": [
    {
     "data": {
      "text/plain": [
       "0.26682793200000016"
      ]
     },
     "execution_count": 5,
     "metadata": {},
     "output_type": "execute_result"
    }
   ],
   "source": [
    "stats.binom.pmf(n=10, p=0.7, k=7)"
   ]
  },
  {
   "cell_type": "markdown",
   "metadata": {},
   "source": [
    "    6. Let X be a binomial random variable with E[X ] = 7 and Var(X ) = 2.1 Find\n",
    "    (a) P{X = 4};\n",
    "    (b) P{X > 12}."
   ]
  },
  {
   "cell_type": "markdown",
   "metadata": {},
   "source": [
    "np = 7  \n",
    "np(1 - p) = 2.1  \n",
    "(1 - p) = 0.3  \n",
    "p = 0.7  \n",
    "n = 10"
   ]
  },
  {
   "cell_type": "markdown",
   "metadata": {},
   "source": [
    "a)"
   ]
  },
  {
   "cell_type": "code",
   "execution_count": 6,
   "metadata": {},
   "outputs": [
    {
     "data": {
      "text/plain": [
       "0.03675690900000004"
      ]
     },
     "execution_count": 6,
     "metadata": {},
     "output_type": "execute_result"
    }
   ],
   "source": [
    "stats.binom.pmf(n=10, p=0.7, k=4)"
   ]
  },
  {
   "cell_type": "markdown",
   "metadata": {},
   "source": [
    "b)"
   ]
  },
  {
   "cell_type": "code",
   "execution_count": 7,
   "metadata": {},
   "outputs": [
    {
     "data": {
      "text/plain": [
       "0.0"
      ]
     },
     "execution_count": 7,
     "metadata": {},
     "output_type": "execute_result"
    }
   ],
   "source": [
    "1 - stats.binom.cdf(n=10, p=0.7, k=12)"
   ]
  },
  {
   "cell_type": "markdown",
   "metadata": {},
   "source": [
    "    11. If you buy a lottery ticket in 50 lotteries, in each of which your chance of winning a prize is 1/100 , what is the (approximate) probability that you will win a prize (a) at least once, (b) exactly once, and (c) at least twice?"
   ]
  },
  {
   "cell_type": "markdown",
   "metadata": {},
   "source": [
    "a)"
   ]
  },
  {
   "cell_type": "code",
   "execution_count": 8,
   "metadata": {},
   "outputs": [
    {
     "data": {
      "text/plain": [
       "0.39499393286246365"
      ]
     },
     "execution_count": 8,
     "metadata": {},
     "output_type": "execute_result"
    }
   ],
   "source": [
    "1 - stats.binom.cdf(n=50, p=0.01, k=0)"
   ]
  },
  {
   "cell_type": "markdown",
   "metadata": {},
   "source": [
    "b)"
   ]
  },
  {
   "cell_type": "code",
   "execution_count": 9,
   "metadata": {},
   "outputs": [
    {
     "data": {
      "text/plain": [
       "0.30555861976643506"
      ]
     },
     "execution_count": 9,
     "metadata": {},
     "output_type": "execute_result"
    }
   ],
   "source": [
    "stats.binom.pmf(n=50, p=0.01, k=1)"
   ]
  },
  {
   "cell_type": "markdown",
   "metadata": {},
   "source": [
    "c)"
   ]
  },
  {
   "cell_type": "code",
   "execution_count": 10,
   "metadata": {},
   "outputs": [
    {
     "data": {
      "text/plain": [
       "0.08943531309603081"
      ]
     },
     "execution_count": 10,
     "metadata": {},
     "output_type": "execute_result"
    }
   ],
   "source": [
    "1 - stats.binom.cdf(n=50, p=0.01, k=1)"
   ]
  },
  {
   "cell_type": "markdown",
   "metadata": {},
   "source": [
    "    12. The number of times that an individual contracts a cold in a given year is a Poisson random variable with parameter λ = 3. Suppose a new wonder drug (based on large quantities of vitamin C) has just been marketed that reduces the Poisson parameter to λ = 2 for 75 percent of the population. For the other 25 percent of the population, the drug has no appreciable effect on colds. If an individual tries the drug for a year and has 0 colds in that time, how likely is it that the drug is beneficial for him or her?"
   ]
  },
  {
   "cell_type": "code",
   "execution_count": 11,
   "metadata": {
    "collapsed": true
   },
   "outputs": [],
   "source": [
    "no_effect = stats.poisson(3)\n",
    "effect = stats.poisson(2)"
   ]
  },
  {
   "cell_type": "code",
   "execution_count": 12,
   "metadata": {},
   "outputs": [
    {
     "data": {
      "text/plain": [
       "0.890768227426964"
      ]
     },
     "execution_count": 12,
     "metadata": {},
     "output_type": "execute_result"
    }
   ],
   "source": [
    "(effect.pmf(0) * 0.75) / ((effect.pmf(0) * 0.75) + (no_effect.pmf(0) * 0.25))"
   ]
  },
  {
   "cell_type": "markdown",
   "metadata": {},
   "source": [
    "    13. In the 1980s, an average of 121.95 workers died on the job each week. Give estimates of the following quantities:\n",
    "    (a) the proportion of weeks having 130 deaths or more;\n",
    "    (b) the proportion of weeks having 100 deaths or less.\n",
    "    Explain your reasoning."
   ]
  },
  {
   "cell_type": "code",
   "execution_count": 13,
   "metadata": {
    "collapsed": true
   },
   "outputs": [],
   "source": [
    "poisson_function = stats.poisson(121.95)"
   ]
  },
  {
   "cell_type": "markdown",
   "metadata": {},
   "source": [
    "a)"
   ]
  },
  {
   "cell_type": "code",
   "execution_count": 14,
   "metadata": {},
   "outputs": [
    {
     "data": {
      "text/plain": [
       "0.2445437974099246"
      ]
     },
     "execution_count": 14,
     "metadata": {},
     "output_type": "execute_result"
    }
   ],
   "source": [
    "1 - poisson_function.cdf(129)"
   ]
  },
  {
   "cell_type": "markdown",
   "metadata": {},
   "source": [
    "b)"
   ]
  },
  {
   "cell_type": "code",
   "execution_count": 15,
   "metadata": {},
   "outputs": [
    {
     "data": {
      "text/plain": [
       "0.02338532006182209"
      ]
     },
     "execution_count": 15,
     "metadata": {},
     "output_type": "execute_result"
    }
   ],
   "source": [
    "poisson_function.cdf(100)"
   ]
  },
  {
   "cell_type": "markdown",
   "metadata": {},
   "source": [
    "    14. . Approximately 80,000 marriages took place in the state of New York last year.\n",
    "    Estimate the probability that for at least one of these couples\n",
    "    (a) both partners were born on April 30;\n",
    "    (b) both partners celebrated their birthday on the same day of the year.\n",
    "    State your assumptions."
   ]
  },
  {
   "cell_type": "markdown",
   "metadata": {},
   "source": [
    "Assumptions:\n",
    "\n",
    "1) 365 days in a Year  \n",
    "2) Probability of Two People Sharing the Same Birthday is 1/365  \n",
    "3) Probability of Two People Sharing the Same Birthday on April 30 is (1/365) * (1/365)  \n",
    "4) All couples are independent from each other  \n",
    "5) People are not more or less likely to get married if they share the same birthday"
   ]
  },
  {
   "cell_type": "markdown",
   "metadata": {},
   "source": [
    "a)"
   ]
  },
  {
   "cell_type": "code",
   "execution_count": 16,
   "metadata": {},
   "outputs": [
    {
     "data": {
      "text/plain": [
       "0.4514572980608733"
      ]
     },
     "execution_count": 16,
     "metadata": {},
     "output_type": "execute_result"
    }
   ],
   "source": [
    "1 - stats.binom(p=(1/365 * 1/365), n=80000).cdf(0)"
   ]
  },
  {
   "cell_type": "code",
   "execution_count": 17,
   "metadata": {},
   "outputs": [
    {
     "data": {
      "text/plain": [
       "0.4514560618264556"
      ]
     },
     "execution_count": 17,
     "metadata": {},
     "output_type": "execute_result"
    }
   ],
   "source": [
    "poisson_april_30 = stats.poisson((1/365) * (1/365) * 80000)\n",
    "1 - poisson_april_30.cdf(0)"
   ]
  },
  {
   "cell_type": "markdown",
   "metadata": {},
   "source": [
    "b)"
   ]
  },
  {
   "cell_type": "code",
   "execution_count": 18,
   "metadata": {},
   "outputs": [
    {
     "data": {
      "text/plain": [
       "1.0"
      ]
     },
     "execution_count": 18,
     "metadata": {},
     "output_type": "execute_result"
    }
   ],
   "source": [
    "1 - stats.binom(p=(1/365), n=80000).cdf(0)"
   ]
  },
  {
   "cell_type": "code",
   "execution_count": 19,
   "metadata": {},
   "outputs": [
    {
     "data": {
      "text/plain": [
       "1.0"
      ]
     },
     "execution_count": 19,
     "metadata": {},
     "output_type": "execute_result"
    }
   ],
   "source": [
    "poisson_april_30 = stats.poisson((1/365) * 80000)\n",
    "1 - poisson_april_30.cdf(0)"
   ]
  },
  {
   "cell_type": "markdown",
   "metadata": {},
   "source": [
    "### Sweep in 4 Games\n",
    "\n",
    "Win all Four Games"
   ]
  },
  {
   "cell_type": "code",
   "execution_count": 20,
   "metadata": {},
   "outputs": [
    {
     "data": {
      "text/plain": [
       "0.025600000000000008"
      ]
     },
     "execution_count": 20,
     "metadata": {},
     "output_type": "execute_result"
    }
   ],
   "source": [
    "four_games = stats.binom.pmf(p=0.4, n=4, k=4)\n",
    "four_games"
   ]
  },
  {
   "cell_type": "markdown",
   "metadata": {},
   "source": [
    "### Win in 5 Games\n",
    "\n",
    "Win Three of the First Four Games and the Fifth Game"
   ]
  },
  {
   "cell_type": "code",
   "execution_count": 21,
   "metadata": {},
   "outputs": [
    {
     "data": {
      "text/plain": [
       "0.06144000000000003"
      ]
     },
     "execution_count": 21,
     "metadata": {},
     "output_type": "execute_result"
    }
   ],
   "source": [
    "five_games = stats.binom.pmf(p=0.4, n=4, k=3) * 0.4\n",
    "five_games"
   ]
  },
  {
   "cell_type": "markdown",
   "metadata": {},
   "source": [
    "### Win in 6 Games\n",
    "\n",
    "Win Three of the First Five Games and the Sixth Game"
   ]
  },
  {
   "cell_type": "code",
   "execution_count": 22,
   "metadata": {},
   "outputs": [
    {
     "data": {
      "text/plain": [
       "0.09216"
      ]
     },
     "execution_count": 22,
     "metadata": {},
     "output_type": "execute_result"
    }
   ],
   "source": [
    "six_games = stats.binom.pmf(p=0.4, n=5, k=3) * 0.4\n",
    "six_games"
   ]
  },
  {
   "cell_type": "markdown",
   "metadata": {},
   "source": [
    "### Win in 7 Games\n",
    "\n",
    "Win Three of the First Six Games and the Seventh Game"
   ]
  },
  {
   "cell_type": "code",
   "execution_count": 23,
   "metadata": {},
   "outputs": [
    {
     "data": {
      "text/plain": [
       "0.11059200000000005"
      ]
     },
     "execution_count": 23,
     "metadata": {},
     "output_type": "execute_result"
    }
   ],
   "source": [
    "seven_games = stats.binom.pmf(p=0.4, n=6, k=3) * 0.4\n",
    "seven_games"
   ]
  },
  {
   "cell_type": "code",
   "execution_count": 24,
   "metadata": {},
   "outputs": [
    {
     "data": {
      "text/plain": [
       "0.28979200000000005"
      ]
     },
     "execution_count": 24,
     "metadata": {},
     "output_type": "execute_result"
    }
   ],
   "source": [
    "four_games + five_games + six_games + seven_games"
   ]
  },
  {
   "cell_type": "markdown",
   "metadata": {},
   "source": [
    "### Win in 4 Games\n",
    "\n",
    "Win First Two Away Games and First Two Home Games"
   ]
  },
  {
   "cell_type": "code",
   "execution_count": 25,
   "metadata": {},
   "outputs": [
    {
     "data": {
      "text/plain": [
       "0.03239999999999999"
      ]
     },
     "execution_count": 25,
     "metadata": {},
     "output_type": "execute_result"
    }
   ],
   "source": [
    "all_four = stats.binom.pmf(p=0.3, n=2, k=2) * stats.binom.pmf(p=0.6, n=2, k=2)\n",
    "all_four"
   ]
  },
  {
   "cell_type": "markdown",
   "metadata": {},
   "source": [
    "### Win in 5 Games\n",
    "\n",
    "a) Win One of Two Away Games and All Three Home Games  \n",
    "b) Win Two Away Games, One of the First Two Home Games, and the Third Home Game"
   ]
  },
  {
   "cell_type": "code",
   "execution_count": 26,
   "metadata": {},
   "outputs": [
    {
     "data": {
      "text/plain": [
       "0.09071999999999997"
      ]
     },
     "execution_count": 26,
     "metadata": {},
     "output_type": "execute_result"
    }
   ],
   "source": [
    "five_a = (stats.binom.pmf(p=0.3, n=2, k=1) * stats.binom.pmf(p=0.6, n=3, k=3))\n",
    "five_a"
   ]
  },
  {
   "cell_type": "code",
   "execution_count": 27,
   "metadata": {},
   "outputs": [
    {
     "data": {
      "text/plain": [
       "0.02591999999999999"
      ]
     },
     "execution_count": 27,
     "metadata": {},
     "output_type": "execute_result"
    }
   ],
   "source": [
    "five_b = (stats.binom.pmf(p=0.3, n=2, k=2) * stats.binom.pmf(p=0.6, n=2, k=1)) * 0.6\n",
    "five_b"
   ]
  },
  {
   "cell_type": "code",
   "execution_count": 28,
   "metadata": {},
   "outputs": [
    {
     "data": {
      "text/plain": [
       "0.11663999999999997"
      ]
     },
     "execution_count": 28,
     "metadata": {},
     "output_type": "execute_result"
    }
   ],
   "source": [
    "all_five = five_a + five_b\n",
    "all_five"
   ]
  },
  {
   "cell_type": "markdown",
   "metadata": {},
   "source": [
    "### Win in 6 Games\n",
    "a) Win First Two Away Games, One of Three Home Games, and Third Away Game  \n",
    "b) Win One of Two Away Games, Two of Three Home Games, and Third Away Game  \n",
    "c) Win Zero of Two Away Games, Three of Three Home Games, and Third Away Game  "
   ]
  },
  {
   "cell_type": "code",
   "execution_count": 29,
   "metadata": {},
   "outputs": [
    {
     "data": {
      "text/plain": [
       "0.007775999999999997"
      ]
     },
     "execution_count": 29,
     "metadata": {},
     "output_type": "execute_result"
    }
   ],
   "source": [
    "six_a = (stats.binom.pmf(p=0.3, n=2, k=2)) * (stats.binom.pmf(p=0.6, n=3, k=1)) * 0.3\n",
    "six_a"
   ]
  },
  {
   "cell_type": "code",
   "execution_count": 30,
   "metadata": {},
   "outputs": [
    {
     "data": {
      "text/plain": [
       "0.05443199999999998"
      ]
     },
     "execution_count": 30,
     "metadata": {},
     "output_type": "execute_result"
    }
   ],
   "source": [
    "six_b = (stats.binom.pmf(p=0.3, n=2, k=1)) * (stats.binom.pmf(p=0.6, n=3, k=2)) * 0.3\n",
    "six_b"
   ]
  },
  {
   "cell_type": "code",
   "execution_count": 31,
   "metadata": {},
   "outputs": [
    {
     "data": {
      "text/plain": [
       "0.031751999999999996"
      ]
     },
     "execution_count": 31,
     "metadata": {},
     "output_type": "execute_result"
    }
   ],
   "source": [
    "six_c = (stats.binom.pmf(p=0.3, n=2, k=0)) * (stats.binom.pmf(p=0.6, n=3, k=3)) * 0.3\n",
    "six_c"
   ]
  },
  {
   "cell_type": "code",
   "execution_count": 32,
   "metadata": {},
   "outputs": [
    {
     "data": {
      "text/plain": [
       "0.09395999999999997"
      ]
     },
     "execution_count": 32,
     "metadata": {},
     "output_type": "execute_result"
    }
   ],
   "source": [
    "all_six = six_a + six_b + six_c\n",
    "all_six"
   ]
  },
  {
   "cell_type": "markdown",
   "metadata": {},
   "source": [
    "### Win in 7 Games\n",
    "\n",
    "a) Win First Two Away Games, Zero of Three Home Games, and Win Second Two Away Games  \n",
    "b) Win First Two Away Games, One of Three Home Games, Lose Third Away Game, and Win Fourth Away Game  \n",
    "c) Win One of Two Away Games, Two of Three Home Games, Lose Third Away Game, and Win Fourth Away Game  \n",
    "d) Win One of Two Away Games, One of Three Home Games, and Win Second Two Away Games  \n",
    "e) Win Zero of Two Away Games, Two of Three Home Games, and Win Second Two Away Games  \n",
    "f) Win Zero of Two Away Games, Three of Three Home Games, Lose Third Away Game, and Win Fourth Away Game  "
   ]
  },
  {
   "cell_type": "code",
   "execution_count": 33,
   "metadata": {},
   "outputs": [
    {
     "data": {
      "text/plain": [
       "0.0005183999999999999"
      ]
     },
     "execution_count": 33,
     "metadata": {},
     "output_type": "execute_result"
    }
   ],
   "source": [
    "seven_a = (stats.binom.pmf(p=0.3, n=4, k=4)) * (stats.binom.pmf(p=0.6, n=3, k=0))\n",
    "seven_a"
   ]
  },
  {
   "cell_type": "code",
   "execution_count": 34,
   "metadata": {},
   "outputs": [
    {
     "data": {
      "text/plain": [
       "0.005443199999999998"
      ]
     },
     "execution_count": 34,
     "metadata": {},
     "output_type": "execute_result"
    }
   ],
   "source": [
    "seven_b = (stats.binom.pmf(p=0.3, n=2, k=2)) * (stats.binom.pmf(p=0.6, n=3, k=1)) * 0.7 * 0.3\n",
    "seven_b"
   ]
  },
  {
   "cell_type": "code",
   "execution_count": 35,
   "metadata": {},
   "outputs": [
    {
     "data": {
      "text/plain": [
       "0.03810239999999999"
      ]
     },
     "execution_count": 35,
     "metadata": {},
     "output_type": "execute_result"
    }
   ],
   "source": [
    "seven_c = (stats.binom.pmf(p=0.3, n=2, k=1)) * (stats.binom.pmf(p=0.6, n=3, k=2)) * 0.7 * 0.3\n",
    "seven_c"
   ]
  },
  {
   "cell_type": "code",
   "execution_count": 36,
   "metadata": {},
   "outputs": [
    {
     "data": {
      "text/plain": [
       "0.010886399999999996"
      ]
     },
     "execution_count": 36,
     "metadata": {},
     "output_type": "execute_result"
    }
   ],
   "source": [
    "seven_d = (stats.binom.pmf(p=0.3, n=2, k=1)) * (stats.binom.pmf(p=0.6, n=3, k=1)) * (stats.binom.pmf(p=0.3, n=2, k=2))\n",
    "seven_d"
   ]
  },
  {
   "cell_type": "code",
   "execution_count": 37,
   "metadata": {},
   "outputs": [
    {
     "data": {
      "text/plain": [
       "0.019051199999999994"
      ]
     },
     "execution_count": 37,
     "metadata": {},
     "output_type": "execute_result"
    }
   ],
   "source": [
    "seven_e = (stats.binom.pmf(p=0.3, n=2, k=0)) * (stats.binom.pmf(p=0.6, n=3, k=2)) * (stats.binom.pmf(p=0.3, n=2, k=2))\n",
    "seven_e"
   ]
  },
  {
   "cell_type": "code",
   "execution_count": 38,
   "metadata": {},
   "outputs": [
    {
     "data": {
      "text/plain": [
       "0.022226399999999997"
      ]
     },
     "execution_count": 38,
     "metadata": {},
     "output_type": "execute_result"
    }
   ],
   "source": [
    "seven_f = (stats.binom.pmf(p=0.3, n=2, k=0)) * (stats.binom.pmf(p=0.6, n=3, k=3)) * 0.7 * 0.3\n",
    "seven_f"
   ]
  },
  {
   "cell_type": "code",
   "execution_count": 39,
   "metadata": {},
   "outputs": [
    {
     "data": {
      "text/plain": [
       "0.09622799999999997"
      ]
     },
     "execution_count": 39,
     "metadata": {},
     "output_type": "execute_result"
    }
   ],
   "source": [
    "all_seven = seven_a + seven_b + seven_c + seven_d + seven_e + seven_f\n",
    "all_seven"
   ]
  },
  {
   "cell_type": "code",
   "execution_count": 40,
   "metadata": {},
   "outputs": [
    {
     "data": {
      "text/plain": [
       "0.3392279999999999"
      ]
     },
     "execution_count": 40,
     "metadata": {},
     "output_type": "execute_result"
    }
   ],
   "source": [
    "all_four + all_five + all_six + all_seven"
   ]
  },
  {
   "cell_type": "code",
   "execution_count": 41,
   "metadata": {
    "collapsed": true
   },
   "outputs": [],
   "source": [
    "def game_simulator(win_probability, series_length=7, trial_runs=10000):\n",
    "    all_time_wins = 0\n",
    "    all_time_series = 0\n",
    "    while all_time_series < trial_runs:\n",
    "        all_time_series += 1\n",
    "        wins = 0\n",
    "        for i in range(series_length):\n",
    "            if stats.bernoulli(win_probability).rvs() == 1:\n",
    "                wins += 1\n",
    "            if wins == 4:\n",
    "                all_time_wins += 1\n",
    "                break\n",
    "    return all_time_wins/all_time_series"
   ]
  },
  {
   "cell_type": "markdown",
   "metadata": {},
   "source": [
    "## Probability of Winning Total Series"
   ]
  },
  {
   "cell_type": "code",
   "execution_count": 42,
   "metadata": {},
   "outputs": [
    {
     "data": {
      "text/plain": [
       "0.2908"
      ]
     },
     "execution_count": 42,
     "metadata": {},
     "output_type": "execute_result"
    }
   ],
   "source": [
    "np.random.seed(42)\n",
    "game_simulator(0.4)"
   ]
  },
  {
   "cell_type": "code",
   "execution_count": 43,
   "metadata": {
    "collapsed": true
   },
   "outputs": [],
   "source": [
    "def game_simulator_home_away(home_probability, away_probability, series_length=7, trial_runs=10000):\n",
    "    all_time_wins = 0\n",
    "    all_time_series = 0\n",
    "    while all_time_series < trial_runs:\n",
    "        all_time_series += 1\n",
    "        wins = 0\n",
    "        for i in range(series_length):\n",
    "            if i in [0,1,5,6]:\n",
    "                if stats.bernoulli(away_probability).rvs() == 1:\n",
    "                    wins += 1\n",
    "            elif i in [2,3,4]:\n",
    "                if stats.bernoulli(home_probability).rvs() == 1:\n",
    "                    wins += 1\n",
    "            if wins == 4:\n",
    "                all_time_wins += 1\n",
    "                break\n",
    "    print(all_time_wins/all_time_series)"
   ]
  },
  {
   "cell_type": "code",
   "execution_count": 44,
   "metadata": {},
   "outputs": [
    {
     "name": "stdout",
     "output_type": "stream",
     "text": [
      "0.3417\n"
     ]
    }
   ],
   "source": [
    "np.random.seed(42)\n",
    "game_simulator_home_away(home_probability=0.6, away_probability=0.3)"
   ]
  }
 ],
 "metadata": {
  "kernelspec": {
   "display_name": "Python 3",
   "language": "python",
   "name": "python3"
  },
  "language_info": {
   "codemirror_mode": {
    "name": "ipython",
    "version": 3
   },
   "file_extension": ".py",
   "mimetype": "text/x-python",
   "name": "python",
   "nbconvert_exporter": "python",
   "pygments_lexer": "ipython3",
   "version": "3.6.3"
  }
 },
 "nbformat": 4,
 "nbformat_minor": 2
}
