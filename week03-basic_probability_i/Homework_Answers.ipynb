{
 "cells": [
  {
   "cell_type": "code",
   "execution_count": 2,
   "metadata": {
    "collapsed": true
   },
   "outputs": [],
   "source": [
    "from scipy.special import comb, perm\n",
    "import numpy as np\n",
    "import itertools"
   ]
  },
  {
   "cell_type": "markdown",
   "metadata": {},
   "source": [
    "### Textbook Questions"
   ]
  },
  {
   "cell_type": "markdown",
   "metadata": {},
   "source": [
    "    1. A box contains three marbles — one red, one green, and one blue. Consider an experiment that consists of taking one marble from the box, then replacing it in the box and drawing a second marble from the box. Describe the sample space. Repeat for the case in which the second marble is drawn without first replacing the first marble."
   ]
  },
  {
   "cell_type": "code",
   "execution_count": 2,
   "metadata": {
    "collapsed": true
   },
   "outputs": [],
   "source": [
    "sample_space_with_replacement = ['RR', 'GG', 'BB', 'RB', 'RG', 'GB', 'GR', 'BG', 'BR']\n",
    "sample_space_without_replacement = ['RB', 'RG', 'GB', 'GR', 'BG', 'BR']"
   ]
  },
  {
   "cell_type": "markdown",
   "metadata": {},
   "source": [
    "    2. An experiment consists of tossing a coin three times. What is the sample space of this experiment? Which event corresponds to the experiment resulting in more heads than tails?"
   ]
  },
  {
   "cell_type": "code",
   "execution_count": 3,
   "metadata": {
    "collapsed": true
   },
   "outputs": [],
   "source": [
    "sample_space = ['HHH', 'HHT', 'HTH', 'THH', 'HTT', 'THT', 'TTH', 'TTT']\n",
    "more_heads_than_tails = ['HHH', 'HHT', 'HTH', 'THH']"
   ]
  },
  {
   "cell_type": "markdown",
   "metadata": {},
   "source": [
    "    3. Let S = {1, 2, 3, 4, 5, 6, 7}, E = {1, 3, 5, 7}, F = {7, 4, 6}, G = {1, 4}. Find\n",
    "    (a) EF; (c) EG c (e) Ec (F ∪ G );\n",
    "    (b) E ∪ FG; (d) EF c ∪ G; (f ) EG ∪ FG."
   ]
  },
  {
   "cell_type": "code",
   "execution_count": 4,
   "metadata": {
    "collapsed": true
   },
   "outputs": [],
   "source": [
    "A = [7]\n",
    "B = [1,3,4,5,7]\n",
    "C = [3,5,7]\n",
    "D = [1,3,4,5]\n",
    "E = [4,6]\n",
    "F = [1,4]"
   ]
  },
  {
   "cell_type": "markdown",
   "metadata": {},
   "source": [
    "    4. Two dice are thrown. Let E be the event that the sum of the dice is odd, let F be the event that the first die lands on 1, and let G be the event that the sum is 5. Describe the events EF, E ∪ F, FG, EF c , EFG."
   ]
  },
  {
   "cell_type": "markdown",
   "metadata": {
    "collapsed": true
   },
   "source": [
    "EF = [(1, 2), (1, 4), (1, 6)]  \n",
    "EUF = [(1, 1), (1, 2), (1, 3), (1, 4), (1, 5), (1, 6), (2, 1), (2, 3), (2, 5), (3, 2), (3, 4), (3, 6), \n",
    "       (4, 1), (4, 3), (4, 5), (5, 2), (5, 4), (5, 6), (6, 1), (6, 3), (6, 5)]  \n",
    "FG = [(1, 4)]  \n",
    "EF^C = [(2, 1), (2, 3), (2, 5), (3, 2), (3, 4), (3, 6), (4, 1), (4, 3), (4, 5), (5, 2), (5, 4), (5, 6), (6, 1)\n",
    "        (6, 3), (6, 5)]  \n",
    "EFG = [(1, 4)]"
   ]
  },
  {
   "cell_type": "markdown",
   "metadata": {},
   "source": [
    "    5. A system is composed of four components, each of which is either working or failed. Consider an experiment that consists of observing the status of each component, and let the outcome of the experiment be given by the vector (x1, x2, x3, x4) where xi is equal to 1 if component i is working and is equal to 0 if component i is failed.  \n",
    "    \n",
    "(a) How many outcomes are in the sample space of this experiment?  \n",
    "(b) Suppose that the system will work if components 1 and 2 are both working,\n",
    "or if components 3 and 4 are both working. Specify all the outcomes in the\n",
    "event that the system works.  \n",
    "(c) Let E be the event that components 1 and 3 are both failed. How many\n",
    "outcomes are contained in event E?"
   ]
  },
  {
   "cell_type": "markdown",
   "metadata": {},
   "source": [
    "a) 8, or 2 ^ 4  \n",
    "b) [(1,1,0,0), (1,1,1,0), (1,1,1,1), (0,1,1,1), (0,0,1,1)]  \n",
    "c) [(0,1,0,1), (0,0,0,1), (0,0,0,0)]"
   ]
  },
  {
   "cell_type": "markdown",
   "metadata": {},
   "source": [
    "    6. Let E, F, G be three events. Find expressions for the events that of E, F, G\n",
    "    \n",
    "(a) only E occurs;  \n",
    "(b) both E and G but not F occur;  \n",
    "(c) at least one of the events occurs;  \n",
    "(d) at least two of the events occur;  \n",
    "(e) all three occur;  \n",
    "(f ) none of the events occurs;  \n",
    "(g) at most one of them occurs;  \n",
    "(h) at most two of them occur;  \n",
    "(i) exactly two of them occur;  \n",
    "( j) at most three of them occur.  "
   ]
  },
  {
   "cell_type": "markdown",
   "metadata": {},
   "source": [
    "a) E & F^C & G^C  \n",
    "b) E & F^C & G  \n",
    "c) E or F or G  \n",
    "d) (E & F) or (E & G) or (F & G)  \n",
    "e) E & F & G  \n",
    "f) (E or F or G) ^ C  \n",
    "g) (E & F^C & G^C) or (E^C & F & G^C) or (E^C & F^C & G) or (E or F or G) ^ C  \n",
    "h) (E & F & G^C) or (E & F^C & G) or (E^C & F & G) or (E & F^C & G^C) or (E^C & F & G^C) or (E^C & F^C & G)  \n",
    "i) (E & F & G^C) or (E & F^C & G) or (E^C & F & G)  \n",
    "j) E or F or C  "
   ]
  },
  {
   "cell_type": "markdown",
   "metadata": {},
   "source": [
    "    19. Consider a set of 23 unrelated people. Because each pair of people shares the same birthday with probability 1/365, and there are 232\u0004 = 253 pairs, why isn’t the probability that at least two people have the same birthday equal to 253/365?"
   ]
  },
  {
   "cell_type": "code",
   "execution_count": 7,
   "metadata": {},
   "outputs": [
    {
     "data": {
      "text/plain": [
       "132860"
      ]
     },
     "execution_count": 7,
     "metadata": {},
     "output_type": "execute_result"
    }
   ],
   "source": [
    "(365 * 364)"
   ]
  },
  {
   "cell_type": "markdown",
   "metadata": {},
   "source": [
    "Think of just two people. What is the probability that the second **doesn't** share the first person's birthday? It is 364 out of 365, as they can have a birthday of any day in the year except for that first person's birthday. How about a third person not sharing the birthday of either of the first two people? Their odds are 363 out of 365. What about a fourth? 362 out of 365. You could also consider that as (364 \\* 363 * 362) / 365 ^ 3, or P(364,3) / 365 ^ 3. To get the odds that someone will share a birthday, just subtract that value from 1, or 1 - (P(364,3) / 365 ^ 3). Logically, you can extend that to 23, where the value is 1 - (P(364,22) / 365^22)\n",
    "\n",
    "The lesson here is that even if something has a high, or an extremely high, probability of occuring, the probability of it occuring after serveral repeated trials will decrease."
   ]
  },
  {
   "cell_type": "code",
   "execution_count": 3,
   "metadata": {},
   "outputs": [
    {
     "data": {
      "text/plain": [
       "0.5072972343239854"
      ]
     },
     "execution_count": 3,
     "metadata": {},
     "output_type": "execute_result"
    }
   ],
   "source": [
    "1 - (perm(364,22) / (365 ** 22))"
   ]
  },
  {
   "cell_type": "code",
   "execution_count": 4,
   "metadata": {},
   "outputs": [
    {
     "data": {
      "text/plain": [
       "435.0"
      ]
     },
     "execution_count": 4,
     "metadata": {},
     "output_type": "execute_result"
    }
   ],
   "source": [
    "comb(30,2)"
   ]
  },
  {
   "cell_type": "code",
   "execution_count": 5,
   "metadata": {
    "collapsed": true
   },
   "outputs": [],
   "source": [
    "def birthday_problem(size):\n",
    "    count = 0\n",
    "    for i in range(1000):\n",
    "        x = np.random.choice(range(365), replace=True, size=23)\n",
    "        if len(x) != len(set(x)):\n",
    "            count += 1\n",
    "    print(count/1000)"
   ]
  },
  {
   "cell_type": "code",
   "execution_count": 6,
   "metadata": {},
   "outputs": [
    {
     "name": "stdout",
     "output_type": "stream",
     "text": [
      "0.505\n"
     ]
    }
   ],
   "source": [
    "birthday_problem(23)"
   ]
  },
  {
   "cell_type": "markdown",
   "metadata": {},
   "source": [
    "    22. A closet contains 8 pairs of shoes. If 4 shoes are randomly selected, what is the\n",
    "    probability that there will be (a) no complete pair and (b) exactly 1 complete pair?"
   ]
  },
  {
   "cell_type": "markdown",
   "metadata": {},
   "source": [
    "A) No Complete Pair"
   ]
  },
  {
   "cell_type": "code",
   "execution_count": 7,
   "metadata": {
    "collapsed": true
   },
   "outputs": [],
   "source": [
    "all_shoes = []\n",
    "for i in range(0,8):\n",
    "    all_shoes += [str(i)] * 2"
   ]
  },
  {
   "cell_type": "code",
   "execution_count": 8,
   "metadata": {},
   "outputs": [
    {
     "data": {
      "text/plain": [
       "0.6153846153846154"
      ]
     },
     "execution_count": 8,
     "metadata": {},
     "output_type": "execute_result"
    }
   ],
   "source": [
    "comb(8, 4) * np.power(2,4) / comb(16,4)"
   ]
  },
  {
   "cell_type": "markdown",
   "metadata": {},
   "source": [
    "B) One Complete Pair"
   ]
  },
  {
   "cell_type": "code",
   "execution_count": 9,
   "metadata": {},
   "outputs": [
    {
     "data": {
      "text/plain": [
       "0.36923076923076925"
      ]
     },
     "execution_count": 9,
     "metadata": {},
     "output_type": "execute_result"
    }
   ],
   "source": [
    "comb(8,1) * comb(7,2) * np.power(2,2) / comb(16,4)"
   ]
  },
  {
   "cell_type": "code",
   "execution_count": 10,
   "metadata": {},
   "outputs": [
    {
     "name": "stdout",
     "output_type": "stream",
     "text": [
      "2 28 0.015384615384615385\n",
      "3 672 0.36923076923076925\n",
      "4 1120 0.6153846153846154\n"
     ]
    }
   ],
   "source": [
    "for j in [2,3,4]:\n",
    "    print(j, len([i for i in list(itertools.combinations(all_shoes,4)) if len(set(i)) == j]), len([i for i in list(itertools.combinations(all_shoes,4)) if len(set(i)) == j])/comb(16,4))"
   ]
  },
  {
   "cell_type": "markdown",
   "metadata": {},
   "source": [
    "### Combinations and Permutations"
   ]
  },
  {
   "cell_type": "markdown",
   "metadata": {},
   "source": [
    "\t1. From a group of 7 men and 6 women, five persons are to be selected to form a committee so that at least 3 men are there on the committee. In how many ways can it be done?"
   ]
  },
  {
   "cell_type": "code",
   "execution_count": 11,
   "metadata": {},
   "outputs": [
    {
     "data": {
      "text/plain": [
       "756.0"
      ]
     },
     "execution_count": 11,
     "metadata": {},
     "output_type": "execute_result"
    }
   ],
   "source": [
    "(comb(7,3) * comb(6,2)) + (comb(7,4) * comb(6,1)) + (comb(7,5) * comb(6,0))"
   ]
  },
  {
   "cell_type": "markdown",
   "metadata": {},
   "source": [
    "    2. In how many different ways can the letters of the word 'LEADING' be arranged in such a way that the vowels always come together?"
   ]
  },
  {
   "cell_type": "code",
   "execution_count": 12,
   "metadata": {},
   "outputs": [
    {
     "data": {
      "text/plain": [
       "720.0"
      ]
     },
     "execution_count": 12,
     "metadata": {},
     "output_type": "execute_result"
    }
   ],
   "source": [
    "perm(3,3) * perm(5,5)"
   ]
  },
  {
   "cell_type": "markdown",
   "metadata": {},
   "source": [
    "    3. \tIn how many different ways can the letters of the word 'CORPORATION' be arranged so that the vowels always come together?"
   ]
  },
  {
   "cell_type": "code",
   "execution_count": 13,
   "metadata": {},
   "outputs": [
    {
     "data": {
      "text/plain": [
       "50400.0"
      ]
     },
     "execution_count": 13,
     "metadata": {},
     "output_type": "execute_result"
    }
   ],
   "source": [
    "perm(5,2) * perm(7,5)"
   ]
  },
  {
   "cell_type": "markdown",
   "metadata": {},
   "source": [
    "    4. Out of 7 consonants and 4 vowels, how many words of 3 consonants and 2 vowels can be formed?"
   ]
  },
  {
   "cell_type": "code",
   "execution_count": 14,
   "metadata": {},
   "outputs": [
    {
     "data": {
      "text/plain": [
       "25200.0"
      ]
     },
     "execution_count": 14,
     "metadata": {},
     "output_type": "execute_result"
    }
   ],
   "source": [
    "comb(7,4) * comb(4,2) * perm(5,5)"
   ]
  },
  {
   "cell_type": "markdown",
   "metadata": {},
   "source": [
    "    5. \tIn how many ways can the letters of the word 'LEADER' be arranged? "
   ]
  },
  {
   "cell_type": "code",
   "execution_count": 15,
   "metadata": {},
   "outputs": [
    {
     "data": {
      "text/plain": [
       "360.0"
      ]
     },
     "execution_count": 15,
     "metadata": {},
     "output_type": "execute_result"
    }
   ],
   "source": [
    "perm(6,4)"
   ]
  },
  {
   "cell_type": "markdown",
   "metadata": {},
   "source": [
    "    6. \tIn a group of 6 boys and 4 girls, four children are to be selected. In how many different ways can they be selected such that at least one boy should be there?"
   ]
  },
  {
   "cell_type": "code",
   "execution_count": 16,
   "metadata": {},
   "outputs": [
    {
     "data": {
      "text/plain": [
       "209.0"
      ]
     },
     "execution_count": 16,
     "metadata": {},
     "output_type": "execute_result"
    }
   ],
   "source": [
    "comb(10,4) - comb(4,4)"
   ]
  },
  {
   "cell_type": "code",
   "execution_count": 17,
   "metadata": {},
   "outputs": [
    {
     "data": {
      "text/plain": [
       "209.0"
      ]
     },
     "execution_count": 17,
     "metadata": {},
     "output_type": "execute_result"
    }
   ],
   "source": [
    "(comb(6,1) * comb(4,3)) + (comb(6,2) * comb(4,2)) + (comb(6,3) * comb(4,1)) + comb(6,4)"
   ]
  },
  {
   "cell_type": "markdown",
   "metadata": {},
   "source": [
    "    7. \tHow many 3-digit numbers can be formed from the digits 2, 3, 5, 6, 7 and 9, which are divisible by 5 and none of the digits is repeated?"
   ]
  },
  {
   "cell_type": "code",
   "execution_count": 18,
   "metadata": {},
   "outputs": [
    {
     "data": {
      "text/plain": [
       "20.0"
      ]
     },
     "execution_count": 18,
     "metadata": {},
     "output_type": "execute_result"
    }
   ],
   "source": [
    "perm(5,2)"
   ]
  },
  {
   "cell_type": "markdown",
   "metadata": {},
   "source": [
    "    8. \tIn how many ways a committee, consisting of 5 men and 6 women can be formed from 8 men and 10 women?"
   ]
  },
  {
   "cell_type": "code",
   "execution_count": 19,
   "metadata": {},
   "outputs": [
    {
     "data": {
      "text/plain": [
       "11760.0"
      ]
     },
     "execution_count": 19,
     "metadata": {},
     "output_type": "execute_result"
    }
   ],
   "source": [
    "comb(8,5) * comb(10,6)"
   ]
  },
  {
   "cell_type": "markdown",
   "metadata": {},
   "source": [
    "    9. \tA box contains 2 white balls, 3 black balls and 4 red balls. In how many ways can 3 balls be drawn from the box, if at least one black ball is to be included in the draw?"
   ]
  },
  {
   "cell_type": "code",
   "execution_count": 20,
   "metadata": {},
   "outputs": [
    {
     "data": {
      "text/plain": [
       "64.0"
      ]
     },
     "execution_count": 20,
     "metadata": {},
     "output_type": "execute_result"
    }
   ],
   "source": [
    "(comb(3,1) * comb(6,2)) + (comb(3,2) * comb(6,1)) + comb(3,3)"
   ]
  },
  {
   "cell_type": "code",
   "execution_count": 21,
   "metadata": {},
   "outputs": [
    {
     "name": "stdout",
     "output_type": "stream",
     "text": [
      "64\n"
     ]
    }
   ],
   "source": [
    "x = 0\n",
    "for i in list(itertools.combinations(['W', 'W', 'R', 'R', 'R', 'R', 'B', 'B', 'B'], 3)):\n",
    "    if 'B' in i:\n",
    "        x += 1\n",
    "print(x)"
   ]
  },
  {
   "cell_type": "markdown",
   "metadata": {},
   "source": [
    "    10. \tIn how many different ways can the letters of the word 'DETAIL' be arranged in such a way that the vowels occupy only the odd positions?"
   ]
  },
  {
   "cell_type": "code",
   "execution_count": 22,
   "metadata": {},
   "outputs": [
    {
     "data": {
      "text/plain": [
       "36.0"
      ]
     },
     "execution_count": 22,
     "metadata": {},
     "output_type": "execute_result"
    }
   ],
   "source": [
    "perm(3,3) * perm(3,3)"
   ]
  },
  {
   "cell_type": "markdown",
   "metadata": {},
   "source": [
    "    11. \tIn how many ways can a group of 5 men and 2 women be made out of a total of 7 men and 3 women?"
   ]
  },
  {
   "cell_type": "code",
   "execution_count": 23,
   "metadata": {},
   "outputs": [
    {
     "data": {
      "text/plain": [
       "63.0"
      ]
     },
     "execution_count": 23,
     "metadata": {},
     "output_type": "execute_result"
    }
   ],
   "source": [
    "comb(7,5) * comb(3,2)"
   ]
  },
  {
   "cell_type": "markdown",
   "metadata": {},
   "source": [
    "    12. How many 4-letter words with or without meaning, can be formed out of the letters of the word, 'LOGARITHMS', if repetition of letters is not allowed?"
   ]
  },
  {
   "cell_type": "code",
   "execution_count": 24,
   "metadata": {},
   "outputs": [
    {
     "data": {
      "text/plain": [
       "5040.0"
      ]
     },
     "execution_count": 24,
     "metadata": {},
     "output_type": "execute_result"
    }
   ],
   "source": [
    "perm(10,4)"
   ]
  },
  {
   "cell_type": "markdown",
   "metadata": {},
   "source": [
    "    13. In how many different ways can the letters of the word 'MATHEMATICS' be arranged so that the vowels always come together?"
   ]
  },
  {
   "cell_type": "code",
   "execution_count": 25,
   "metadata": {},
   "outputs": [
    {
     "data": {
      "text/plain": [
       "120960.0"
      ]
     },
     "execution_count": 25,
     "metadata": {},
     "output_type": "execute_result"
    }
   ],
   "source": [
    "(perm(8,8) / (perm(2,2)* perm(2,2))) * perm(4,2)"
   ]
  },
  {
   "cell_type": "markdown",
   "metadata": {},
   "source": [
    "    14. \tIn how many different ways can the letters of the word 'OPTICAL' be arranged so that the vowels always come together?"
   ]
  },
  {
   "cell_type": "code",
   "execution_count": 26,
   "metadata": {},
   "outputs": [
    {
     "data": {
      "text/plain": [
       "720.0"
      ]
     },
     "execution_count": 26,
     "metadata": {},
     "output_type": "execute_result"
    }
   ],
   "source": [
    "perm(5,5) * perm(3,3)"
   ]
  }
 ],
 "metadata": {
  "kernelspec": {
   "display_name": "Python 3",
   "language": "python",
   "name": "python3"
  },
  "language_info": {
   "codemirror_mode": {
    "name": "ipython",
    "version": 3
   },
   "file_extension": ".py",
   "mimetype": "text/x-python",
   "name": "python",
   "nbconvert_exporter": "python",
   "pygments_lexer": "ipython3",
   "version": "3.6.3"
  }
 },
 "nbformat": 4,
 "nbformat_minor": 2
}
