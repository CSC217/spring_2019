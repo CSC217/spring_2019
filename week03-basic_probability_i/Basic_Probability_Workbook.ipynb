{
 "cells": [
  {
   "cell_type": "code",
   "execution_count": 1,
   "metadata": {
    "collapsed": true
   },
   "outputs": [],
   "source": [
    "import random\n",
    "import numpy as np\n",
    "from scipy.special import comb, perm\n",
    "import itertools"
   ]
  },
  {
   "cell_type": "markdown",
   "metadata": {},
   "source": [
    "Let's review the example of sets using the animals example that we used in class. First we can define our animals using **lists**."
   ]
  },
  {
   "cell_type": "markdown",
   "metadata": {},
   "source": [
    "## Sets"
   ]
  },
  {
   "cell_type": "code",
   "execution_count": 2,
   "metadata": {
    "collapsed": true
   },
   "outputs": [],
   "source": [
    "animals = ['antelope', 'bee', 'cat', 'dog', 'elephant', 'frog', 'gnat', 'hyena', 'iguana', 'jaguar']\n",
    "mammals = ['antelope', 'cat', 'dog', 'elephant', 'hyena', 'jaguar']\n",
    "wild = ['antelope', 'bee', 'elephant', 'frog', 'gnat', 'hyena', 'iguana', 'jaguar']"
   ]
  },
  {
   "cell_type": "markdown",
   "metadata": {},
   "source": [
    "Then we can use **list comprehension** to parse our lists as we need to. For example we can iterate through the animals list and pick out any animals which are also in the mammals list."
   ]
  },
  {
   "cell_type": "code",
   "execution_count": 3,
   "metadata": {},
   "outputs": [
    {
     "data": {
      "text/plain": [
       "['antelope', 'cat', 'dog', 'elephant', 'hyena', 'jaguar']"
      ]
     },
     "execution_count": 3,
     "metadata": {},
     "output_type": "execute_result"
    }
   ],
   "source": [
    "#See which animals in the animals list are also in the mammals list\n",
    "[i for i in animals if i in mammals]"
   ]
  },
  {
   "cell_type": "markdown",
   "metadata": {},
   "source": [
    "List comprehension is fundamentally the same thing as a for loop, but looks a bit cleaner."
   ]
  },
  {
   "cell_type": "code",
   "execution_count": 4,
   "metadata": {},
   "outputs": [
    {
     "name": "stdout",
     "output_type": "stream",
     "text": [
      "antelope\n",
      "cat\n",
      "dog\n",
      "elephant\n",
      "hyena\n",
      "jaguar\n"
     ]
    }
   ],
   "source": [
    "#See which animals in the animals list are also in the mammals list\n",
    "for i in animals:\n",
    "    if i in mammals:\n",
    "        print(i)"
   ]
  },
  {
   "cell_type": "code",
   "execution_count": 5,
   "metadata": {},
   "outputs": [
    {
     "data": {
      "text/plain": [
       "['antelope', 'bee', 'elephant', 'frog', 'gnat', 'hyena', 'iguana', 'jaguar']"
      ]
     },
     "execution_count": 5,
     "metadata": {},
     "output_type": "execute_result"
    }
   ],
   "source": [
    "#See which animals in the animals list are also in the wild list\n",
    "[i for i in animals if i in wild]"
   ]
  },
  {
   "cell_type": "markdown",
   "metadata": {},
   "source": [
    "We can use list comprehension to also find the intersection of animals who are in both the mammals list and the wild list."
   ]
  },
  {
   "cell_type": "code",
   "execution_count": 6,
   "metadata": {},
   "outputs": [
    {
     "data": {
      "text/plain": [
       "['antelope', 'elephant', 'hyena', 'jaguar']"
      ]
     },
     "execution_count": 6,
     "metadata": {},
     "output_type": "execute_result"
    }
   ],
   "source": [
    "[i for i in animals if i in wild and i in mammals]"
   ]
  },
  {
   "cell_type": "markdown",
   "metadata": {},
   "source": [
    "What about a union? We can add two lists together to make one list, but note that there are repeats here"
   ]
  },
  {
   "cell_type": "code",
   "execution_count": 7,
   "metadata": {},
   "outputs": [
    {
     "data": {
      "text/plain": [
       "['antelope',\n",
       " 'bee',\n",
       " 'elephant',\n",
       " 'frog',\n",
       " 'gnat',\n",
       " 'hyena',\n",
       " 'iguana',\n",
       " 'jaguar',\n",
       " 'antelope',\n",
       " 'cat',\n",
       " 'dog',\n",
       " 'elephant',\n",
       " 'hyena',\n",
       " 'jaguar']"
      ]
     },
     "execution_count": 7,
     "metadata": {},
     "output_type": "execute_result"
    }
   ],
   "source": [
    "wild + mammals"
   ]
  },
  {
   "cell_type": "markdown",
   "metadata": {},
   "source": [
    "Like we covered in lecture, the length of this list is 14."
   ]
  },
  {
   "cell_type": "code",
   "execution_count": 8,
   "metadata": {},
   "outputs": [
    {
     "data": {
      "text/plain": [
       "14"
      ]
     },
     "execution_count": 8,
     "metadata": {},
     "output_type": "execute_result"
    }
   ],
   "source": [
    "len(wild + mammals)"
   ]
  },
  {
   "cell_type": "markdown",
   "metadata": {},
   "source": [
    "But we can take a set of this list to get only its unique values, which will whittle it down to 10 animals"
   ]
  },
  {
   "cell_type": "code",
   "execution_count": 9,
   "metadata": {},
   "outputs": [
    {
     "data": {
      "text/plain": [
       "{'antelope',\n",
       " 'bee',\n",
       " 'cat',\n",
       " 'dog',\n",
       " 'elephant',\n",
       " 'frog',\n",
       " 'gnat',\n",
       " 'hyena',\n",
       " 'iguana',\n",
       " 'jaguar'}"
      ]
     },
     "execution_count": 9,
     "metadata": {},
     "output_type": "execute_result"
    }
   ],
   "source": [
    "set(wild + mammals)"
   ]
  },
  {
   "cell_type": "code",
   "execution_count": 10,
   "metadata": {},
   "outputs": [
    {
     "data": {
      "text/plain": [
       "10"
      ]
     },
     "execution_count": 10,
     "metadata": {},
     "output_type": "execute_result"
    }
   ],
   "source": [
    "len(set(wild + mammals))"
   ]
  },
  {
   "cell_type": "markdown",
   "metadata": {},
   "source": [
    "We could also run a list comprehension using 'OR' logic to get the same answer."
   ]
  },
  {
   "cell_type": "code",
   "execution_count": 11,
   "metadata": {},
   "outputs": [
    {
     "data": {
      "text/plain": [
       "['antelope',\n",
       " 'bee',\n",
       " 'cat',\n",
       " 'dog',\n",
       " 'elephant',\n",
       " 'frog',\n",
       " 'gnat',\n",
       " 'hyena',\n",
       " 'iguana',\n",
       " 'jaguar']"
      ]
     },
     "execution_count": 11,
     "metadata": {},
     "output_type": "execute_result"
    }
   ],
   "source": [
    "[i for i in animals if i in wild or i in mammals]"
   ]
  },
  {
   "cell_type": "markdown",
   "metadata": {},
   "source": [
    "Say I flip three coins. What is the probability that the first coin is a head or that two of the three coins are heads?"
   ]
  },
  {
   "cell_type": "code",
   "execution_count": 12,
   "metadata": {
    "collapsed": true
   },
   "outputs": [],
   "source": [
    "sample_space = ['HHH', 'HHT','HTH', 'THH', 'HTT', 'THT', 'TTH', 'TTT']\n",
    "first_coin_head = ['HHH', 'HHT', 'HTH', 'HTT']\n",
    "two_of_three = ['HHT', 'HTH', 'THH']"
   ]
  },
  {
   "cell_type": "markdown",
   "metadata": {},
   "source": [
    "We could use a similar approach to what we did in class..."
   ]
  },
  {
   "cell_type": "code",
   "execution_count": 13,
   "metadata": {},
   "outputs": [
    {
     "data": {
      "text/plain": [
       "0.5"
      ]
     },
     "execution_count": 13,
     "metadata": {},
     "output_type": "execute_result"
    }
   ],
   "source": [
    "#Probability The First Coin is a Head\n",
    "len([i for i in sample_space if i in first_coin_head]) / len(sample_space)"
   ]
  },
  {
   "cell_type": "code",
   "execution_count": 14,
   "metadata": {},
   "outputs": [
    {
     "data": {
      "text/plain": [
       "0.375"
      ]
     },
     "execution_count": 14,
     "metadata": {},
     "output_type": "execute_result"
    }
   ],
   "source": [
    "#Probability Two of the Three Coins Are Heads\n",
    "len([i for i in sample_space if i in two_of_three]) / len(sample_space)"
   ]
  },
  {
   "cell_type": "code",
   "execution_count": 15,
   "metadata": {},
   "outputs": [
    {
     "data": {
      "text/plain": [
       "0.25"
      ]
     },
     "execution_count": 15,
     "metadata": {},
     "output_type": "execute_result"
    }
   ],
   "source": [
    "#Probability The First Coin is a Head and Two of the Three Coins Are Heads\n",
    "len([i for i in sample_space if i in two_of_three and i in first_coin_head]) / len(sample_space)"
   ]
  },
  {
   "cell_type": "code",
   "execution_count": 16,
   "metadata": {},
   "outputs": [
    {
     "data": {
      "text/plain": [
       "0.625"
      ]
     },
     "execution_count": 16,
     "metadata": {},
     "output_type": "execute_result"
    }
   ],
   "source": [
    "#Probability The first Coin is a Head or Two of the Three Coins are Heads\n",
    "0.5 + 0.375 - 0.25"
   ]
  },
  {
   "cell_type": "markdown",
   "metadata": {},
   "source": [
    "Or we could find a set similar to what we did here."
   ]
  },
  {
   "cell_type": "code",
   "execution_count": 17,
   "metadata": {},
   "outputs": [
    {
     "data": {
      "text/plain": [
       "0.625"
      ]
     },
     "execution_count": 17,
     "metadata": {},
     "output_type": "execute_result"
    }
   ],
   "source": [
    "len(set(first_coin_head + two_of_three)) / len(sample_space)"
   ]
  },
  {
   "cell_type": "markdown",
   "metadata": {},
   "source": [
    "Or we could use 'OR' logic via list comprehension to get our answer."
   ]
  },
  {
   "cell_type": "code",
   "execution_count": 18,
   "metadata": {},
   "outputs": [
    {
     "data": {
      "text/plain": [
       "0.625"
      ]
     },
     "execution_count": 18,
     "metadata": {},
     "output_type": "execute_result"
    }
   ],
   "source": [
    "len([i for i in sample_space if i in first_coin_head or i in two_of_three]) / len(sample_space)"
   ]
  },
  {
   "cell_type": "markdown",
   "metadata": {},
   "source": [
    "This last option is, in my opinion, the easiest way to get our answer."
   ]
  },
  {
   "cell_type": "markdown",
   "metadata": {},
   "source": [
    "## Permutations & Combinations"
   ]
  },
  {
   "cell_type": "markdown",
   "metadata": {},
   "source": [
    "Let's review the ATM example from lecture. We want to see how many combinations of four digit ATM pin numbers there are."
   ]
  },
  {
   "cell_type": "markdown",
   "metadata": {},
   "source": [
    "### ATM Pins"
   ]
  },
  {
   "cell_type": "markdown",
   "metadata": {},
   "source": [
    "#### Rule of Product (Permutation With Replacement)\n",
    "\n",
    "With replacement, there are 10,000 permutations of ATM pins."
   ]
  },
  {
   "cell_type": "code",
   "execution_count": 19,
   "metadata": {},
   "outputs": [
    {
     "data": {
      "text/plain": [
       "10000"
      ]
     },
     "execution_count": 19,
     "metadata": {},
     "output_type": "execute_result"
    }
   ],
   "source": [
    "np.power(10, 4)"
   ]
  },
  {
   "cell_type": "code",
   "execution_count": 20,
   "metadata": {},
   "outputs": [
    {
     "data": {
      "text/plain": [
       "10000"
      ]
     },
     "execution_count": 20,
     "metadata": {},
     "output_type": "execute_result"
    }
   ],
   "source": [
    "10 ** 4"
   ]
  },
  {
   "cell_type": "markdown",
   "metadata": {},
   "source": [
    "#### Permutation Without Replacement\n",
    "\n",
    "Without replacement, there are 5,040 permutations of ATM pins. We can use the 'perm' package, imported from scipy to find this."
   ]
  },
  {
   "cell_type": "code",
   "execution_count": 21,
   "metadata": {},
   "outputs": [
    {
     "data": {
      "text/plain": [
       "5040.0"
      ]
     },
     "execution_count": 21,
     "metadata": {},
     "output_type": "execute_result"
    }
   ],
   "source": [
    "perm(10,4)"
   ]
  },
  {
   "cell_type": "markdown",
   "metadata": {},
   "source": [
    "We can also break down the actual permutation, as a permutation is equivalent to n factorial over n - k factorial. In this case n is 10 and k is 6. The permutation of a number over itself is equivalent to that number's factorial."
   ]
  },
  {
   "cell_type": "code",
   "execution_count": 22,
   "metadata": {},
   "outputs": [
    {
     "data": {
      "text/plain": [
       "5040.0"
      ]
     },
     "execution_count": 22,
     "metadata": {},
     "output_type": "execute_result"
    }
   ],
   "source": [
    "perm(10,10) / perm(6,6)"
   ]
  },
  {
   "cell_type": "code",
   "execution_count": 23,
   "metadata": {},
   "outputs": [
    {
     "data": {
      "text/plain": [
       "5040"
      ]
     },
     "execution_count": 23,
     "metadata": {},
     "output_type": "execute_result"
    }
   ],
   "source": [
    "10 * 9 * 8 * 7"
   ]
  },
  {
   "cell_type": "markdown",
   "metadata": {},
   "source": [
    "#### Combination With Replacement\n",
    "\n",
    "With replacement, there are 715 combinations of ATM pins. We can use the 'comb' package, imported from scipy to find this, using the argument 'repetition=True'"
   ]
  },
  {
   "cell_type": "code",
   "execution_count": 24,
   "metadata": {},
   "outputs": [
    {
     "data": {
      "text/plain": [
       "715.0"
      ]
     },
     "execution_count": 24,
     "metadata": {},
     "output_type": "execute_result"
    }
   ],
   "source": [
    "comb(10,4, repetition=True)"
   ]
  },
  {
   "cell_type": "markdown",
   "metadata": {},
   "source": [
    "A combination with replacement for n and k is equivalent to the permutation of n + k - 1 over the factorial of k."
   ]
  },
  {
   "cell_type": "code",
   "execution_count": 25,
   "metadata": {},
   "outputs": [
    {
     "data": {
      "text/plain": [
       "715.0"
      ]
     },
     "execution_count": 25,
     "metadata": {},
     "output_type": "execute_result"
    }
   ],
   "source": [
    "perm(13,4) / perm(4,4)"
   ]
  },
  {
   "cell_type": "markdown",
   "metadata": {},
   "source": [
    "...which is equivalent to the factorial of n + k - 1 over the factorial of n - 1 over the factorial of k. "
   ]
  },
  {
   "cell_type": "code",
   "execution_count": 26,
   "metadata": {},
   "outputs": [
    {
     "data": {
      "text/plain": [
       "715.0"
      ]
     },
     "execution_count": 26,
     "metadata": {},
     "output_type": "execute_result"
    }
   ],
   "source": [
    "perm(13,13) / perm(9,9) / perm(4,4)"
   ]
  },
  {
   "cell_type": "markdown",
   "metadata": {},
   "source": [
    "#### Combination Without Replacement\n",
    "\n",
    "Without replacement, there are 210 combinations of ATM pins. We can use the 'comb' package, imported from scipy to find this."
   ]
  },
  {
   "cell_type": "code",
   "execution_count": 27,
   "metadata": {},
   "outputs": [
    {
     "data": {
      "text/plain": [
       "210.0"
      ]
     },
     "execution_count": 27,
     "metadata": {},
     "output_type": "execute_result"
    }
   ],
   "source": [
    "comb(10,4)"
   ]
  },
  {
   "cell_type": "markdown",
   "metadata": {},
   "source": [
    "Note that this is the same as using repetition=False as an argument, that is because repetition=False is the **default** argument for this function."
   ]
  },
  {
   "cell_type": "code",
   "execution_count": 28,
   "metadata": {},
   "outputs": [
    {
     "data": {
      "text/plain": [
       "210.0"
      ]
     },
     "execution_count": 28,
     "metadata": {},
     "output_type": "execute_result"
    }
   ],
   "source": [
    "comb(10,4, repetition=False)"
   ]
  },
  {
   "cell_type": "code",
   "execution_count": 29,
   "metadata": {},
   "outputs": [
    {
     "data": {
      "text/plain": [
       "210.0"
      ]
     },
     "execution_count": 29,
     "metadata": {},
     "output_type": "execute_result"
    }
   ],
   "source": [
    "perm(10,4) / perm(4,4)"
   ]
  },
  {
   "cell_type": "code",
   "execution_count": 30,
   "metadata": {},
   "outputs": [
    {
     "data": {
      "text/plain": [
       "210.0"
      ]
     },
     "execution_count": 30,
     "metadata": {},
     "output_type": "execute_result"
    }
   ],
   "source": [
    "perm(10,10) / perm(6,6) / perm(4,4)"
   ]
  },
  {
   "cell_type": "markdown",
   "metadata": {},
   "source": [
    "### Two of Three Meals"
   ]
  },
  {
   "cell_type": "code",
   "execution_count": 31,
   "metadata": {},
   "outputs": [
    {
     "data": {
      "text/plain": [
       "9"
      ]
     },
     "execution_count": 31,
     "metadata": {},
     "output_type": "execute_result"
    }
   ],
   "source": [
    "#RuleOfProduct\n",
    "np.power(3,2)"
   ]
  },
  {
   "cell_type": "code",
   "execution_count": 32,
   "metadata": {},
   "outputs": [
    {
     "data": {
      "text/plain": [
       "6.0"
      ]
     },
     "execution_count": 32,
     "metadata": {},
     "output_type": "execute_result"
    }
   ],
   "source": [
    "#Permutation\n",
    "perm(3,2)"
   ]
  },
  {
   "cell_type": "code",
   "execution_count": 33,
   "metadata": {},
   "outputs": [
    {
     "data": {
      "text/plain": [
       "6.0"
      ]
     },
     "execution_count": 33,
     "metadata": {},
     "output_type": "execute_result"
    }
   ],
   "source": [
    "#CombinationWithReplacement\n",
    "comb(3,2, repetition=True)"
   ]
  },
  {
   "cell_type": "code",
   "execution_count": 34,
   "metadata": {},
   "outputs": [
    {
     "data": {
      "text/plain": [
       "3.0"
      ]
     },
     "execution_count": 34,
     "metadata": {},
     "output_type": "execute_result"
    }
   ],
   "source": [
    "#CombinationWithoutReplacement\n",
    "comb(3,2)"
   ]
  },
  {
   "cell_type": "markdown",
   "metadata": {},
   "source": [
    "### Two Heads in Four Flips\n",
    "\n",
    "First, let's find our answer manually so we can do a sanity check. "
   ]
  },
  {
   "cell_type": "code",
   "execution_count": 35,
   "metadata": {
    "collapsed": true
   },
   "outputs": [],
   "source": [
    "sample_space = ['HHHH', 'HHHT', 'HHTH', 'HTHH', 'THHH', 'HHTT', 'HTTH', 'TTHH', 'HTHT', 'THTH',\n",
    "                'THHT', 'TTTH', 'TTHT', 'THTT', 'HTTT', 'TTTT']"
   ]
  },
  {
   "cell_type": "code",
   "execution_count": 36,
   "metadata": {},
   "outputs": [
    {
     "data": {
      "text/plain": [
       "True"
      ]
     },
     "execution_count": 36,
     "metadata": {},
     "output_type": "execute_result"
    }
   ],
   "source": [
    "#Confirm our sample space is correct\n",
    "len(sample_space) == np.power(2,4)"
   ]
  },
  {
   "cell_type": "code",
   "execution_count": 37,
   "metadata": {},
   "outputs": [
    {
     "data": {
      "text/plain": [
       "6"
      ]
     },
     "execution_count": 37,
     "metadata": {},
     "output_type": "execute_result"
    }
   ],
   "source": [
    "event = ['HHTT', 'HTTH', 'TTHH', 'HTHT', 'THTH','THHT']\n",
    "len(event)"
   ]
  },
  {
   "cell_type": "markdown",
   "metadata": {},
   "source": [
    "As we discussed in class, the number of ways to get two heads in four flips is a **combination** problem."
   ]
  },
  {
   "cell_type": "code",
   "execution_count": 38,
   "metadata": {},
   "outputs": [
    {
     "data": {
      "text/plain": [
       "6.0"
      ]
     },
     "execution_count": 38,
     "metadata": {},
     "output_type": "execute_result"
    }
   ],
   "source": [
    "comb(4,2)"
   ]
  },
  {
   "cell_type": "markdown",
   "metadata": {},
   "source": [
    "Because it is annoying (and prone to error) to manually write out a sample space, we can use the **itertools** package to simulate all of the possibilities of several coin flips. Itertools.Product is a useful way to gauge out the results of repeated trials, such a coin flip."
   ]
  },
  {
   "cell_type": "code",
   "execution_count": 39,
   "metadata": {},
   "outputs": [
    {
     "data": {
      "text/plain": [
       "[('H', 'H', 'H', 'H'),\n",
       " ('H', 'H', 'H', 'T'),\n",
       " ('H', 'H', 'T', 'H'),\n",
       " ('H', 'H', 'T', 'T'),\n",
       " ('H', 'T', 'H', 'H'),\n",
       " ('H', 'T', 'H', 'T'),\n",
       " ('H', 'T', 'T', 'H'),\n",
       " ('H', 'T', 'T', 'T'),\n",
       " ('T', 'H', 'H', 'H'),\n",
       " ('T', 'H', 'H', 'T'),\n",
       " ('T', 'H', 'T', 'H'),\n",
       " ('T', 'H', 'T', 'T'),\n",
       " ('T', 'T', 'H', 'H'),\n",
       " ('T', 'T', 'H', 'T'),\n",
       " ('T', 'T', 'T', 'H'),\n",
       " ('T', 'T', 'T', 'T')]"
      ]
     },
     "execution_count": 39,
     "metadata": {},
     "output_type": "execute_result"
    }
   ],
   "source": [
    "all_possibilities = ['H', 'T']\n",
    "list(itertools.product(all_possibilities, repeat=4))"
   ]
  },
  {
   "cell_type": "markdown",
   "metadata": {},
   "source": [
    "We can eyeball all of the combinations to see which ones are relevant, or even write a function to get the relevant results."
   ]
  },
  {
   "cell_type": "code",
   "execution_count": 40,
   "metadata": {},
   "outputs": [
    {
     "name": "stdout",
     "output_type": "stream",
     "text": [
      "('H', 'H', 'T', 'T')\n",
      "('H', 'T', 'H', 'T')\n",
      "('H', 'T', 'T', 'H')\n",
      "('T', 'H', 'H', 'T')\n",
      "('T', 'H', 'T', 'H')\n",
      "('T', 'T', 'H', 'H')\n"
     ]
    }
   ],
   "source": [
    "sample_space = list(itertools.product(all_possibilities, repeat=4))\n",
    "for i in sample_space:\n",
    "    if len([j for j in i if j == 'H']) == 2:\n",
    "        print(i)"
   ]
  },
  {
   "cell_type": "code",
   "execution_count": 41,
   "metadata": {},
   "outputs": [
    {
     "name": "stdout",
     "output_type": "stream",
     "text": [
      "6\n"
     ]
    }
   ],
   "source": [
    "sample_space = list(itertools.product(all_possibilities, repeat=4))\n",
    "relevant_results = []\n",
    "for i in sample_space:\n",
    "    if len([j for j in i if j == 'H']) == 2:\n",
    "        relevant_results.append(i)\n",
    "print(len(relevant_results))"
   ]
  },
  {
   "cell_type": "markdown",
   "metadata": {},
   "source": [
    "### More+"
   ]
  },
  {
   "cell_type": "markdown",
   "metadata": {},
   "source": [
    "Itertools also has tools to find the **combinations** and **permutations** for a given list. Note that once your number of combinations/permutations gets high, there is a chance that your Jupyter Notebook may crash. Itertools is best used as a tool to do a sanity check on a **smaller scale** like we did above - you can then use deductive reasoning to find out the answer on a bigger scale.\n",
    "\n",
    "Say we have three girls and four boys in a class and we want to see the number of combinations and permutations we can get from them."
   ]
  },
  {
   "cell_type": "markdown",
   "metadata": {},
   "source": [
    "Because we are choosing four out of four people, there is only one combination we can have."
   ]
  },
  {
   "cell_type": "code",
   "execution_count": 42,
   "metadata": {},
   "outputs": [
    {
     "data": {
      "text/plain": [
       "[('G', 'G', 'G', 'B')]"
      ]
     },
     "execution_count": 42,
     "metadata": {},
     "output_type": "execute_result"
    }
   ],
   "source": [
    "list(itertools.combinations(['G','G','G','B'], 4))"
   ]
  },
  {
   "cell_type": "code",
   "execution_count": 43,
   "metadata": {},
   "outputs": [
    {
     "data": {
      "text/plain": [
       "1.0"
      ]
     },
     "execution_count": 43,
     "metadata": {},
     "output_type": "execute_result"
    }
   ],
   "source": [
    "comb(4,4)"
   ]
  },
  {
   "cell_type": "markdown",
   "metadata": {},
   "source": [
    "If we wanted to see all of the different orders that we could pick the students in, we could do a permutation."
   ]
  },
  {
   "cell_type": "code",
   "execution_count": 44,
   "metadata": {},
   "outputs": [
    {
     "data": {
      "text/plain": [
       "[('G', 'G', 'G', 'B'),\n",
       " ('G', 'G', 'B', 'G'),\n",
       " ('G', 'G', 'G', 'B'),\n",
       " ('G', 'G', 'B', 'G'),\n",
       " ('G', 'B', 'G', 'G'),\n",
       " ('G', 'B', 'G', 'G'),\n",
       " ('G', 'G', 'G', 'B'),\n",
       " ('G', 'G', 'B', 'G'),\n",
       " ('G', 'G', 'G', 'B'),\n",
       " ('G', 'G', 'B', 'G'),\n",
       " ('G', 'B', 'G', 'G'),\n",
       " ('G', 'B', 'G', 'G'),\n",
       " ('G', 'G', 'G', 'B'),\n",
       " ('G', 'G', 'B', 'G'),\n",
       " ('G', 'G', 'G', 'B'),\n",
       " ('G', 'G', 'B', 'G'),\n",
       " ('G', 'B', 'G', 'G'),\n",
       " ('G', 'B', 'G', 'G'),\n",
       " ('B', 'G', 'G', 'G'),\n",
       " ('B', 'G', 'G', 'G'),\n",
       " ('B', 'G', 'G', 'G'),\n",
       " ('B', 'G', 'G', 'G'),\n",
       " ('B', 'G', 'G', 'G'),\n",
       " ('B', 'G', 'G', 'G')]"
      ]
     },
     "execution_count": 44,
     "metadata": {},
     "output_type": "execute_result"
    }
   ],
   "source": [
    "list(itertools.permutations(['G','G','G','B'], 4))"
   ]
  },
  {
   "cell_type": "code",
   "execution_count": 45,
   "metadata": {},
   "outputs": [
    {
     "data": {
      "text/plain": [
       "24"
      ]
     },
     "execution_count": 45,
     "metadata": {},
     "output_type": "execute_result"
    }
   ],
   "source": [
    "len(list(itertools.permutations(['G','G','G','B'], 4)))"
   ]
  },
  {
   "cell_type": "code",
   "execution_count": 46,
   "metadata": {},
   "outputs": [
    {
     "data": {
      "text/plain": [
       "24.0"
      ]
     },
     "execution_count": 46,
     "metadata": {},
     "output_type": "execute_result"
    }
   ],
   "source": [
    "perm(4,4)"
   ]
  },
  {
   "cell_type": "markdown",
   "metadata": {},
   "source": [
    "If we wanted to see all the different orders we could pick the **student types** in, we could do a permutation of the set. This is the equivalent to doing a permutation with n=4 and k=3."
   ]
  },
  {
   "cell_type": "code",
   "execution_count": 47,
   "metadata": {},
   "outputs": [
    {
     "data": {
      "text/plain": [
       "{('B', 'G', 'G', 'G'),\n",
       " ('G', 'B', 'G', 'G'),\n",
       " ('G', 'G', 'B', 'G'),\n",
       " ('G', 'G', 'G', 'B')}"
      ]
     },
     "execution_count": 47,
     "metadata": {},
     "output_type": "execute_result"
    }
   ],
   "source": [
    "set(itertools.permutations(['G','G','G','B'], 4))"
   ]
  },
  {
   "cell_type": "code",
   "execution_count": 48,
   "metadata": {},
   "outputs": [
    {
     "data": {
      "text/plain": [
       "4.0"
      ]
     },
     "execution_count": 48,
     "metadata": {},
     "output_type": "execute_result"
    }
   ],
   "source": [
    "perm(4,1)"
   ]
  },
  {
   "cell_type": "markdown",
   "metadata": {},
   "source": [
    "Note that this is also equivalent to finding the factorial of 4 divided by the factorial of 3 times the factorial of 1 (there's three girls and one boy)"
   ]
  },
  {
   "cell_type": "code",
   "execution_count": 49,
   "metadata": {},
   "outputs": [
    {
     "data": {
      "text/plain": [
       "4.0"
      ]
     },
     "execution_count": 49,
     "metadata": {},
     "output_type": "execute_result"
    }
   ],
   "source": [
    "perm(4,4) / (perm(3,3) * perm(1,1))"
   ]
  },
  {
   "cell_type": "markdown",
   "metadata": {},
   "source": [
    "Say we had a class where we wanted to see the number of permutations of freshman, sophomores, and juniors we could find."
   ]
  },
  {
   "cell_type": "code",
   "execution_count": 50,
   "metadata": {},
   "outputs": [
    {
     "data": {
      "text/plain": [
       "560"
      ]
     },
     "execution_count": 50,
     "metadata": {},
     "output_type": "execute_result"
    }
   ],
   "source": [
    "len(set(itertools.permutations(['F','F','F','S','S','J','J','J'], 8)))"
   ]
  },
  {
   "cell_type": "markdown",
   "metadata": {},
   "source": [
    "If we divide the factorial of the factorials of each class, we can find the number of permutations for each class. Note that this logic will be very useful for the homework, where you have find the number of ways you can rearrange a word!"
   ]
  },
  {
   "cell_type": "code",
   "execution_count": 51,
   "metadata": {},
   "outputs": [
    {
     "data": {
      "text/plain": [
       "560.0"
      ]
     },
     "execution_count": 51,
     "metadata": {},
     "output_type": "execute_result"
    }
   ],
   "source": [
    "perm(8,8) / (perm(3,3) * perm(2,2) * perm(3,3))"
   ]
  }
 ],
 "metadata": {
  "kernelspec": {
   "display_name": "Python 3",
   "language": "python",
   "name": "python3"
  },
  "language_info": {
   "codemirror_mode": {
    "name": "ipython",
    "version": 3
   },
   "file_extension": ".py",
   "mimetype": "text/x-python",
   "name": "python",
   "nbconvert_exporter": "python",
   "pygments_lexer": "ipython3",
   "version": "3.6.3"
  }
 },
 "nbformat": 4,
 "nbformat_minor": 2
}
