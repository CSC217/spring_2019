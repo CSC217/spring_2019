{
 "cells": [
  {
   "cell_type": "markdown",
   "metadata": {},
   "source": [
    "#### 1. From our Intro to Probability and Statistics textbook, answer questions 1-6 and 19 and 22 from Chapter 3, starting on Page 80. Insert the questions with their respective answers and any necessary code below."
   ]
  },
  {
   "cell_type": "markdown",
   "metadata": {},
   "source": [
    "#### 2. Answer questions 1-14 [here](https://www.indiabix.com/aptitude/permutation-and-combination/) (open in new tab) below. Insert the questions with their respective answers and any necessary code below."
   ]
  }
 ],
 "metadata": {
  "kernelspec": {
   "display_name": "Python 3",
   "language": "python",
   "name": "python3"
  },
  "language_info": {
   "codemirror_mode": {
    "name": "ipython",
    "version": 3
   },
   "file_extension": ".py",
   "mimetype": "text/x-python",
   "name": "python",
   "nbconvert_exporter": "python",
   "pygments_lexer": "ipython3",
   "version": "3.6.3"
  }
 },
 "nbformat": 4,
 "nbformat_minor": 2
}
