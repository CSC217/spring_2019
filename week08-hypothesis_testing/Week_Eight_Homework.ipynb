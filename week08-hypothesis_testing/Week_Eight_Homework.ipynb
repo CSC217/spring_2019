{
 "cells": [
  {
   "cell_type": "markdown",
   "metadata": {},
   "source": [
    "The income per capita per US State in 2018 is approximately a normal distribution with a mean of \\$48,500 and a standard deviation of $8,500.\n",
    "\n",
    "1) Create a PDF graph of this distribution with the proper labels on the axes.  \n",
    "\n",
    "2) Say we wanted to create a rejection region for any states with below average\n",
    "   income. If we set the rejection region at 40,000, what would the percentile\n",
    "   value of that be given the distribution? \n",
    "   \n",
    "3) Say that I'm a Senator from New York, which has an income per capita of \\$64,500.  \n",
    "\n",
    "   I believe that my state has an income that's conceivably different from the rest of the country - so different that I could convince someone that we're not even part of the United States. I want to use hypothesis testing to prove it.  \n",
    "   \n",
    "   Note that I am not surveying people - this is a single data point. In this case: \n",
    "   \n",
    "       a) What is the null hypothesis?  \n",
    "       \n",
    "       b) What is the alternative hypothesis?  \n",
    "       \n",
    "       c) Say I want to do a two-tailed test at a significance level of 0.05 to see if\n",
    "       my hypothesis is true. What is my rejection region? Can I reject the null hypothesis here?  \n",
    "       \n",
    "       d) Seeing that the average income per capita for New York is obviously higher than the\n",
    "       income per capita for the United States, I want to change my test to a one-tailed test.\n",
    "       \n",
    "       At the 0.05 significance level, what is my rejection region? Can I reject the null hypothesis here? \n",
    "       \n",
    "       e) Say I want to keep the test one-tailed, but change my significance level to 0.01. What is my rejection region now? Can I reject the null hypothesis here?  \n",
    "       \n",
    "4) Say now that I don't actually know the distribution of the income per capita per US State - I'm just making it up to sound smart. But I do survey ten state representatives from New York and get the following data points for income per capita of our state:\n",
    "[62837, 64511, 58821, 63971, 62837, 57084, 64579, 62837, 58821,\n",
    "       63971]\n",
    "\n",
    "        a) What is the sample mean for this distribution?\n",
    "        b) What is the sample variance and sample standard deviation for this distribution?\n",
    "        c) Say I again want to see if I can reject the null hypothesis that the income per capita for New York\n",
    "        is the same as the income per capita for the United States.\n",
    "           \n",
    "           Note that this is based off of a survey of ten, so we would want to effectively see if the ten people we surveyed could have effectively been pulled from anywhere in the US, not just New York.\n",
    "        d) Given a T-distribution with a mean of 50,000, our sample standard deviation, and nine degrees of freedom, what is the one-tailed rejection region at the 0.01 significance level? Can we reject the null hypothesis that New York has a different income per capita than the rest of the United States? Note that we are using our sample mean to determine this, not the previously stated value of $64,500. \n",
    "        \n",
    "5) This information was actually pulled from the Wikipedia here - https://en.wikipedia.org/wiki/List_of_U.S._states_by_GDP_per_capita.  \n",
    "Using the pd.read_html function, read in the table of U.S. State by GDP capita and plot a histogram and boxplot of the 2018 data in the first table. Are there any outliers, and if so, which states are outliers?\n",
    "\n",
    "BONUS 6) Remove the outlier (if there is one), and replot a histogram and boxplot of the data. Are there any outliers now?"
   ]
  }
 ],
 "metadata": {
  "kernelspec": {
   "display_name": "Python 3",
   "language": "python",
   "name": "python3"
  },
  "language_info": {
   "codemirror_mode": {
    "name": "ipython",
    "version": 3
   },
   "file_extension": ".py",
   "mimetype": "text/x-python",
   "name": "python",
   "nbconvert_exporter": "python",
   "pygments_lexer": "ipython3",
   "version": "3.6.3"
  }
 },
 "nbformat": 4,
 "nbformat_minor": 2
}
