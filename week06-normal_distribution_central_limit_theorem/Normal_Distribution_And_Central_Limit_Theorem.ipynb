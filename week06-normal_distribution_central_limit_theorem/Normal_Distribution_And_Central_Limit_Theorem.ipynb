{
 "cells": [
  {
   "cell_type": "code",
   "execution_count": null,
   "metadata": {
    "collapsed": true
   },
   "outputs": [],
   "source": [
    "import scipy.stats as stats\n",
    "import numpy as np\n",
    "import matplotlib.pyplot as plt\n",
    "%matplotlib inline"
   ]
  },
  {
   "cell_type": "markdown",
   "metadata": {},
   "source": [
    "## Continuous Distributions"
   ]
  },
  {
   "cell_type": "markdown",
   "metadata": {},
   "source": [
    "Much like with discrete distributions, we can use the Scipy.Stats module to simulate continuous distributions.\n",
    "\n",
    "The Normal Distribution requires two parameters to be set up: the mean and standard deviation"
   ]
  },
  {
   "cell_type": "code",
   "execution_count": null,
   "metadata": {
    "collapsed": true
   },
   "outputs": [],
   "source": [
    "mean=5\n",
    "std=2\n",
    "dist = stats.norm(mean,std)"
   ]
  },
  {
   "cell_type": "code",
   "execution_count": null,
   "metadata": {},
   "outputs": [],
   "source": [
    "dist.mean()"
   ]
  },
  {
   "cell_type": "code",
   "execution_count": null,
   "metadata": {},
   "outputs": [],
   "source": [
    "#Note the variance here is the standard deviation squared\n",
    "dist.var()"
   ]
  },
  {
   "cell_type": "code",
   "execution_count": null,
   "metadata": {},
   "outputs": [],
   "source": [
    "dist.std()"
   ]
  },
  {
   "cell_type": "markdown",
   "metadata": {},
   "source": [
    "We can also find the CDF for a given point in the distribution with the CDF function."
   ]
  },
  {
   "cell_type": "code",
   "execution_count": null,
   "metadata": {},
   "outputs": [],
   "source": [
    "#Why is this 0.5?\n",
    "dist.cdf(5)"
   ]
  },
  {
   "cell_type": "code",
   "execution_count": null,
   "metadata": {},
   "outputs": [],
   "source": [
    "dist.cdf(9)"
   ]
  },
  {
   "cell_type": "code",
   "execution_count": null,
   "metadata": {},
   "outputs": [],
   "source": [
    "dist.cdf(0.5)"
   ]
  },
  {
   "cell_type": "markdown",
   "metadata": {},
   "source": [
    "Something new for continuous functions - the PPF or 'Percentile Point Function' will get you the value of a percentile between 0 and 1, essentially the inverse of the CDF. For example 0.5 below will get you the median value of the distribution (which is the same as the mean for the normal distribution)"
   ]
  },
  {
   "cell_type": "code",
   "execution_count": null,
   "metadata": {},
   "outputs": [],
   "source": [
    "dist.ppf(0.5)"
   ]
  },
  {
   "cell_type": "markdown",
   "metadata": {},
   "source": [
    "Below we can plot the PDF of the normal distribution by using the percentile point functions at either ends of the distribution, along with the probability density function of each percentile point function (if this is too confusing right now, don't worry about it)"
   ]
  },
  {
   "cell_type": "code",
   "execution_count": null,
   "metadata": {},
   "outputs": [],
   "source": [
    "x = np.linspace(dist.ppf(0.001), dist.ppf(0.999), 100)\n",
    "plt.plot(x, dist.pdf(x))"
   ]
  },
  {
   "cell_type": "markdown",
   "metadata": {},
   "source": [
    "Let's pretty this graph though"
   ]
  },
  {
   "cell_type": "code",
   "execution_count": null,
   "metadata": {},
   "outputs": [],
   "source": [
    "fig = plt.figure(figsize=(10,10))\n",
    "x = np.linspace(dist.ppf(0.001), dist.ppf(0.999), 100)\n",
    "plt.plot(x, dist.pdf(x))\n",
    "plt.xticks()\n",
    "plt.yticks()\n",
    "plt.xlabel('Random Result')\n",
    "plt.ylabel('Probability Density Function')\n",
    "fig.suptitle('Random Distribution', fontsize=15, y=0.92)"
   ]
  },
  {
   "cell_type": "code",
   "execution_count": null,
   "metadata": {},
   "outputs": [],
   "source": [
    "fig = plt.figure(figsize=(10,10))\n",
    "x = np.linspace(dist.ppf(0.001), dist.ppf(0.999), 100)\n",
    "plt.plot(x, dist.cdf(x))\n",
    "plt.xticks()\n",
    "plt.yticks()\n",
    "plt.xlabel('Random Result')\n",
    "plt.ylabel('Cumulative Distribution Function')\n",
    "fig.suptitle('Random Distribution', fontsize=15, y=0.92)"
   ]
  },
  {
   "cell_type": "markdown",
   "metadata": {},
   "source": [
    "We can also make random draws from the distribution with the rvs function"
   ]
  },
  {
   "cell_type": "markdown",
   "metadata": {},
   "source": [
    "We can use this to see if the central limit theorem works by taking 100 samples with replacement of 10 from the underlying normal distribution."
   ]
  },
  {
   "cell_type": "code",
   "execution_count": null,
   "metadata": {},
   "outputs": [],
   "source": [
    "np.random.seed(42)\n",
    "new_samples =np.array([])\n",
    "for i in range(100):\n",
    "    new_samples = np.append(new_samples, dist.rvs(10).mean())\n",
    "print('Mean of Samples', np.mean(new_samples))\n",
    "print('Standard Deviation of Samples', np.std(new_samples))\n",
    "print('Mean of Underlying Distribution', dist.mean())\n",
    "print('Standard Deviation of Underlying Distribution Divided by Sample Size', dist.std() / np.sqrt(10))"
   ]
  },
  {
   "cell_type": "markdown",
   "metadata": {},
   "source": [
    "Indeed, we see that the mean and standard deviation of our samples are very close to the underlying distribution!"
   ]
  },
  {
   "cell_type": "code",
   "execution_count": null,
   "metadata": {},
   "outputs": [],
   "source": [
    "fig = plt.figure(figsize=(10,10))\n",
    "plt.hist(new_samples)\n",
    "plt.xticks()\n",
    "plt.yticks()\n",
    "plt.xlabel('Random Result')\n",
    "plt.ylabel('Count')\n",
    "fig.suptitle('Repeated Samples From Random Distribution', fontsize=15, y=0.92)"
   ]
  },
  {
   "cell_type": "markdown",
   "metadata": {},
   "source": [
    "## Normal Approximation (Binomial Distribution)"
   ]
  },
  {
   "cell_type": "markdown",
   "metadata": {},
   "source": [
    "Let's use the example we did in class, where we have 20 coin flips and we want to find the probability of getting 7 or less heads.\n",
    "\n",
    "First we can find the CDF of the binomial function for this."
   ]
  },
  {
   "cell_type": "code",
   "execution_count": null,
   "metadata": {},
   "outputs": [],
   "source": [
    "binom_dist = stats.binom(n=20, p=0.5)\n",
    "binom_dist.cdf(7)"
   ]
  },
  {
   "cell_type": "markdown",
   "metadata": {},
   "source": [
    "Then we can create a normal distribution using the parameters of the binomial distribution and find the CDF of 7.5 (remember, we need to add 0.5 to account for the continuity correction)"
   ]
  },
  {
   "cell_type": "code",
   "execution_count": null,
   "metadata": {},
   "outputs": [],
   "source": [
    "norm_dist = stats.norm(binom_dist.mean(), binom_dist.std())\n",
    "norm_dist.cdf(7.5)"
   ]
  },
  {
   "cell_type": "markdown",
   "metadata": {},
   "source": [
    "## Exponential Distribution"
   ]
  },
  {
   "cell_type": "markdown",
   "metadata": {},
   "source": [
    "For our use of the exponential distribution, you can set it up with two parameters: a '0' for the first parameter and the second parameter as the value of theta (which is 1/lambda, or in our class example, the average number of minutes it takes for the next train to come)"
   ]
  },
  {
   "cell_type": "code",
   "execution_count": null,
   "metadata": {
    "collapsed": true
   },
   "outputs": [],
   "source": [
    "expon_dist = stats.expon(0, 10)"
   ]
  },
  {
   "cell_type": "markdown",
   "metadata": {},
   "source": [
    "Below is the probability for the next train to come in five or fewer minutes."
   ]
  },
  {
   "cell_type": "code",
   "execution_count": null,
   "metadata": {},
   "outputs": [],
   "source": [
    "expon_dist.cdf(5)"
   ]
  },
  {
   "cell_type": "markdown",
   "metadata": {},
   "source": [
    "And below is the inverse of that, or the probability for the next train to come in more than five minutes."
   ]
  },
  {
   "cell_type": "code",
   "execution_count": null,
   "metadata": {},
   "outputs": [],
   "source": [
    "1 - expon_dist.cdf(5)"
   ]
  },
  {
   "cell_type": "markdown",
   "metadata": {},
   "source": [
    "Below is the actual equation for the CDF for 5, as you can see, it's equivalent to the value we found above."
   ]
  },
  {
   "cell_type": "code",
   "execution_count": null,
   "metadata": {},
   "outputs": [],
   "source": [
    "1 - np.exp((-1/10) * 5)"
   ]
  },
  {
   "cell_type": "code",
   "execution_count": null,
   "metadata": {},
   "outputs": [],
   "source": [
    "fig = plt.figure(figsize=(10,10))\n",
    "x = np.linspace(expon_dist.ppf(0.001), expon_dist.ppf(0.999), 100)\n",
    "plt.plot(x, expon_dist.pdf(x))\n",
    "plt.xticks()\n",
    "plt.yticks()\n",
    "plt.xlabel('Random Result')\n",
    "plt.ylabel('Probability Density Function')\n",
    "fig.suptitle('Random Distribution', fontsize=15, y=0.92)"
   ]
  },
  {
   "cell_type": "code",
   "execution_count": null,
   "metadata": {},
   "outputs": [],
   "source": [
    "fig = plt.figure(figsize=(10,10))\n",
    "x = np.linspace(expon_dist.ppf(0.001), expon_dist.ppf(0.999), 100)\n",
    "plt.plot(x, expon_dist.cdf(x))\n",
    "plt.xticks()\n",
    "plt.yticks()\n",
    "plt.xlabel('Random Result')\n",
    "plt.ylabel('Probability Density Function')\n",
    "fig.suptitle('Random Distribution', fontsize=15, y=0.92)"
   ]
  },
  {
   "cell_type": "markdown",
   "metadata": {},
   "source": [
    "## Central Limit Theorem\n",
    "\n",
    "Let's simulate the Central Limit Theorem example we had in class. First we'll put 200 students in Grades 7-12:"
   ]
  },
  {
   "cell_type": "code",
   "execution_count": null,
   "metadata": {},
   "outputs": [],
   "source": [
    "student_values = []\n",
    "for i in range(7,13):\n",
    "    l = [i] * 200\n",
    "    student_values += l\n",
    "np.transpose(np.unique(student_values, return_counts=True))"
   ]
  },
  {
   "cell_type": "code",
   "execution_count": null,
   "metadata": {},
   "outputs": [],
   "source": [
    "print('Mean:', np.mean(student_values))\n",
    "print('Standard Deviation:', np.std(student_values))"
   ]
  },
  {
   "cell_type": "markdown",
   "metadata": {},
   "source": [
    "And graph it:"
   ]
  },
  {
   "cell_type": "code",
   "execution_count": null,
   "metadata": {},
   "outputs": [],
   "source": [
    "fig = plt.figure(figsize=(10,10))\n",
    "plt.hist(student_values, bins=20)\n",
    "plt.xticks(color='white')\n",
    "plt.yticks(color='white')\n",
    "plt.xlabel('Grade', color='white')\n",
    "plt.ylabel('Counts', color='white')\n",
    "fig.suptitle('Number of Students in Grades 7 - 12', fontsize=15, y=0.92, color='white')"
   ]
  },
  {
   "cell_type": "markdown",
   "metadata": {},
   "source": [
    "Here are some sample means from our samples of 30 students:"
   ]
  },
  {
   "cell_type": "code",
   "execution_count": null,
   "metadata": {},
   "outputs": [],
   "source": [
    "np.random.seed(42)\n",
    "for i in range(10):\n",
    "    print(np.random.choice(student_values, size=30, replace=False).mean())"
   ]
  },
  {
   "cell_type": "markdown",
   "metadata": {},
   "source": [
    "Now we'll make the colleciton of 1,000 samples of 30. Note two caveats here: we're using the 'np.random.seed' function we learned about last week. and we're calling 'replace=False' for our samples, since we don't want to poll the same students twice."
   ]
  },
  {
   "cell_type": "code",
   "execution_count": null,
   "metadata": {
    "collapsed": true
   },
   "outputs": [],
   "source": [
    "np.random.seed(42)\n",
    "averages = []\n",
    "for i in range(1000):\n",
    "    averages.append(np.random.choice(student_values, size=30, replace=False).mean())"
   ]
  },
  {
   "cell_type": "markdown",
   "metadata": {},
   "source": [
    "Here is the graph showing our results!"
   ]
  },
  {
   "cell_type": "code",
   "execution_count": null,
   "metadata": {},
   "outputs": [],
   "source": [
    "fig = plt.figure(figsize=(10,10))\n",
    "plt.hist(averages)\n",
    "plt.xticks()\n",
    "plt.yticks()\n",
    "plt.xlabel('Grade')\n",
    "plt.ylabel('Counts')\n",
    "fig.suptitle('Student Sampling Distribution With N=30', fontsize=15, y=0.92)"
   ]
  },
  {
   "cell_type": "code",
   "execution_count": null,
   "metadata": {},
   "outputs": [],
   "source": [
    "print('Mean:', np.mean(averages))\n",
    "print('Standard Deviation:', np.std(averages))"
   ]
  },
  {
   "cell_type": "code",
   "execution_count": null,
   "metadata": {},
   "outputs": [],
   "source": [
    "np.std(student_values) / np.sqrt(30)"
   ]
  },
  {
   "cell_type": "markdown",
   "metadata": {},
   "source": [
    "And here's an example with 100 students instead of 30 to illustrate our point about the standard deviation being smaller the larger our sample size is."
   ]
  },
  {
   "cell_type": "code",
   "execution_count": null,
   "metadata": {
    "collapsed": true
   },
   "outputs": [],
   "source": [
    "np.random.seed(42)\n",
    "averages = []\n",
    "for i in range(1000):\n",
    "    averages.append(np.random.choice(student_values, size=100, replace=False).mean())"
   ]
  },
  {
   "cell_type": "code",
   "execution_count": null,
   "metadata": {},
   "outputs": [],
   "source": [
    "fig = plt.figure(figsize=(10,10))\n",
    "plt.hist(averages)\n",
    "plt.xticks()\n",
    "plt.yticks()\n",
    "plt.xlabel('Grade')\n",
    "plt.ylabel('Counts')\n",
    "fig.suptitle('Student Sampling Distribution With N=100', fontsize=15, y=0.92)"
   ]
  },
  {
   "cell_type": "code",
   "execution_count": null,
   "metadata": {},
   "outputs": [],
   "source": [
    "print('Mean:', np.mean(averages))\n",
    "print('Standard Deviation:', np.std(averages))"
   ]
  },
  {
   "cell_type": "code",
   "execution_count": null,
   "metadata": {},
   "outputs": [],
   "source": [
    "np.std(student_values) / np.sqrt(100)"
   ]
  },
  {
   "cell_type": "markdown",
   "metadata": {},
   "source": [
    "Let's try another example - say that you were told that only 10% of people approved of the trade of Odell Beckham Jr. from the Giants.\n",
    "\n",
    "Say I poll 100 groups of 50 people about their opinion of the trade: what would the sample means look like?"
   ]
  },
  {
   "cell_type": "code",
   "execution_count": null,
   "metadata": {
    "collapsed": true
   },
   "outputs": [],
   "source": [
    "dist = stats.bernoulli(0.1)\n",
    "averages = []\n",
    "for i in range(100):\n",
    "    averages.append(dist.rvs(50).mean())"
   ]
  },
  {
   "cell_type": "markdown",
   "metadata": {},
   "source": [
    "Note that here we're using the 'RVS' function. This is a way of simulating draws from a distribution. Earlier, we made a custom list and simulated draws from it using the 'np.random.choice' function. While either can be used depending on the situation, it outlines an important distinction - in the earlier example we are working with data that already exists, while in the latter example we are working with data based on a distribution that we simulated."
   ]
  },
  {
   "cell_type": "code",
   "execution_count": null,
   "metadata": {},
   "outputs": [],
   "source": [
    "fig = plt.figure(figsize=(10,10))\n",
    "plt.hist(averages)\n",
    "plt.xticks()\n",
    "plt.yticks()\n",
    "plt.xlabel('Approval Rating')\n",
    "plt.ylabel('Counts')\n",
    "fig.suptitle('Polling Sampling Distribution With N=50', fontsize=15, y=0.92)"
   ]
  },
  {
   "cell_type": "code",
   "execution_count": null,
   "metadata": {},
   "outputs": [],
   "source": [
    "print('Mean:', np.mean(averages))\n",
    "print('Standard Deviation:', np.std(averages))"
   ]
  },
  {
   "cell_type": "markdown",
   "metadata": {},
   "source": [
    "If I find a group of 50 people and find that 25% of them approve of the trade, what does that say about my original intuition? What is the possibility that the original assumption holds true?"
   ]
  },
  {
   "cell_type": "markdown",
   "metadata": {},
   "source": [
    "Finally, let's take a look at the game simulator we built for homework. What if I want to test if my answer is correct or not? I can use the simulator I built below as a source of truth."
   ]
  },
  {
   "cell_type": "code",
   "execution_count": null,
   "metadata": {
    "collapsed": true
   },
   "outputs": [],
   "source": [
    "def game_simulator(win_probability, series_length=7, trial_runs=10000):\n",
    "    all_time_wins = 0\n",
    "    all_time_series = 0\n",
    "    while all_time_series < trial_runs:\n",
    "        all_time_series += 1\n",
    "        wins = 0\n",
    "        for i in range(series_length):\n",
    "            if stats.bernoulli(win_probability).rvs() == 1:\n",
    "                wins += 1\n",
    "            if wins == 4:\n",
    "                all_time_wins += 1\n",
    "                break\n",
    "    return all_time_wins/all_time_series"
   ]
  },
  {
   "cell_type": "code",
   "execution_count": null,
   "metadata": {},
   "outputs": [],
   "source": [
    "np.random.seed(42)\n",
    "game_simulator(0.4)"
   ]
  },
  {
   "cell_type": "markdown",
   "metadata": {},
   "source": [
    "We can consider the result a Bernoulli distribution, with 0.2908 being the probability that the Knicks will win the series."
   ]
  },
  {
   "cell_type": "code",
   "execution_count": null,
   "metadata": {},
   "outputs": [],
   "source": [
    "bernoulli_dist = stats.bernoulli(0.2908)\n",
    "print('Mean', bernoulli_dist.mean())\n",
    "print('Standard Deviation', bernoulli_dist.std())"
   ]
  },
  {
   "cell_type": "markdown",
   "metadata": {},
   "source": [
    "Because we did 10,000 simulations, we can consider that 10,000 samples, and thus divide our standard deviation by the **square root** of 10,000."
   ]
  },
  {
   "cell_type": "code",
   "execution_count": null,
   "metadata": {},
   "outputs": [],
   "source": [
    "bernoulli_dist.std()/np.sqrt(10000)"
   ]
  },
  {
   "cell_type": "markdown",
   "metadata": {},
   "source": [
    "We can now consider the range of acceptable answers to be a normal distribution with a mean of 0.2908 and a standard deviation of 0.0045."
   ]
  },
  {
   "cell_type": "code",
   "execution_count": null,
   "metadata": {},
   "outputs": [],
   "source": [
    "fig = plt.figure(figsize=(10,10))\n",
    "norm_dist = stats.norm(0.2908, 0.0045)\n",
    "x = np.linspace(norm_dist.ppf(0.001), norm_dist.ppf(0.999), 100)\n",
    "plt.plot(x, norm_dist.pdf(x))\n",
    "plt.xticks()\n",
    "plt.yticks()\n",
    "plt.xlabel('Probability')\n",
    "plt.ylabel('Probability Density Function')\n",
    "fig.suptitle('Probability of Knicks Winning Series', fontsize=15, y=0.92)"
   ]
  },
  {
   "cell_type": "markdown",
   "metadata": {},
   "source": [
    "If my manual answer gives the Knicks odds of less than 27.92% or more than 30.23%, I can assume with a 99% accuracy that my manual answer is incorrect. This is hypothesis testing!!"
   ]
  },
  {
   "cell_type": "code",
   "execution_count": null,
   "metadata": {},
   "outputs": [],
   "source": [
    "norm_dist.ppf(0.005)"
   ]
  },
  {
   "cell_type": "code",
   "execution_count": null,
   "metadata": {},
   "outputs": [],
   "source": [
    "norm_dist.ppf(0.995)"
   ]
  },
  {
   "cell_type": "code",
   "execution_count": null,
   "metadata": {
    "collapsed": true
   },
   "outputs": [],
   "source": []
  }
 ],
 "metadata": {
  "kernelspec": {
   "display_name": "Python 3",
   "language": "python",
   "name": "python3"
  },
  "language_info": {
   "codemirror_mode": {
    "name": "ipython",
    "version": 3
   },
   "file_extension": ".py",
   "mimetype": "text/x-python",
   "name": "python",
   "nbconvert_exporter": "python",
   "pygments_lexer": "ipython3",
   "version": "3.6.3"
  }
 },
 "nbformat": 4,
 "nbformat_minor": 2
}
