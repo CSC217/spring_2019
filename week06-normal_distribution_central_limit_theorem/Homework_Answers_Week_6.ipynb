{
 "cells": [
  {
   "cell_type": "code",
   "execution_count": 1,
   "metadata": {
    "collapsed": true
   },
   "outputs": [],
   "source": [
    "import scipy.stats as stats\n",
    "from scipy.special import comb, perm\n",
    "import numpy as np"
   ]
  },
  {
   "cell_type": "markdown",
   "metadata": {},
   "source": [
    "### Chapter 5"
   ]
  },
  {
   "cell_type": "markdown",
   "metadata": {},
   "source": [
    "    22. You arrive at a bus stop at 10 o’clock, knowing that the bus will arrive at some\n",
    "    time uniformly distributed between 10 and 10:30. What is the probability that\n",
    "    you will have to wait longer than 10 minutes? If at 10:15 the bus has not yet\n",
    "    arrived, what is the probability that you will have to wait at least an additional\n",
    "    10 minutes?"
   ]
  },
  {
   "cell_type": "code",
   "execution_count": 2,
   "metadata": {
    "collapsed": true
   },
   "outputs": [],
   "source": [
    "dist = stats.uniform(loc=0, scale=30)"
   ]
  },
  {
   "cell_type": "code",
   "execution_count": 3,
   "metadata": {},
   "outputs": [
    {
     "data": {
      "text/plain": [
       "0.6666666666666667"
      ]
     },
     "execution_count": 3,
     "metadata": {},
     "output_type": "execute_result"
    }
   ],
   "source": [
    "#Longer Than Ten Minutes\n",
    "1 - dist.cdf(10)"
   ]
  },
  {
   "cell_type": "code",
   "execution_count": 4,
   "metadata": {},
   "outputs": [
    {
     "data": {
      "text/plain": [
       "0.33333333333333326"
      ]
     },
     "execution_count": 4,
     "metadata": {},
     "output_type": "execute_result"
    }
   ],
   "source": [
    "#Longer Than Ten Minutes Given That You've Already Waited Fifteen Minutes\n",
    "(1 - dist.cdf(25)) / (1 - dist.cdf(15))"
   ]
  },
  {
   "cell_type": "code",
   "execution_count": 5,
   "metadata": {},
   "outputs": [
    {
     "data": {
      "text/plain": [
       "0.7165313105737893"
      ]
     },
     "execution_count": 5,
     "metadata": {},
     "output_type": "execute_result"
    }
   ],
   "source": [
    "#If this were an Exponential Distribution and Not Uniform\n",
    "dist = stats.expon(loc=0, scale=30)\n",
    "#Longer Than Ten Minutes\n",
    "1 - dist.cdf(10)"
   ]
  },
  {
   "cell_type": "code",
   "execution_count": 6,
   "metadata": {},
   "outputs": [
    {
     "data": {
      "text/plain": [
       "0.7165313105737893"
      ]
     },
     "execution_count": 6,
     "metadata": {},
     "output_type": "execute_result"
    }
   ],
   "source": [
    "#Longer Than Ten Minutes Given That You've Already Waited Fifteen Minutes\n",
    "1 - dist.cdf(10)"
   ]
  },
  {
   "cell_type": "markdown",
   "metadata": {},
   "source": [
    "    23. If X is a normal random variable with parameters µ = 10, σ2 = 36, compute:"
   ]
  },
  {
   "cell_type": "code",
   "execution_count": 7,
   "metadata": {
    "collapsed": true
   },
   "outputs": [],
   "source": [
    "dist = stats.norm(10, 6)"
   ]
  },
  {
   "cell_type": "code",
   "execution_count": 8,
   "metadata": {},
   "outputs": [
    {
     "data": {
      "text/plain": [
       "0.7976716190363569"
      ]
     },
     "execution_count": 8,
     "metadata": {},
     "output_type": "execute_result"
    }
   ],
   "source": [
    "#(a) P{X > 5};\n",
    "1 - dist.cdf(5)"
   ]
  },
  {
   "cell_type": "code",
   "execution_count": 9,
   "metadata": {},
   "outputs": [
    {
     "data": {
      "text/plain": [
       "0.6826894921370859"
      ]
     },
     "execution_count": 9,
     "metadata": {},
     "output_type": "execute_result"
    }
   ],
   "source": [
    "#(b) P{4 < X < 16};\n",
    "dist.cdf(16) - dist.cdf(4)"
   ]
  },
  {
   "cell_type": "code",
   "execution_count": 10,
   "metadata": {},
   "outputs": [
    {
     "data": {
      "text/plain": [
       "0.36944134018176367"
      ]
     },
     "execution_count": 10,
     "metadata": {},
     "output_type": "execute_result"
    }
   ],
   "source": [
    "#(c) P{X < 8};\n",
    "dist.cdf(8)"
   ]
  },
  {
   "cell_type": "code",
   "execution_count": 11,
   "metadata": {},
   "outputs": [
    {
     "data": {
      "text/plain": [
       "0.9522096477271853"
      ]
     },
     "execution_count": 11,
     "metadata": {},
     "output_type": "execute_result"
    }
   ],
   "source": [
    "#(d) P{X < 20};\n",
    "dist.cdf(20)"
   ]
  },
  {
   "cell_type": "code",
   "execution_count": 12,
   "metadata": {},
   "outputs": [
    {
     "data": {
      "text/plain": [
       "0.15865525393145707"
      ]
     },
     "execution_count": 12,
     "metadata": {},
     "output_type": "execute_result"
    }
   ],
   "source": [
    "#(e) P{X > 16}.\n",
    "1 - dist.cdf(16)"
   ]
  },
  {
   "cell_type": "markdown",
   "metadata": {},
   "source": [
    "    24. The Scholastic Aptitude Test mathematics test scores across the population of\n",
    "    high school seniors follow a normal distribution with mean 500 and standard\n",
    "    deviation 100. If five seniors are randomly chosen, find the probability that\n",
    "    (a) all scored below 600 and (b) exactly three of them scored above 640."
   ]
  },
  {
   "cell_type": "code",
   "execution_count": 13,
   "metadata": {
    "collapsed": true
   },
   "outputs": [],
   "source": [
    "dist = stats.norm(500, 100)"
   ]
  },
  {
   "cell_type": "code",
   "execution_count": 14,
   "metadata": {},
   "outputs": [
    {
     "data": {
      "text/plain": [
       "0.42157023045754516"
      ]
     },
     "execution_count": 14,
     "metadata": {},
     "output_type": "execute_result"
    }
   ],
   "source": [
    "np.power(dist.cdf(600), 5) * comb(5,5)"
   ]
  },
  {
   "cell_type": "code",
   "execution_count": 15,
   "metadata": {},
   "outputs": [
    {
     "data": {
      "text/plain": [
       "0.004450368968234036"
      ]
     },
     "execution_count": 15,
     "metadata": {},
     "output_type": "execute_result"
    }
   ],
   "source": [
    "np.power(dist.cdf(640), 2) * np.power(1 - dist.cdf(640), 3) * comb(5, 3)"
   ]
  },
  {
   "cell_type": "markdown",
   "metadata": {},
   "source": [
    "    25. The annual rainfall (in inches) in a certain region is normally distributed with\n",
    "    µ = 40, σ = 4. What is the probability that in 2 of the next 4 years the rainfall\n",
    "    will exceed 50 inches? Assume that the rainfalls in different years are independent"
   ]
  },
  {
   "cell_type": "code",
   "execution_count": 16,
   "metadata": {},
   "outputs": [
    {
     "data": {
      "text/plain": [
       "0.00022849524983804603"
      ]
     },
     "execution_count": 16,
     "metadata": {},
     "output_type": "execute_result"
    }
   ],
   "source": [
    "dist = stats.norm(40, 4)\n",
    "np.power(dist.cdf(50), 2) * np.power(1 - dist.cdf(50), 2) * comb(4,2)"
   ]
  },
  {
   "cell_type": "markdown",
   "metadata": {},
   "source": [
    "    26. The width of a slot of a duralumin forging is (in inches) normally distributed with\n",
    "    µ = .9000 and σ = .0030. The specification limits were given as .9000±.0050.\n",
    "    What percentage of forgings will be defective? What is the maximum allowable\n",
    "    value of σ that will permit no more than 1 in 100 defectives when the widths are\n",
    "    normally distributed with µ = .9000 and σ = .0030?"
   ]
  },
  {
   "cell_type": "code",
   "execution_count": 17,
   "metadata": {},
   "outputs": [
    {
     "data": {
      "text/plain": [
       "0.09558070454562914"
      ]
     },
     "execution_count": 17,
     "metadata": {},
     "output_type": "execute_result"
    }
   ],
   "source": [
    "dist = stats.norm(0.9, 0.003)\n",
    "#Percentage of Defective Forging\n",
    "dist.cdf(.9 - .005) + (1 - dist.cdf(.9 + .005))"
   ]
  },
  {
   "cell_type": "code",
   "execution_count": 18,
   "metadata": {},
   "outputs": [
    {
     "name": "stdout",
     "output_type": "stream",
     "text": [
      "Maximum Standard Deviation 0.0019399999999999973 0.009956984381494834\n"
     ]
    }
   ],
   "source": [
    "i = 0.00300\n",
    "dist = stats.norm(0.9, i)\n",
    "x = dist.cdf(.9 - .005) + (1 - dist.cdf(.9 + .005))\n",
    "while x > 0.01:\n",
    "    i -= 0.00001\n",
    "    dist = stats.norm(0.9, i)\n",
    "    x = dist.cdf(.9 - .005) + (1 - dist.cdf(.9 + .005))\n",
    "print('Maximum Standard Deviation', i, dist.cdf(.9 - .005) + (1 - dist.cdf(.9 + .005)))"
   ]
  },
  {
   "cell_type": "markdown",
   "metadata": {},
   "source": [
    "    27. A certain type of lightbulb has an output that is normally distributed with mean\n",
    "    2,000 end foot candles and standard deviation 85 end foot candles. Determine\n",
    "    a lower specification limit L so that only 5 percent of the lightbulbs produced\n",
    "    will be defective. (That is, determine L so that P{X ≥ L} = .95, where X is the\n",
    "    output of a bulb.)"
   ]
  },
  {
   "cell_type": "code",
   "execution_count": 19,
   "metadata": {},
   "outputs": [
    {
     "data": {
      "text/plain": [
       "1860.1874417091249"
      ]
     },
     "execution_count": 19,
     "metadata": {},
     "output_type": "execute_result"
    }
   ],
   "source": [
    "dist = stats.norm(2000, 85)\n",
    "dist.ppf(0.05)"
   ]
  },
  {
   "cell_type": "markdown",
   "metadata": {},
   "source": [
    "    28. A manufacturer produces bolts that are specified to be between 1.19 and\n",
    "    1.21 inches in diameter. If its production process results in a bolt’s diameter\n",
    "    being normally distributed with mean 1.20 inches and standard deviation .005,\n",
    "    what percentage of bolts will not meet specifications?"
   ]
  },
  {
   "cell_type": "code",
   "execution_count": 20,
   "metadata": {},
   "outputs": [
    {
     "data": {
      "text/plain": [
       "0.045500263896358195"
      ]
     },
     "execution_count": 20,
     "metadata": {},
     "output_type": "execute_result"
    }
   ],
   "source": [
    "dist = stats.norm(1.2, 0.005)\n",
    "dist.cdf(1.19) + (1 - dist.cdf(1.21))"
   ]
  },
  {
   "cell_type": "markdown",
   "metadata": {},
   "source": [
    "### Chapter 6"
   ]
  },
  {
   "cell_type": "markdown",
   "metadata": {},
   "source": [
    "    10. A tobacco company claims that the amount of nicotine in its cigarettes is a random\n",
    "    variable with mean 2.2 mg and standard deviation .3 mg. However, the sample\n",
    "    mean nicotine content of 100 randomly chosen cigarettes was 3.1 mg. What is the\n",
    "    approximate probability that the sample mean would have been as high or higher\n",
    "    than 3.1 if the company’s claims were true?"
   ]
  },
  {
   "cell_type": "code",
   "execution_count": 21,
   "metadata": {},
   "outputs": [
    {
     "data": {
      "text/plain": [
       "0.0"
      ]
     },
     "execution_count": 21,
     "metadata": {},
     "output_type": "execute_result"
    }
   ],
   "source": [
    "dist = stats.norm(2.2, 0.3 / np.sqrt(100))\n",
    "1 - dist.cdf(3.1)"
   ]
  },
  {
   "cell_type": "markdown",
   "metadata": {},
   "source": [
    "    11. The lifetime (in hours) of a type of electric bulb has expected value 500 and\n",
    "    standard deviation 80. Approximate the probability that the sample mean of n\n",
    "    such bulbs is greater than 525 when\n"
   ]
  },
  {
   "cell_type": "code",
   "execution_count": 22,
   "metadata": {},
   "outputs": [
    {
     "data": {
      "text/plain": [
       "0.26598552904870054"
      ]
     },
     "execution_count": 22,
     "metadata": {},
     "output_type": "execute_result"
    }
   ],
   "source": [
    "#(a) n = 4;\n",
    "dist = stats.norm(500, 80/np.sqrt(4))\n",
    "1 - dist.cdf(525)"
   ]
  },
  {
   "cell_type": "code",
   "execution_count": 23,
   "metadata": {},
   "outputs": [
    {
     "data": {
      "text/plain": [
       "0.10564977366685535"
      ]
     },
     "execution_count": 23,
     "metadata": {},
     "output_type": "execute_result"
    }
   ],
   "source": [
    "#(b) n = 16;\n",
    "dist = stats.norm(500, 80/np.sqrt(16))\n",
    "1 - dist.cdf(525)"
   ]
  },
  {
   "cell_type": "code",
   "execution_count": 24,
   "metadata": {},
   "outputs": [
    {
     "data": {
      "text/plain": [
       "0.030396361765261393"
      ]
     },
     "execution_count": 24,
     "metadata": {},
     "output_type": "execute_result"
    }
   ],
   "source": [
    "#(c) n = 36;\n",
    "dist = stats.norm(500, 80/np.sqrt(36))\n",
    "1 - dist.cdf(525)"
   ]
  },
  {
   "cell_type": "code",
   "execution_count": 25,
   "metadata": {},
   "outputs": [
    {
     "data": {
      "text/plain": [
       "0.006209665325776159"
      ]
     },
     "execution_count": 25,
     "metadata": {},
     "output_type": "execute_result"
    }
   ],
   "source": [
    "#(d) n = 64.\n",
    "dist = stats.norm(500, 80/np.sqrt(64))\n",
    "1 - dist.cdf(525)"
   ]
  },
  {
   "cell_type": "markdown",
   "metadata": {},
   "source": [
    "    12. An instructor knows from past experience that student exam scores have mean\n",
    "    77 and standard deviation 15. At present the instructor is teaching two separate\n",
    "    classes — one of size 25 and the other of size 64."
   ]
  },
  {
   "cell_type": "markdown",
   "metadata": {},
   "source": [
    "    a) Approximate the probability that the average test score in the class of size 25\n",
    "    lies between 72 and 82."
   ]
  },
  {
   "cell_type": "code",
   "execution_count": 26,
   "metadata": {},
   "outputs": [
    {
     "data": {
      "text/plain": [
       "0.9044192954543706"
      ]
     },
     "execution_count": 26,
     "metadata": {},
     "output_type": "execute_result"
    }
   ],
   "source": [
    "dist = stats.norm(77, 15/np.sqrt(25))\n",
    "dist.cdf(82) - dist.cdf(72)"
   ]
  },
  {
   "cell_type": "markdown",
   "metadata": {},
   "source": [
    "    b) Repeat part (a) for a class of size 64."
   ]
  },
  {
   "cell_type": "code",
   "execution_count": 27,
   "metadata": {},
   "outputs": [
    {
     "data": {
      "text/plain": [
       "0.9923392388648204"
      ]
     },
     "execution_count": 27,
     "metadata": {},
     "output_type": "execute_result"
    }
   ],
   "source": [
    "dist = stats.norm(77, 15/np.sqrt(64))\n",
    "dist.cdf(82) - dist.cdf(72)"
   ]
  },
  {
   "cell_type": "markdown",
   "metadata": {},
   "source": [
    "c) What is the approximate probability that the average test score in the class of\n",
    "size 25 is higher than that of the class of size 64?"
   ]
  },
  {
   "cell_type": "code",
   "execution_count": 28,
   "metadata": {},
   "outputs": [
    {
     "name": "stdout",
     "output_type": "stream",
     "text": [
      "0.5018\n"
     ]
    }
   ],
   "source": [
    "np.random.seed(42)\n",
    "dist_a = stats.norm(77, 15/np.sqrt(25))\n",
    "dist_b = stats.norm(77, 15/np.sqrt(64))\n",
    "total_count = 0\n",
    "for i in range(10000):\n",
    "    if dist_a.rvs() > dist_b.rvs():\n",
    "        total_count += 1\n",
    "print(total_count / 10000)"
   ]
  },
  {
   "cell_type": "markdown",
   "metadata": {},
   "source": [
    "This answer is technically 50%, we can do a mock simulation to see that it's around that. Intuitively this makes sense, even though the tails are longer for the class of 25, this goes both ways, and both distributions have the same mean."
   ]
  },
  {
   "cell_type": "markdown",
   "metadata": {},
   "source": [
    "d) Suppose the average scores in the two classes are 76 and 83. Which class, the\n",
    "    one of size 25 or the one of size 64, do you think was more likely to have\n",
    "    averaged 83?"
   ]
  },
  {
   "cell_type": "code",
   "execution_count": 29,
   "metadata": {},
   "outputs": [
    {
     "data": {
      "text/plain": [
       "0.017996988837729353"
      ]
     },
     "execution_count": 29,
     "metadata": {},
     "output_type": "execute_result"
    }
   ],
   "source": [
    "dist_a.pdf(83)"
   ]
  },
  {
   "cell_type": "code",
   "execution_count": 30,
   "metadata": {},
   "outputs": [
    {
     "data": {
      "text/plain": [
       "0.0012715137074479149"
      ]
     },
     "execution_count": 30,
     "metadata": {},
     "output_type": "execute_result"
    }
   ],
   "source": [
    "dist_b.pdf(83)"
   ]
  },
  {
   "cell_type": "markdown",
   "metadata": {},
   "source": [
    "The class of 25 has a higher chance of scoring 83 as it has a higher PDF with that value. Again, this intuitively makes sense, as the class of 25 has a longer tail than the class of 64 and has more of a chance of having an 'outlier' value"
   ]
  },
  {
   "cell_type": "markdown",
   "metadata": {},
   "source": [
    "    13. If X is binomial with parameters n = 150, p = .6, compute the exact value of\n",
    "    P{X ≤ 80} and compare with its normal approximation both (a) making use of\n",
    "    and (b) not making use of the continuity correction."
   ]
  },
  {
   "cell_type": "code",
   "execution_count": 31,
   "metadata": {},
   "outputs": [
    {
     "data": {
      "text/plain": [
       "0.05745956249718806"
      ]
     },
     "execution_count": 31,
     "metadata": {},
     "output_type": "execute_result"
    }
   ],
   "source": [
    "binom_dist = stats.binom(n=150, p=0.6)\n",
    "binom_dist.cdf(80)"
   ]
  },
  {
   "cell_type": "code",
   "execution_count": 32,
   "metadata": {},
   "outputs": [
    {
     "data": {
      "text/plain": [
       "0.05667275460976292"
      ]
     },
     "execution_count": 32,
     "metadata": {},
     "output_type": "execute_result"
    }
   ],
   "source": [
    "norm_dist = stats.norm(binom_dist.mean(), binom_dist.std())\n",
    "#NormalApproximationWithContinuityCorrection\n",
    "norm_dist.cdf(80.5)"
   ]
  },
  {
   "cell_type": "code",
   "execution_count": 33,
   "metadata": {},
   "outputs": [
    {
     "data": {
      "text/plain": [
       "0.0477903522728147"
      ]
     },
     "execution_count": 33,
     "metadata": {},
     "output_type": "execute_result"
    }
   ],
   "source": [
    "norm_dist.cdf(80)"
   ]
  }
 ],
 "metadata": {
  "kernelspec": {
   "display_name": "Python 3",
   "language": "python",
   "name": "python3"
  },
  "language_info": {
   "codemirror_mode": {
    "name": "ipython",
    "version": 3
   },
   "file_extension": ".py",
   "mimetype": "text/x-python",
   "name": "python",
   "nbconvert_exporter": "python",
   "pygments_lexer": "ipython3",
   "version": "3.6.3"
  }
 },
 "nbformat": 4,
 "nbformat_minor": 2
}
