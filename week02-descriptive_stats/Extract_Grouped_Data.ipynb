{
 "cells": [
  {
   "cell_type": "code",
   "execution_count": 1,
   "metadata": {
    "collapsed": true
   },
   "outputs": [],
   "source": [
    "import pandas as pd"
   ]
  },
  {
   "cell_type": "code",
   "execution_count": 2,
   "metadata": {},
   "outputs": [],
   "source": [
    "def get_countries_in_continent(url, continent_name, table_location=0):\n",
    "    continent = pd.read_html(url, header=0)[table_location]\n",
    "    countries = continent['Country(or dependent territory)'].str.split('[').str[0].str.split('(').str[0].str.strip()\n",
    "    df = pd.DataFrame(countries)\n",
    "    df['Continent'] = continent_name\n",
    "    return df"
   ]
  },
  {
   "cell_type": "code",
   "execution_count": 3,
   "metadata": {},
   "outputs": [],
   "source": [
    "africa = get_countries_in_continent('https://en.wikipedia.org/wiki/List_of_African_countries_by_population', 'Africa')\n",
    "asia = get_countries_in_continent('https://en.wikipedia.org/wiki/List_of_Asian_countries_by_population', 'Asia')\n",
    "europe = get_countries_in_continent('https://en.wikipedia.org/wiki/List_of_European_countries_by_population', 'Europe')\n",
    "north_america = get_countries_in_continent('https://en.wikipedia.org/wiki/List_of_North_American_countries_by_population', 'North America', table_location=1)\n",
    "south_america = get_countries_in_continent('https://en.wikipedia.org/wiki/List_of_South_American_countries_by_population', 'South America')\n",
    "oceania = get_countries_in_continent('https://en.wikipedia.org/wiki/List_of_Oceanian_countries_by_population', 'Oceania')"
   ]
  },
  {
   "cell_type": "code",
   "execution_count": 4,
   "metadata": {},
   "outputs": [
    {
     "data": {
      "text/html": [
       "<div>\n",
       "<style scoped>\n",
       "    .dataframe tbody tr th:only-of-type {\n",
       "        vertical-align: middle;\n",
       "    }\n",
       "\n",
       "    .dataframe tbody tr th {\n",
       "        vertical-align: top;\n",
       "    }\n",
       "\n",
       "    .dataframe thead th {\n",
       "        text-align: right;\n",
       "    }\n",
       "</style>\n",
       "<table border=\"1\" class=\"dataframe\">\n",
       "  <thead>\n",
       "    <tr style=\"text-align: right;\">\n",
       "      <th></th>\n",
       "      <th>Country(or dependent territory)</th>\n",
       "      <th>Continent</th>\n",
       "    </tr>\n",
       "  </thead>\n",
       "  <tbody>\n",
       "    <tr>\n",
       "      <th>0</th>\n",
       "      <td>Nigeria</td>\n",
       "      <td>Africa</td>\n",
       "    </tr>\n",
       "    <tr>\n",
       "      <th>1</th>\n",
       "      <td>Ethiopia</td>\n",
       "      <td>Africa</td>\n",
       "    </tr>\n",
       "    <tr>\n",
       "      <th>2</th>\n",
       "      <td>Egypt</td>\n",
       "      <td>Africa</td>\n",
       "    </tr>\n",
       "    <tr>\n",
       "      <th>3</th>\n",
       "      <td>Democratic Republic of the Congo</td>\n",
       "      <td>Africa</td>\n",
       "    </tr>\n",
       "    <tr>\n",
       "      <th>4</th>\n",
       "      <td>South Africa</td>\n",
       "      <td>Africa</td>\n",
       "    </tr>\n",
       "  </tbody>\n",
       "</table>\n",
       "</div>"
      ],
      "text/plain": [
       "    Country(or dependent territory) Continent\n",
       "0                           Nigeria    Africa\n",
       "1                          Ethiopia    Africa\n",
       "2                             Egypt    Africa\n",
       "3  Democratic Republic of the Congo    Africa\n",
       "4                      South Africa    Africa"
      ]
     },
     "execution_count": 4,
     "metadata": {},
     "output_type": "execute_result"
    }
   ],
   "source": [
    "continents = pd.concat([africa, asia, europe, north_america, south_america, oceania], ignore_index=True)\n",
    "continents.head()"
   ]
  },
  {
   "cell_type": "code",
   "execution_count": 5,
   "metadata": {
    "collapsed": true
   },
   "outputs": [],
   "source": [
    "continents.to_csv('continents.csv', index=False)"
   ]
  }
 ],
 "metadata": {
  "kernelspec": {
   "display_name": "Python 3",
   "language": "python",
   "name": "python3"
  },
  "language_info": {
   "codemirror_mode": {
    "name": "ipython",
    "version": 3
   },
   "file_extension": ".py",
   "mimetype": "text/x-python",
   "name": "python",
   "nbconvert_exporter": "python",
   "pygments_lexer": "ipython3",
   "version": "3.6.3"
  }
 },
 "nbformat": 4,
 "nbformat_minor": 2
}
