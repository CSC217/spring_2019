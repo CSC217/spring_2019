{
 "cells": [
  {
   "cell_type": "code",
   "execution_count": null,
   "metadata": {
    "collapsed": true
   },
   "outputs": [],
   "source": [
    "import pandas as pd\n",
    "import numpy as np\n",
    "import seaborn as sns\n",
    "import matplotlib.pyplot as plt\n",
    "%matplotlib inline"
   ]
  },
  {
   "cell_type": "markdown",
   "metadata": {},
   "source": [
    "#### 1. Answer Questions 1 through 5 of part 6 of the classwork. You can work right in the notebook from class if you wish, or create a new notebook (or paste it below). Please copy and paste each question into its own cell with answers below it."
   ]
  },
  {
   "cell_type": "code",
   "execution_count": null,
   "metadata": {
    "collapsed": true
   },
   "outputs": [],
   "source": [
    "l = pd.read_html('https://en.wikipedia.org/wiki/List_of_countries_by_GDP_(nominal)', header=0)\n",
    "world_gdp = l[1].iloc[3:194,1:3].reset_index(drop=True)\n",
    "world_gdp.columns = ['Country', 'GDP']\n",
    "world_gdp['Country'] = world_gdp['Country'].str.split('[').str[0]\n",
    "world_gdp['GDP'] = world_gdp['GDP'].str.split('/').str[0].str.replace(',','')\n",
    "world_gdp['GDP'] = world_gdp['GDP'].astype('float')\n",
    "world_gdp['GDP_Log'] = np.log(world_gdp['GDP'])"
   ]
  },
  {
   "cell_type": "markdown",
   "metadata": {},
   "source": [
    "#### 1. Plot the histogram, swarmplot, boxplot, and ECDF of the GDP Log. How does this histogram differ from the histogram we saw of the median age above? How does the ECDF differ from the ECDF we saw of the median age? What else can we tell about the distribution from these plots? Are there any outliers?"
   ]
  },
  {
   "cell_type": "code",
   "execution_count": null,
   "metadata": {},
   "outputs": [],
   "source": [
    "fig = plt.figure(figsize=(10,10))\n",
    "plt.hist(world_gdp['GDP_Log'])"
   ]
  },
  {
   "cell_type": "code",
   "execution_count": null,
   "metadata": {},
   "outputs": [],
   "source": [
    "fig = plt.figure(figsize=(10,10))\n",
    "sns.swarmplot(data=world_gdp['GDP_Log'])"
   ]
  },
  {
   "cell_type": "code",
   "execution_count": null,
   "metadata": {},
   "outputs": [],
   "source": [
    "fig = plt.figure(figsize=(10,10))\n",
    "n,bins,patches = plt.hist(world_gdp['GDP_Log'], cumulative=True, bins=50, density=True, histtype='step');\n",
    "#This extra line removes the final line from the graph\n",
    "patches[0].set_xy(patches[0].get_xy()[:-1])"
   ]
  },
  {
   "cell_type": "code",
   "execution_count": null,
   "metadata": {},
   "outputs": [],
   "source": [
    "fig = plt.figure(figsize=(10,10))\n",
    "plt.boxplot(world_gdp['GDP_Log'])"
   ]
  },
  {
   "cell_type": "markdown",
   "metadata": {},
   "source": [
    "This histogram has a normal distribution, while the histogram we looked at during class has more of a uniform distribution. This is also seen in the ECDF, which is curved compared to the relatively straight ECDF of the countries' ages. There is one outlier on the lower end."
   ]
  },
  {
   "cell_type": "markdown",
   "metadata": {},
   "source": [
    "#### 2. Find the mean, median, variance, standard deviation, maximum, minimum, range, and Interquartile Range of the GDP Log."
   ]
  },
  {
   "cell_type": "code",
   "execution_count": null,
   "metadata": {},
   "outputs": [],
   "source": [
    "np.mean(world_gdp['GDP_Log'])"
   ]
  },
  {
   "cell_type": "code",
   "execution_count": null,
   "metadata": {},
   "outputs": [],
   "source": [
    "np.median(world_gdp['GDP_Log'])"
   ]
  },
  {
   "cell_type": "code",
   "execution_count": null,
   "metadata": {},
   "outputs": [],
   "source": [
    "np.var(world_gdp['GDP_Log'])"
   ]
  },
  {
   "cell_type": "code",
   "execution_count": null,
   "metadata": {},
   "outputs": [],
   "source": [
    "np.std(world_gdp['GDP_Log'])"
   ]
  },
  {
   "cell_type": "code",
   "execution_count": null,
   "metadata": {},
   "outputs": [],
   "source": [
    "np.max(world_gdp['GDP_Log'])"
   ]
  },
  {
   "cell_type": "code",
   "execution_count": null,
   "metadata": {},
   "outputs": [],
   "source": [
    "np.min(world_gdp['GDP_Log'])"
   ]
  },
  {
   "cell_type": "code",
   "execution_count": null,
   "metadata": {},
   "outputs": [],
   "source": [
    "np.max(world_gdp['GDP_Log']) - np.min(world_gdp['GDP_Log'])"
   ]
  },
  {
   "cell_type": "code",
   "execution_count": null,
   "metadata": {},
   "outputs": [],
   "source": [
    "np.percentile(world_gdp['GDP_Log'], 75) - np.percentile(world_gdp['GDP_Log'], 25)"
   ]
  },
  {
   "cell_type": "markdown",
   "metadata": {},
   "source": [
    "#### 3. Which country has the highest GDP? Which country has the lowest? Which countries are outliers? What constitutes the cutoff for an outlier in this case?"
   ]
  },
  {
   "cell_type": "code",
   "execution_count": null,
   "metadata": {},
   "outputs": [],
   "source": [
    "world_gdp[world_gdp['GDP_Log'] == np.max(world_gdp['GDP_Log'])]"
   ]
  },
  {
   "cell_type": "code",
   "execution_count": null,
   "metadata": {},
   "outputs": [],
   "source": [
    "world_gdp[world_gdp['GDP_Log'] == np.min(world_gdp['GDP_Log'])]"
   ]
  },
  {
   "cell_type": "code",
   "execution_count": null,
   "metadata": {},
   "outputs": [],
   "source": [
    "np.percentile(world_gdp['GDP_Log'], 25) - ((np.percentile(world_gdp['GDP_Log'], 75) - np.percentile(world_gdp['GDP_Log'], 25)) * 1.5)"
   ]
  },
  {
   "cell_type": "code",
   "execution_count": null,
   "metadata": {},
   "outputs": [],
   "source": [
    "world_gdp[world_gdp['GDP_Log'] < np.percentile(world_gdp['GDP_Log'], 25) - ((np.percentile(world_gdp['GDP_Log'], 75) - np.percentile(world_gdp['GDP_Log'], 25)) * 1.5)]"
   ]
  },
  {
   "cell_type": "markdown",
   "metadata": {},
   "source": [
    "#### 4. Now let's join the continents file in and see what we can find."
   ]
  },
  {
   "cell_type": "code",
   "execution_count": null,
   "metadata": {},
   "outputs": [],
   "source": [
    "continents = pd.read_csv('https://github.com/CSC217/spring_2019/raw/master/week02-descriptive_stats/continents.csv')\n",
    "world_gdp_new = world_gdp.merge(continents, how='inner', left_on='Country', right_on='Country(or dependent territory)')\n",
    "world_gdp_new = world_gdp_new[['Country', 'GDP_Log', 'Continent']]\n",
    "world_gdp_new.head()"
   ]
  },
  {
   "cell_type": "markdown",
   "metadata": {},
   "source": [
    "#### 5. Plot the swarmplot, boxplot, and ECDF of the gropued GDP Log. Which continent has the highest mean GDP? Which continent has the highest median GDP? Which continent had the highest difference between its median GDP and mean GDP? What do you think accounts for that difference? Which continent has the highest variance? Which continent has the highest range? Do any of the continents have outliers, and if so, which countries are outliers?"
   ]
  },
  {
   "cell_type": "code",
   "execution_count": null,
   "metadata": {},
   "outputs": [],
   "source": [
    "fig = plt.figure(figsize=(10,10))\n",
    "sns.swarmplot(x='Continent', y='GDP_Log', data=world_gdp_new)\n",
    "plt.gca().legend(world_gdp_new['Continent'].unique())"
   ]
  },
  {
   "cell_type": "code",
   "execution_count": null,
   "metadata": {},
   "outputs": [],
   "source": [
    "fig = plt.figure(figsize=(10,10))\n",
    "sns.boxplot(x='Continent', y='GDP_Log', data=world_gdp_new)\n",
    "plt.gca().legend(world_gdp_new['Continent'].unique())"
   ]
  },
  {
   "cell_type": "code",
   "execution_count": null,
   "metadata": {},
   "outputs": [],
   "source": [
    "#Plot an ECDF\n",
    "fig = plt.figure(figsize=(10,10))\n",
    "for continent in world_gdp_new['Continent'].unique():\n",
    "    n,bins,patches = plt.hist(world_gdp_new[world_gdp_new['Continent'] == continent]['GDP_Log'], cumulative=True, bins=50, density=True, histtype='step');\n",
    "    #This extra line removes the final line from the graph\n",
    "    patches[0].set_xy(patches[0].get_xy()[:-1])\n",
    "plt.gca().legend(world_gdp_new['Continent'].unique(), loc='lower right')"
   ]
  },
  {
   "cell_type": "code",
   "execution_count": null,
   "metadata": {},
   "outputs": [],
   "source": [
    "world_gdp_new.groupby('Continent').mean()"
   ]
  },
  {
   "cell_type": "code",
   "execution_count": null,
   "metadata": {},
   "outputs": [],
   "source": [
    "world_gdp_new.groupby('Continent').median()"
   ]
  },
  {
   "cell_type": "code",
   "execution_count": null,
   "metadata": {},
   "outputs": [],
   "source": [
    "np.abs(world_gdp_new.groupby('Continent').median() - world_gdp_new.groupby('Continent').mean())"
   ]
  },
  {
   "cell_type": "code",
   "execution_count": null,
   "metadata": {},
   "outputs": [],
   "source": [
    "world_gdp_new.groupby('Continent').var()"
   ]
  },
  {
   "cell_type": "code",
   "execution_count": null,
   "metadata": {},
   "outputs": [],
   "source": [
    "world_gdp_new.groupby('Continent')['GDP_Log'].max() - world_gdp_new.groupby('Continent')['GDP_Log'].min()"
   ]
  },
  {
   "cell_type": "markdown",
   "metadata": {},
   "source": [
    "Europe has the highest mean and median GDP. Oceania had the largest difference in its median and mean because it was right skewed and had an outlier on the high end. Oceania had the highest variance, while North America had the highest range."
   ]
  },
  {
   "cell_type": "code",
   "execution_count": null,
   "metadata": {},
   "outputs": [],
   "source": [
    "for i in world_gdp_new['Continent'].unique():\n",
    "    iqr = np.percentile(world_gdp_new[world_gdp_new['Continent'] == i]['GDP_Log'], 75) - np.percentile(world_gdp_new[world_gdp_new['Continent'] == i]['GDP_Log'], 25)\n",
    "    print('high_outliers', i)\n",
    "    high_cutoff = np.percentile(world_gdp_new[world_gdp_new['Continent'] == i]['GDP_Log'], 75) + (iqr * 1.5)\n",
    "    print(world_gdp_new[(world_gdp_new['Continent'] == i) & (world_gdp_new['GDP_Log'] >= high_cutoff)])\n",
    "    print('low outliers', i)\n",
    "    low_cutoff = np.percentile(world_gdp_new[world_gdp_new['Continent'] == i]['GDP_Log'], 25) - (iqr * 1.5)\n",
    "    print(world_gdp_new[(world_gdp_new['Continent'] == i) & (world_gdp_new['GDP_Log'] <= low_cutoff)])"
   ]
  },
  {
   "cell_type": "code",
   "execution_count": null,
   "metadata": {},
   "outputs": [],
   "source": [
    "plt.hist(world_gdp_new[world_gdp_new['Continent'] == 'Oceania']['GDP_Log'])"
   ]
  },
  {
   "cell_type": "code",
   "execution_count": null,
   "metadata": {},
   "outputs": [],
   "source": [
    "plt.hist(world_gdp_new[world_gdp_new['Continent'] == 'North America']['GDP_Log'])"
   ]
  },
  {
   "cell_type": "markdown",
   "metadata": {},
   "source": [
    "#### 2. Answer Questions 1 through 10 from here below (please copy and paste each question into its own cell with answers below it). I've loaded in the code for you and cleaned it up a bit."
   ]
  },
  {
   "cell_type": "code",
   "execution_count": null,
   "metadata": {
    "collapsed": true
   },
   "outputs": [],
   "source": [
    "df = pd.read_csv('https://archive.ics.uci.edu/ml/machine-learning-databases/adult/adult.data')\n",
    "df.columns = ['age', 'workingclass', 'fnlwgt', 'education', 'education-num', 'martial-status', 'occupation', 'relationship', 'race', 'sex', 'capital-gain', 'capital-loss', 'hours-per-week', 'native-country', 'salary']\n",
    "df['salary'] = df['salary'].str.strip()\n",
    "df['native-country'] = df['native-country'].str.strip()"
   ]
  },
  {
   "cell_type": "markdown",
   "metadata": {},
   "source": [
    "#### 1. How many men and women (sex feature) are represented in this dataset?"
   ]
  },
  {
   "cell_type": "code",
   "execution_count": null,
   "metadata": {},
   "outputs": [],
   "source": [
    "df['sex'].value_counts()"
   ]
  },
  {
   "cell_type": "markdown",
   "metadata": {},
   "source": [
    "#### 2. What is the average age (age feature) of women?"
   ]
  },
  {
   "cell_type": "code",
   "execution_count": null,
   "metadata": {},
   "outputs": [],
   "source": [
    "df.groupby('sex')['age'].mean()"
   ]
  },
  {
   "cell_type": "markdown",
   "metadata": {},
   "source": [
    "#### 3. What is the percentage of German citizens (native-country feature)?"
   ]
  },
  {
   "cell_type": "code",
   "execution_count": null,
   "metadata": {},
   "outputs": [],
   "source": [
    "df['native-country'].value_counts(normalize=True)"
   ]
  },
  {
   "cell_type": "markdown",
   "metadata": {},
   "source": [
    "#### 4-5. What are the mean and standard deviation of age for those who earn more than 50K per year (salary feature) and those who earn less than 50K per year?"
   ]
  },
  {
   "cell_type": "code",
   "execution_count": null,
   "metadata": {},
   "outputs": [],
   "source": [
    "df.groupby('salary')['age'].mean()"
   ]
  },
  {
   "cell_type": "code",
   "execution_count": null,
   "metadata": {},
   "outputs": [],
   "source": [
    "df.groupby('salary')['age'].std()"
   ]
  },
  {
   "cell_type": "markdown",
   "metadata": {},
   "source": [
    "#### 6. Is it true that people who earn more than 50K have at least high school education? (education – Bachelors, Prof-school, Assoc-acdm, Assoc-voc, Masters or Doctorate feature)"
   ]
  },
  {
   "cell_type": "code",
   "execution_count": null,
   "metadata": {},
   "outputs": [],
   "source": [
    "df[df['salary'] == '>50K']['education'].value_counts()"
   ]
  },
  {
   "cell_type": "markdown",
   "metadata": {},
   "source": [
    "#### 7. Display age statistics for each race (race feature) and each gender (sex feature). Use groupby() and describe(). Find the maximum age of men of Amer-Indian-Eskimo race."
   ]
  },
  {
   "cell_type": "code",
   "execution_count": null,
   "metadata": {},
   "outputs": [],
   "source": [
    "df.groupby('race')['age'].describe()"
   ]
  },
  {
   "cell_type": "markdown",
   "metadata": {},
   "source": [
    "#### 8. Among whom is the proportion of those who earn a lot (>50K) greater: married or single men (marital-status feature)? Consider as married those who have a marital-status starting with Married (Married-civ-spouse, Married-spouse-absent or Married-AF-spouse), the rest are considered bachelors."
   ]
  },
  {
   "cell_type": "code",
   "execution_count": null,
   "metadata": {},
   "outputs": [],
   "source": [
    "df[df['salary'] == '>50K']['martial-status'].value_counts()"
   ]
  },
  {
   "cell_type": "markdown",
   "metadata": {},
   "source": [
    "#### 9. What is the maximum number of hours a person works per week (hours-per-week feature)? How many people work such a number of hours, and what is the percentage of those who earn a lot (>50K) among them?"
   ]
  },
  {
   "cell_type": "code",
   "execution_count": null,
   "metadata": {},
   "outputs": [],
   "source": [
    "df[df['hours-per-week'] == df['hours-per-week'].max()].shape"
   ]
  },
  {
   "cell_type": "code",
   "execution_count": null,
   "metadata": {},
   "outputs": [],
   "source": [
    "df[df['hours-per-week'] == df['hours-per-week'].max()]['salary'].value_counts(normalize=True)"
   ]
  },
  {
   "cell_type": "markdown",
   "metadata": {},
   "source": [
    "#### 10. Count the average time of work (hours-per-week) for those who earn a little and a lot (salary) for each country (native-country). What will these be for Japan?"
   ]
  },
  {
   "cell_type": "code",
   "execution_count": null,
   "metadata": {},
   "outputs": [],
   "source": [
    "df[df['native-country'] == 'Japan'].groupby(['native-country', 'salary'])['hours-per-week'].mean()"
   ]
  },
  {
   "cell_type": "code",
   "execution_count": null,
   "metadata": {
    "collapsed": true
   },
   "outputs": [],
   "source": []
  }
 ],
 "metadata": {
  "kernelspec": {
   "display_name": "Python 3",
   "language": "python",
   "name": "python3"
  },
  "language_info": {
   "codemirror_mode": {
    "name": "ipython",
    "version": 3
   },
   "file_extension": ".py",
   "mimetype": "text/x-python",
   "name": "python",
   "nbconvert_exporter": "python",
   "pygments_lexer": "ipython3",
   "version": "3.6.3"
  }
 },
 "nbformat": 4,
 "nbformat_minor": 2
}
