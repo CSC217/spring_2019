{
 "cells": [
  {
   "cell_type": "code",
   "execution_count": 1,
   "metadata": {
    "collapsed": true
   },
   "outputs": [],
   "source": [
    "import pandas as pd\n",
    "import matplotlib.pyplot as plt\n",
    "import numpy as np\n",
    "import scipy.stats as stats\n",
    "%matplotlib inline"
   ]
  },
  {
   "cell_type": "code",
   "execution_count": 2,
   "metadata": {},
   "outputs": [],
   "source": [
    "education = pd.read_csv('Education.csv', encoding='ISO-8859-1', header=0)\n",
    "education = education.iloc[:, :-1]\n",
    "education = education.dropna().reset_index(drop=True)"
   ]
  },
  {
   "cell_type": "markdown",
   "metadata": {},
   "source": [
    "1) Plot a histogram of the percentage of adults with a bachelor's degree or higher in 2000."
   ]
  },
  {
   "cell_type": "code",
   "execution_count": 3,
   "metadata": {},
   "outputs": [
    {
     "data": {
      "text/plain": [
       "(array([ 645., 1351.,  605.,  277.,  124.,   60.,   38.,   16.,    6.,\n",
       "           3.]),\n",
       " array([ 4.9 , 10.78, 16.66, 22.54, 28.42, 34.3 , 40.18, 46.06, 51.94,\n",
       "        57.82, 63.7 ]),\n",
       " <a list of 10 Patch objects>)"
      ]
     },
     "execution_count": 3,
     "metadata": {},
     "output_type": "execute_result"
    },
    {
     "data": {
      "image/png": "[encoded data removed]",
      "text/plain": [
       "<matplotlib.figure.Figure at 0x127b22eb8>"
      ]
     },
     "metadata": {},
     "output_type": "display_data"
    }
   ],
   "source": [
    "plt.hist(education[\"Percent of adults with a bachelor's degree or higher, 2000\"])"
   ]
  },
  {
   "cell_type": "markdown",
   "metadata": {},
   "source": [
    "2) Plot a boxplot of the percentage of adults with a bachelor's degree or higher in 2000. Are there any outliers? If so, how many? What is the cutoff for an outlier on either side?"
   ]
  },
  {
   "cell_type": "code",
   "execution_count": 4,
   "metadata": {},
   "outputs": [
    {
     "data": {
      "text/plain": [
       "{'boxes': [<matplotlib.lines.Line2D at 0x10c29ca90>],\n",
       " 'caps': [<matplotlib.lines.Line2D at 0x10c29bf60>,\n",
       "  <matplotlib.lines.Line2D at 0x10c28a470>],\n",
       " 'fliers': [<matplotlib.lines.Line2D at 0x10c26ccc0>],\n",
       " 'means': [],\n",
       " 'medians': [<matplotlib.lines.Line2D at 0x10c275ef0>],\n",
       " 'whiskers': [<matplotlib.lines.Line2D at 0x10c29c898>,\n",
       "  <matplotlib.lines.Line2D at 0x10c29c400>]}"
      ]
     },
     "execution_count": 4,
     "metadata": {},
     "output_type": "execute_result"
    },
    {
     "data": {
      "image/png": "[encoded data removed]",
      "text/plain": [
       "<matplotlib.figure.Figure at 0x127a09d30>"
      ]
     },
     "metadata": {},
     "output_type": "display_data"
    }
   ],
   "source": [
    "plt.boxplot(education[\"Percent of adults with a bachelor's degree or higher, 2000\"])\n",
    "#plt.ylim(bottom=0)"
   ]
  },
  {
   "cell_type": "code",
   "execution_count": 5,
   "metadata": {},
   "outputs": [
    {
     "data": {
      "text/plain": [
       "31.3"
      ]
     },
     "execution_count": 5,
     "metadata": {},
     "output_type": "execute_result"
    }
   ],
   "source": [
    "np.percentile(education[\"Percent of adults with a bachelor's degree or higher, 2000\"], 75) + (1.5 * (np.percentile(education[\"Percent of adults with a bachelor's degree or higher, 2000\"], 75) - np.percentile(education[\"Percent of adults with a bachelor's degree or higher, 2000\"], 25)))"
   ]
  },
  {
   "cell_type": "code",
   "execution_count": 6,
   "metadata": {},
   "outputs": [
    {
     "data": {
      "text/plain": [
       "-0.6999999999999993"
      ]
     },
     "execution_count": 6,
     "metadata": {},
     "output_type": "execute_result"
    }
   ],
   "source": [
    "np.percentile(education[\"Percent of adults with a bachelor's degree or higher, 2000\"], 25) - (1.5 * (np.percentile(education[\"Percent of adults with a bachelor's degree or higher, 2000\"], 75) - np.percentile(education[\"Percent of adults with a bachelor's degree or higher, 2000\"], 25)))"
   ]
  },
  {
   "cell_type": "code",
   "execution_count": 7,
   "metadata": {},
   "outputs": [
    {
     "data": {
      "text/plain": [
       "(174, 47)"
      ]
     },
     "execution_count": 7,
     "metadata": {},
     "output_type": "execute_result"
    }
   ],
   "source": [
    "education[education[\"Percent of adults with a bachelor's degree or higher, 2000\"] > 31.3].shape"
   ]
  },
  {
   "cell_type": "code",
   "execution_count": 8,
   "metadata": {},
   "outputs": [
    {
     "data": {
      "text/plain": [
       "(0, 47)"
      ]
     },
     "execution_count": 8,
     "metadata": {},
     "output_type": "execute_result"
    }
   ],
   "source": [
    "education[education[\"Percent of adults with a bachelor's degree or higher, 2000\"] < 0].shape"
   ]
  },
  {
   "cell_type": "markdown",
   "metadata": {},
   "source": [
    "3) Which state has the highest average percentage of adults with a bachelor's degree? Which state has the lowest? (We want to take the average of the percentage of bachelor's degrees in each county per state) / (Save this to a new variable, as we'll be using it a lot)"
   ]
  },
  {
   "cell_type": "code",
   "execution_count": 9,
   "metadata": {
    "collapsed": true
   },
   "outputs": [],
   "source": [
    "state_mean = education.groupby('State')[\"Percent of adults with a bachelor's degree or higher, 2000\"].mean()"
   ]
  },
  {
   "cell_type": "code",
   "execution_count": 10,
   "metadata": {},
   "outputs": [
    {
     "data": {
      "text/plain": [
       "39.1"
      ]
     },
     "execution_count": 10,
     "metadata": {},
     "output_type": "execute_result"
    }
   ],
   "source": [
    "np.max(state_mean)"
   ]
  },
  {
   "cell_type": "code",
   "execution_count": 11,
   "metadata": {},
   "outputs": [
    {
     "data": {
      "text/plain": [
       "State\n",
       "DC    39.1\n",
       "Name: Percent of adults with a bachelor's degree or higher, 2000, dtype: float64"
      ]
     },
     "execution_count": 11,
     "metadata": {},
     "output_type": "execute_result"
    }
   ],
   "source": [
    "state_mean[state_mean == state_mean.max()]"
   ]
  },
  {
   "cell_type": "code",
   "execution_count": 12,
   "metadata": {},
   "outputs": [
    {
     "data": {
      "text/plain": [
       "<module 'matplotlib.pyplot' from '/Users/evan.agovino/anaconda3/lib/python3.6/site-packages/matplotlib/pyplot.py'>"
      ]
     },
     "execution_count": 12,
     "metadata": {},
     "output_type": "execute_result"
    }
   ],
   "source": [
    "plt"
   ]
  },
  {
   "cell_type": "code",
   "execution_count": 13,
   "metadata": {},
   "outputs": [
    {
     "data": {
      "text/plain": [
       "State\n",
       "KY    11.554167\n",
       "Name: Percent of adults with a bachelor's degree or higher, 2000, dtype: float64"
      ]
     },
     "execution_count": 13,
     "metadata": {},
     "output_type": "execute_result"
    }
   ],
   "source": [
    "state_mean[state_mean == state_mean.min()]"
   ]
  },
  {
   "cell_type": "markdown",
   "metadata": {},
   "source": [
    "4) Plot a histogram for the percentage of adults with a bachelor degree by state."
   ]
  },
  {
   "cell_type": "code",
   "execution_count": 14,
   "metadata": {},
   "outputs": [
    {
     "data": {
      "text/plain": [
       "(array([ 9., 16.,  8.,  8.,  2.,  4.,  1.,  2.,  0.,  1.]),\n",
       " array([11.55416667, 14.30875   , 17.06333333, 19.81791667, 22.5725    ,\n",
       "        25.32708333, 28.08166667, 30.83625   , 33.59083333, 36.34541667,\n",
       "        39.1       ]),\n",
       " <a list of 10 Patch objects>)"
      ]
     },
     "execution_count": 14,
     "metadata": {},
     "output_type": "execute_result"
    },
    {
     "data": {
      "image/png": "[encoded data removed]",
      "text/plain": [
       "<matplotlib.figure.Figure at 0x1279d3f28>"
      ]
     },
     "metadata": {},
     "output_type": "display_data"
    }
   ],
   "source": [
    "plt.hist(education.groupby('State')[\"Percent of adults with a bachelor's degree or higher, 2000\"].mean())"
   ]
  },
  {
   "cell_type": "markdown",
   "metadata": {},
   "source": [
    "5) Plot a boxplot for the percentage of adults with a bachelor degree by state. Are there any outliers? If so, how many? What is the cutoff for an outlier on either side?"
   ]
  },
  {
   "cell_type": "code",
   "execution_count": 15,
   "metadata": {},
   "outputs": [
    {
     "data": {
      "text/plain": [
       "{'boxes': [<matplotlib.lines.Line2D at 0x129d34278>],\n",
       " 'caps': [<matplotlib.lines.Line2D at 0x129d34d68>,\n",
       "  <matplotlib.lines.Line2D at 0x129d3d208>],\n",
       " 'fliers': [<matplotlib.lines.Line2D at 0x129d3dac8>],\n",
       " 'means': [],\n",
       " 'medians': [<matplotlib.lines.Line2D at 0x129d3d668>],\n",
       " 'whiskers': [<matplotlib.lines.Line2D at 0x129d343c8>,\n",
       "  <matplotlib.lines.Line2D at 0x129d34908>]}"
      ]
     },
     "execution_count": 15,
     "metadata": {},
     "output_type": "execute_result"
    },
    {
     "data": {
      "image/png": "[encoded data removed]",
      "text/plain": [
       "<matplotlib.figure.Figure at 0x127932cf8>"
      ]
     },
     "metadata": {},
     "output_type": "display_data"
    }
   ],
   "source": [
    "plt.boxplot(education.groupby('State')[\"Percent of adults with a bachelor's degree or higher, 2000\"].mean())"
   ]
  },
  {
   "cell_type": "code",
   "execution_count": 16,
   "metadata": {},
   "outputs": [
    {
     "data": {
      "text/plain": [
       "29.785506153105203"
      ]
     },
     "execution_count": 16,
     "metadata": {},
     "output_type": "execute_result"
    }
   ],
   "source": [
    "np.percentile(state_mean, 75) + (1.5 * (np.percentile(state_mean, 75) - np.percentile(state_mean, 25)))"
   ]
  },
  {
   "cell_type": "code",
   "execution_count": 17,
   "metadata": {},
   "outputs": [
    {
     "data": {
      "text/plain": [
       "State\n",
       "DC    39.100000\n",
       "MA    32.057143\n",
       "RI    30.840000\n",
       "Name: Percent of adults with a bachelor's degree or higher, 2000, dtype: float64"
      ]
     },
     "execution_count": 17,
     "metadata": {},
     "output_type": "execute_result"
    }
   ],
   "source": [
    "state_mean[state_mean > 29.785506153105203]"
   ]
  },
  {
   "cell_type": "code",
   "execution_count": 18,
   "metadata": {},
   "outputs": [
    {
     "data": {
      "text/plain": [
       "6.752526965668318"
      ]
     },
     "execution_count": 18,
     "metadata": {},
     "output_type": "execute_result"
    }
   ],
   "source": [
    "np.percentile(state_mean, 25) - (1.5 * (np.percentile(state_mean, 75) - np.percentile(state_mean, 25)))"
   ]
  },
  {
   "cell_type": "code",
   "execution_count": 19,
   "metadata": {},
   "outputs": [
    {
     "data": {
      "text/plain": [
       "Series([], Name: Percent of adults with a bachelor's degree or higher, 2000, dtype: float64)"
      ]
     },
     "execution_count": 19,
     "metadata": {},
     "output_type": "execute_result"
    }
   ],
   "source": [
    "state_mean[state_mean < 6.752526965668318]"
   ]
  },
  {
   "cell_type": "markdown",
   "metadata": {},
   "source": [
    "6) Now, let's read in a dataset that tells us whether a particular state voted for Al Gore or George Bush in 2000."
   ]
  },
  {
   "cell_type": "code",
   "execution_count": 20,
   "metadata": {
    "collapsed": true
   },
   "outputs": [],
   "source": [
    "state_results = pd.read_html('https://transition.fec.gov/pubrec/2000presgeresults.htm', header=0)[2]\n",
    "blue_states = state_results[state_results['ELECTORAL VOTE  BUSH'].isnull()]['STATE']\n",
    "red_states = state_results[state_results['ELECTORAL VOTE  GORE'].isnull()]['STATE']"
   ]
  },
  {
   "cell_type": "markdown",
   "metadata": {},
   "source": [
    "7) Create two arrays of the percentage of adults with bachelor degrees for red states and blue states - HINT: you can use the function index.isin(blue_states) and index.isin(red_states) to specifically query blue and red states.\n",
    "\n",
    "Plot a boxplot showing blue states and red states (hint: you can plot two separate items in a boxplot by plotting an array, i.e. plt.boxplot([a, b])\n",
    "\n",
    "Do blue states or red states have a higher mean % of bachelor degrees? What are the means of each? What is the mean difference between the two?\n",
    "\n",
    "Do either groups of states have outliers? Which states are outliers?\n",
    "\n"
   ]
  },
  {
   "cell_type": "code",
   "execution_count": 21,
   "metadata": {
    "collapsed": true
   },
   "outputs": [],
   "source": [
    "blue_state_means = state_mean[state_mean.index.isin(blue_states)]\n",
    "red_state_means = state_mean[state_mean.index.isin(red_states)]"
   ]
  },
  {
   "cell_type": "code",
   "execution_count": 22,
   "metadata": {},
   "outputs": [
    {
     "data": {
      "text/plain": [
       "{'boxes': [<matplotlib.lines.Line2D at 0x12a737588>,\n",
       "  <matplotlib.lines.Line2D at 0x12a76ae10>],\n",
       " 'caps': [<matplotlib.lines.Line2D at 0x12a737d30>,\n",
       "  <matplotlib.lines.Line2D at 0x12a76a128>,\n",
       "  <matplotlib.lines.Line2D at 0x12a776ba8>,\n",
       "  <matplotlib.lines.Line2D at 0x12a77d048>],\n",
       " 'fliers': [<matplotlib.lines.Line2D at 0x12a76a9e8>,\n",
       "  <matplotlib.lines.Line2D at 0x12a77d908>],\n",
       " 'means': [],\n",
       " 'medians': [<matplotlib.lines.Line2D at 0x12a76a588>,\n",
       "  <matplotlib.lines.Line2D at 0x12a77d4a8>],\n",
       " 'whiskers': [<matplotlib.lines.Line2D at 0x12a7377b8>,\n",
       "  <matplotlib.lines.Line2D at 0x12a737198>,\n",
       "  <matplotlib.lines.Line2D at 0x12a7762e8>,\n",
       "  <matplotlib.lines.Line2D at 0x12a776748>]}"
      ]
     },
     "execution_count": 22,
     "metadata": {},
     "output_type": "execute_result"
    },
    {
     "data": {
      "image/png": "[encoded data removed]",
      "text/plain": [
       "<matplotlib.figure.Figure at 0x127947f28>"
      ]
     },
     "metadata": {},
     "output_type": "display_data"
    }
   ],
   "source": [
    "plt.boxplot([blue_state_means, red_state_means])"
   ]
  },
  {
   "cell_type": "code",
   "execution_count": 23,
   "metadata": {},
   "outputs": [
    {
     "data": {
      "text/plain": [
       "22.702300477552225"
      ]
     },
     "execution_count": 23,
     "metadata": {},
     "output_type": "execute_result"
    }
   ],
   "source": [
    "np.mean(blue_state_means)"
   ]
  },
  {
   "cell_type": "code",
   "execution_count": 24,
   "metadata": {},
   "outputs": [
    {
     "data": {
      "text/plain": [
       "16.415942191791217"
      ]
     },
     "execution_count": 24,
     "metadata": {},
     "output_type": "execute_result"
    }
   ],
   "source": [
    "np.mean(red_state_means)"
   ]
  },
  {
   "cell_type": "code",
   "execution_count": 25,
   "metadata": {},
   "outputs": [
    {
     "data": {
      "text/plain": [
       "6.286358285761008"
      ]
     },
     "execution_count": 25,
     "metadata": {},
     "output_type": "execute_result"
    }
   ],
   "source": [
    "np.mean(blue_state_means) - np.mean(red_state_means)"
   ]
  },
  {
   "cell_type": "code",
   "execution_count": 26,
   "metadata": {},
   "outputs": [
    {
     "data": {
      "text/plain": [
       "37.784113300492585"
      ]
     },
     "execution_count": 26,
     "metadata": {},
     "output_type": "execute_result"
    }
   ],
   "source": [
    "np.percentile(blue_state_means, 75) + (1.5 * (np.percentile(blue_state_means, 75) - np.percentile(blue_state_means, 25)))"
   ]
  },
  {
   "cell_type": "code",
   "execution_count": 27,
   "metadata": {},
   "outputs": [
    {
     "data": {
      "text/plain": [
       "State\n",
       "DC    39.1\n",
       "Name: Percent of adults with a bachelor's degree or higher, 2000, dtype: float64"
      ]
     },
     "execution_count": 27,
     "metadata": {},
     "output_type": "execute_result"
    }
   ],
   "source": [
    "blue_state_means[blue_state_means > 37.784113300492585]"
   ]
  },
  {
   "cell_type": "code",
   "execution_count": 28,
   "metadata": {},
   "outputs": [
    {
     "data": {
      "text/plain": [
       "5.655049261083782"
      ]
     },
     "execution_count": 28,
     "metadata": {},
     "output_type": "execute_result"
    }
   ],
   "source": [
    "np.percentile(blue_state_means, 25) - (1.5 * (np.percentile(blue_state_means, 75) - np.percentile(blue_state_means, 25)))"
   ]
  },
  {
   "cell_type": "code",
   "execution_count": 29,
   "metadata": {},
   "outputs": [
    {
     "data": {
      "text/plain": [
       "Series([], Name: Percent of adults with a bachelor's degree or higher, 2000, dtype: float64)"
      ]
     },
     "execution_count": 29,
     "metadata": {},
     "output_type": "execute_result"
    }
   ],
   "source": [
    "blue_state_means[blue_state_means < 5.655049261083782]"
   ]
  },
  {
   "cell_type": "code",
   "execution_count": 30,
   "metadata": {},
   "outputs": [
    {
     "data": {
      "text/plain": [
       "24.132666625827028"
      ]
     },
     "execution_count": 30,
     "metadata": {},
     "output_type": "execute_result"
    }
   ],
   "source": [
    "np.percentile(red_state_means, 75) + (1.5 * (np.percentile(red_state_means, 75) - np.percentile(red_state_means, 25)))"
   ]
  },
  {
   "cell_type": "code",
   "execution_count": 31,
   "metadata": {},
   "outputs": [
    {
     "data": {
      "text/plain": [
       "State\n",
       "CO    25.726984\n",
       "NH    25.800000\n",
       "Name: Percent of adults with a bachelor's degree or higher, 2000, dtype: float64"
      ]
     },
     "execution_count": 31,
     "metadata": {},
     "output_type": "execute_result"
    }
   ],
   "source": [
    "red_state_means[red_state_means > 24.132666625827028]"
   ]
  },
  {
   "cell_type": "code",
   "execution_count": 32,
   "metadata": {},
   "outputs": [
    {
     "data": {
      "text/plain": [
       "7.37360757167359"
      ]
     },
     "execution_count": 32,
     "metadata": {},
     "output_type": "execute_result"
    }
   ],
   "source": [
    "np.percentile(red_state_means, 25) - (1.5 * (np.percentile(red_state_means, 75) - np.percentile(red_state_means, 25)))"
   ]
  },
  {
   "cell_type": "code",
   "execution_count": 33,
   "metadata": {},
   "outputs": [
    {
     "data": {
      "text/plain": [
       "Series([], Name: Percent of adults with a bachelor's degree or higher, 2000, dtype: float64)"
      ]
     },
     "execution_count": 33,
     "metadata": {},
     "output_type": "execute_result"
    }
   ],
   "source": [
    "red_state_means[red_state_means < 7.37360757167359]"
   ]
  },
  {
   "cell_type": "markdown",
   "metadata": {},
   "source": [
    "8) Now run a boostrapping example using 10,000 simulations. Use np.random.seed(42) to ensure consistency if you run again. Concatenate the blue states and red states, shuffle them, and then break out new blue states and red states, similar to what we did last week in class. Record the difference between the blue states and red states.\n",
    "\n",
    "Plot a histogram of the 10,000 differences recorded. What is the average difference?"
   ]
  },
  {
   "cell_type": "code",
   "execution_count": 34,
   "metadata": {
    "collapsed": true
   },
   "outputs": [],
   "source": [
    "np.random.seed(42)\n",
    "diff = []\n",
    "for i in range(10000):\n",
    "    total = np.concatenate((blue_state_means, red_state_means), axis=None)\n",
    "    np.random.shuffle(total)\n",
    "    new_blue = total[:len(blue_state_means)]\n",
    "    new_red = total[len(blue_state_means):]\n",
    "    diff.append(np.mean(new_blue) - np.mean(new_red))"
   ]
  },
  {
   "cell_type": "code",
   "execution_count": 35,
   "metadata": {},
   "outputs": [
    {
     "data": {
      "text/plain": [
       "(array([  2.,   4.,   7.,   8.,  15.,  25.,  39.,  43.,  62.,  89., 116.,\n",
       "        143., 171., 211., 294., 312., 385., 415., 480., 500., 533., 530.,\n",
       "        569., 547., 530., 484., 506., 448., 447., 378., 318., 284., 237.,\n",
       "        193., 171., 142., 100.,  81.,  61.,  41.,  34.,  15.,  10.,   7.,\n",
       "          5.,   2.,   4.,   0.,   0.,   2.]),\n",
       " array([-5.30369105, -5.07508477, -4.8464785 , -4.61787222, -4.38926594,\n",
       "        -4.16065966, -3.93205338, -3.70344711, -3.47484083, -3.24623455,\n",
       "        -3.01762827, -2.78902199, -2.56041572, -2.33180944, -2.10320316,\n",
       "        -1.87459688, -1.6459906 , -1.41738433, -1.18877805, -0.96017177,\n",
       "        -0.73156549, -0.50295921, -0.27435294, -0.04574666,  0.18285962,\n",
       "         0.4114659 ,  0.64007218,  0.86867845,  1.09728473,  1.32589101,\n",
       "         1.55449729,  1.78310357,  2.01170984,  2.24031612,  2.4689224 ,\n",
       "         2.69752868,  2.92613496,  3.15474123,  3.38334751,  3.61195379,\n",
       "         3.84056007,  4.06916635,  4.29777262,  4.5263789 ,  4.75498518,\n",
       "         4.98359146,  5.21219774,  5.44080401,  5.66941029,  5.89801657,\n",
       "         6.12662285]),\n",
       " <a list of 50 Patch objects>)"
      ]
     },
     "execution_count": 35,
     "metadata": {},
     "output_type": "execute_result"
    },
    {
     "data": {
      "image/png": "[encoded data removed]",
      "text/plain": [
       "<matplotlib.figure.Figure at 0x12a794198>"
      ]
     },
     "metadata": {},
     "output_type": "display_data"
    }
   ],
   "source": [
    "plt.hist(diff, bins=50)"
   ]
  },
  {
   "cell_type": "code",
   "execution_count": 36,
   "metadata": {},
   "outputs": [
    {
     "data": {
      "text/plain": [
       "0.0005281125236016833"
      ]
     },
     "execution_count": 36,
     "metadata": {},
     "output_type": "execute_result"
    }
   ],
   "source": [
    "np.mean(diff)"
   ]
  },
  {
   "cell_type": "markdown",
   "metadata": {},
   "source": [
    "9) Say you are running a two-tailed hypothesis test, where the null hypothesis is that there is no difference in the percentage of bachelor's degrees for red and blue states, while the alternate hypothesis is that there is a difference.\n",
    "\n",
    "If the test is at the 0.05 significance level, what are the rejection regions?\n",
    "\n",
    "Where do the results you found earlier fit into the distribution? What is the percentile value? What is the p-value (remember, two-tailed)?\n",
    "\n",
    "Can we reject the null hypothesis?"
   ]
  },
  {
   "cell_type": "code",
   "execution_count": 37,
   "metadata": {},
   "outputs": [
    {
     "data": {
      "text/plain": [
       "-3.142081733806884"
      ]
     },
     "execution_count": 37,
     "metadata": {},
     "output_type": "execute_result"
    }
   ],
   "source": [
    "np.percentile(diff, 2.5)"
   ]
  },
  {
   "cell_type": "code",
   "execution_count": 38,
   "metadata": {},
   "outputs": [
    {
     "data": {
      "text/plain": [
       "3.194684134803748"
      ]
     },
     "execution_count": 38,
     "metadata": {},
     "output_type": "execute_result"
    }
   ],
   "source": [
    "np.percentile(diff, 97.5)"
   ]
  },
  {
   "cell_type": "code",
   "execution_count": 39,
   "metadata": {},
   "outputs": [
    {
     "data": {
      "text/plain": [
       "100.0"
      ]
     },
     "execution_count": 39,
     "metadata": {},
     "output_type": "execute_result"
    }
   ],
   "source": [
    "stats.percentileofscore(diff, 6.286358285761008)"
   ]
  },
  {
   "cell_type": "code",
   "execution_count": 40,
   "metadata": {},
   "outputs": [
    {
     "data": {
      "text/plain": [
       "0.0"
      ]
     },
     "execution_count": 40,
     "metadata": {},
     "output_type": "execute_result"
    }
   ],
   "source": [
    "(1 - ((stats.percentileofscore(diff, 6.286358285761008))/100)) * 2"
   ]
  },
  {
   "cell_type": "code",
   "execution_count": null,
   "metadata": {
    "collapsed": true
   },
   "outputs": [],
   "source": []
  }
 ],
 "metadata": {
  "kernelspec": {
   "display_name": "Python 3",
   "language": "python",
   "name": "python3"
  },
  "language_info": {
   "codemirror_mode": {
    "name": "ipython",
    "version": 3
   },
   "file_extension": ".py",
   "mimetype": "text/x-python",
   "name": "python",
   "nbconvert_exporter": "python",
   "pygments_lexer": "ipython3",
   "version": "3.6.8"
  }
 },
 "nbformat": 4,
 "nbformat_minor": 2
}
