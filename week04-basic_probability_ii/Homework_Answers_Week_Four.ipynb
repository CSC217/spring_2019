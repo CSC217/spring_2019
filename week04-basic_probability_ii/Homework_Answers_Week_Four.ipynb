{
 "cells": [
  {
   "cell_type": "code",
   "execution_count": 1,
   "metadata": {
    "collapsed": true
   },
   "outputs": [],
   "source": [
    "from scipy.special import comb, perm\n",
    "import numpy as np"
   ]
  },
  {
   "cell_type": "code",
   "execution_count": 2,
   "metadata": {},
   "outputs": [
    {
     "name": "stdout",
     "output_type": "stream",
     "text": [
      "['2♥', '2♦', '2♠', '2♣', '3♥', '3♦', '3♠', '3♣', '4♥', '4♦', '4♠', '4♣', '5♥', '5♦', '5♠', '5♣', '6♥', '6♦', '6♠', '6♣', '7♥', '7♦', '7♠', '7♣', '8♥', '8♦', '8♠', '8♣', '9♥', '9♦', '9♠', '9♣', '10♥', '10♦', '10♠', '10♣', 'J♥', 'J♦', 'J♠', 'J♣', 'Q♥', 'Q♦', 'Q♠', 'Q♣', 'K♥', 'K♦', 'K♠', 'K♣', 'A♥', 'A♦', 'A♠', 'A♣']\n"
     ]
    }
   ],
   "source": [
    "suits = ['♥','♦','♠','♣']\n",
    "values = ['2', '3', '4', '5', '6', '7', '8', '9', '10', 'J', 'Q', 'K', 'A']\n",
    "full_deck = []\n",
    "for i in values:\n",
    "    for j in suits:\n",
    "        full_deck.append(i + j)\n",
    "print(full_deck)"
   ]
  },
  {
   "cell_type": "markdown",
   "metadata": {},
   "source": [
    "Answer the questions below, using code where necessary."
   ]
  },
  {
   "cell_type": "markdown",
   "metadata": {},
   "source": [
    "0) How large is the full deck? How many cards of each suit are in the full deck?"
   ]
  },
  {
   "cell_type": "code",
   "execution_count": 3,
   "metadata": {},
   "outputs": [
    {
     "data": {
      "text/plain": [
       "52"
      ]
     },
     "execution_count": 3,
     "metadata": {},
     "output_type": "execute_result"
    }
   ],
   "source": [
    "len(full_deck)"
   ]
  },
  {
   "cell_type": "code",
   "execution_count": 4,
   "metadata": {},
   "outputs": [
    {
     "name": "stdout",
     "output_type": "stream",
     "text": [
      "♥ 13\n",
      "♦ 13\n",
      "♠ 13\n",
      "♣ 13\n"
     ]
    }
   ],
   "source": [
    "for i in suits:\n",
    "    print(i, len([j for j in full_deck if i in j]))"
   ]
  },
  {
   "cell_type": "markdown",
   "metadata": {},
   "source": [
    "1) How many different five-card poker hands are there? (Order does not matter and cards are not replaceable)"
   ]
  },
  {
   "cell_type": "code",
   "execution_count": 5,
   "metadata": {},
   "outputs": [
    {
     "data": {
      "text/plain": [
       "2598960.0"
      ]
     },
     "execution_count": 5,
     "metadata": {},
     "output_type": "execute_result"
    }
   ],
   "source": [
    "comb(52,5)"
   ]
  },
  {
   "cell_type": "markdown",
   "metadata": {},
   "source": [
    "2) Say I give you one card from a shuffled deck of cards. What is the probability that it is a Heart?"
   ]
  },
  {
   "cell_type": "code",
   "execution_count": 6,
   "metadata": {},
   "outputs": [
    {
     "data": {
      "text/plain": [
       "0.25"
      ]
     },
     "execution_count": 6,
     "metadata": {},
     "output_type": "execute_result"
    }
   ],
   "source": [
    "len([i for i in full_deck if '♥' in i]) / len(full_deck)"
   ]
  },
  {
   "cell_type": "markdown",
   "metadata": {},
   "source": [
    "3) Say I give you one card from a shuffled deck of cards. What is the probability that it is a face card (K, Q, J)?"
   ]
  },
  {
   "cell_type": "code",
   "execution_count": 7,
   "metadata": {},
   "outputs": [
    {
     "data": {
      "text/plain": [
       "0.23076923076923078"
      ]
     },
     "execution_count": 7,
     "metadata": {},
     "output_type": "execute_result"
    }
   ],
   "source": [
    "len([i for i in full_deck if 'K' in i or 'Q' in i or 'J' in i]) / len(full_deck)"
   ]
  },
  {
   "cell_type": "markdown",
   "metadata": {},
   "source": [
    "4) Say I give you one card from a shuffled deck of cards. What is the probability that it is a face card OR a Heart card?"
   ]
  },
  {
   "cell_type": "code",
   "execution_count": 8,
   "metadata": {},
   "outputs": [
    {
     "data": {
      "text/plain": [
       "0.4230769230769231"
      ]
     },
     "execution_count": 8,
     "metadata": {},
     "output_type": "execute_result"
    }
   ],
   "source": [
    "len([i for i in full_deck if ('K' in i or 'Q' in i or 'J' in i) or ('♥' in i)]) / len(full_deck)"
   ]
  },
  {
   "cell_type": "markdown",
   "metadata": {},
   "source": [
    "5) Say I give you one card from a shuffled deck of cards. What is the probability that it is a face card AND a heart card?"
   ]
  },
  {
   "cell_type": "code",
   "execution_count": 9,
   "metadata": {},
   "outputs": [
    {
     "data": {
      "text/plain": [
       "0.057692307692307696"
      ]
     },
     "execution_count": 9,
     "metadata": {},
     "output_type": "execute_result"
    }
   ],
   "source": [
    "len([i for i in full_deck if ('K' in i or 'Q' in i or 'J' in i) and ('♥' in i)]) / len(full_deck)"
   ]
  },
  {
   "cell_type": "markdown",
   "metadata": {},
   "source": [
    "6) Say I give you five cards from a shuffled deck of cards (so taken from the deck without replacement). What is the probability of you getting at least one '6' card? (Hint: Think of all of the combinations of cards that don't have a 6 in it and work backwards."
   ]
  },
  {
   "cell_type": "code",
   "execution_count": 10,
   "metadata": {},
   "outputs": [
    {
     "data": {
      "text/plain": [
       "0.34115800166220334"
      ]
     },
     "execution_count": 10,
     "metadata": {},
     "output_type": "execute_result"
    }
   ],
   "source": [
    "1 - (comb(48,5) / comb(52,5))"
   ]
  },
  {
   "cell_type": "markdown",
   "metadata": {},
   "source": [
    "One great hand in poker is a flush, which is when all of the cards in your hand have the same suit.\n",
    "\n",
    "7) Say you are dealt the hand [3♠,6♠,7♠,J♠,5♥]. You ask to put the 5 of hearts aside and get a new card. What is the probability that the next card dealt to you is a spade? (note the 5 of hearts is not going back into the deck!)"
   ]
  },
  {
   "cell_type": "code",
   "execution_count": 11,
   "metadata": {},
   "outputs": [
    {
     "data": {
      "text/plain": [
       "0.19148936170212766"
      ]
     },
     "execution_count": 11,
     "metadata": {},
     "output_type": "execute_result"
    }
   ],
   "source": [
    "9/47"
   ]
  },
  {
   "cell_type": "markdown",
   "metadata": {},
   "source": [
    "There were originally 13 spades in the deck of 52. Now there are 9 spades in the deck of 47, so 9/47, or 0.19"
   ]
  },
  {
   "cell_type": "markdown",
   "metadata": {},
   "source": [
    "8) You get the following hand: [4♥,4♣,8♣,8♠,K♥]. You ask to put the king aside and get a new card. What is the probability that the next card dealt to you is a 4 or an 8? (*note the King of Hearts isn't going back into the deck!)"
   ]
  },
  {
   "cell_type": "code",
   "execution_count": 12,
   "metadata": {},
   "outputs": [
    {
     "data": {
      "text/plain": [
       "0.0851063829787234"
      ]
     },
     "execution_count": 12,
     "metadata": {},
     "output_type": "execute_result"
    }
   ],
   "source": [
    "4/47"
   ]
  },
  {
   "cell_type": "markdown",
   "metadata": {},
   "source": [
    "There are two fours and two eights left in the deck of 47, so 4/47, or 0.08"
   ]
  },
  {
   "cell_type": "markdown",
   "metadata": {},
   "source": [
    "9) You get the following hand: [A♥,A♣,A♣,6♠,10♥]]. You ask to put the 6 and 10 aside and get two new cards, in the hopes of getting either four of a kind (four Aces + one random card), or a full house (three aces and a pair of other cards). What are the odds of getting either a four of a kind or a full house? Keep in mind that you may need to subtract any hands that are double counted."
   ]
  },
  {
   "cell_type": "markdown",
   "metadata": {},
   "source": [
    "There are 46 different combinations that lead you to getting the remaining Ace (the Ace and one of the other 46 cards). There are 66 different combiantions that lead you to getting another pair - comb(4,2) * 12 for each of the twelve pairs remaining, minus the six pairs that contain either the 6 of spades or 10 of hearts that was removed. There is roughly a ten percent chance of either of these things happening."
   ]
  },
  {
   "cell_type": "code",
   "execution_count": 13,
   "metadata": {},
   "outputs": [
    {
     "data": {
      "text/plain": [
       "46.0"
      ]
     },
     "execution_count": 13,
     "metadata": {},
     "output_type": "execute_result"
    }
   ],
   "source": [
    "comb(46,1)"
   ]
  },
  {
   "cell_type": "code",
   "execution_count": 14,
   "metadata": {},
   "outputs": [
    {
     "data": {
      "text/plain": [
       "66.0"
      ]
     },
     "execution_count": 14,
     "metadata": {},
     "output_type": "execute_result"
    }
   ],
   "source": [
    "(comb(4,2)*12 - 6)"
   ]
  },
  {
   "cell_type": "code",
   "execution_count": 15,
   "metadata": {},
   "outputs": [
    {
     "data": {
      "text/plain": [
       "0.1036077705827937"
      ]
     },
     "execution_count": 15,
     "metadata": {},
     "output_type": "execute_result"
    }
   ],
   "source": [
    "((comb(46,1)) + (comb(4,2)*12 - 6)) / comb(47,2)"
   ]
  },
  {
   "cell_type": "markdown",
   "metadata": {},
   "source": [
    "10) What is the probability of getting a Full House from a draw of five random cards?"
   ]
  },
  {
   "cell_type": "code",
   "execution_count": 16,
   "metadata": {},
   "outputs": [
    {
     "data": {
      "text/plain": [
       "0.0014405762304921968"
      ]
     },
     "execution_count": 16,
     "metadata": {},
     "output_type": "execute_result"
    }
   ],
   "source": [
    "((comb(4,3) * 13) * (comb(4,2) * 12)) / comb(52,5)"
   ]
  },
  {
   "cell_type": "markdown",
   "metadata": {},
   "source": [
    "11) What is the probability of getting four of a kind from a draw of five random cards?"
   ]
  },
  {
   "cell_type": "code",
   "execution_count": 17,
   "metadata": {},
   "outputs": [
    {
     "data": {
      "text/plain": [
       "0.00024009603841536616"
      ]
     },
     "execution_count": 17,
     "metadata": {},
     "output_type": "execute_result"
    }
   ],
   "source": [
    "comb(4,4) * 13 * comb(48,1) / comb(52,5)"
   ]
  },
  {
   "cell_type": "markdown",
   "metadata": {},
   "source": [
    "12) Create a Python function that returns a random card from the full deck of cards (you can use the list for a full deck of cards notated above)"
   ]
  },
  {
   "cell_type": "code",
   "execution_count": 18,
   "metadata": {},
   "outputs": [
    {
     "data": {
      "text/plain": [
       "'A♣'"
      ]
     },
     "execution_count": 18,
     "metadata": {},
     "output_type": "execute_result"
    }
   ],
   "source": [
    "def random_card(full_deck):\n",
    "    x = np.random.choice(full_deck)\n",
    "    return x\n",
    "random_card(full_deck)"
   ]
  },
  {
   "cell_type": "markdown",
   "metadata": {},
   "source": [
    "13) Create a Python function that returns a random hand of five from the full deck of cards (again you can use the list for a full deck of cards notated above)"
   ]
  },
  {
   "cell_type": "code",
   "execution_count": 19,
   "metadata": {},
   "outputs": [
    {
     "data": {
      "text/plain": [
       "array(['4♦', 'A♦', 'K♦', '7♥', 'K♣'], dtype='<U3')"
      ]
     },
     "execution_count": 19,
     "metadata": {},
     "output_type": "execute_result"
    }
   ],
   "source": [
    "def random_five_cards(full_deck):\n",
    "    x = np.random.choice(full_deck, size=5, replace=False)\n",
    "    return x\n",
    "random_five_cards(full_deck)"
   ]
  },
  {
   "cell_type": "markdown",
   "metadata": {},
   "source": [
    "Bayes' Theorem  \n",
    "You go to see the doctor for your annual checkup. The doctor selects you at random to have a blood test for the Zika virus, which for the purposes of this exercise we will say is currently suspected to affect 1 in 10,000 people in the United States.\n",
    "\n",
    "The test is 99% accurate, in the sense that the probability of a false positive is 1%. The probability of a false negative is zero. You test positive.\n",
    "\n",
    "What is the new probability that you have the Zika virus?\n",
    "\n",
    "Now imagine that you went to a friend’s wedding in Mexico recently, and (for the purposes of this exercise) it is know that 1 in 200 people who visited Mexico recently come back with the Zika virus. Given the same test result as above, what should your revised estimate be for the probability you have the disease?"
   ]
  },
  {
   "cell_type": "markdown",
   "metadata": {},
   "source": [
    "| | Disease | No Disease| Total |\n",
    "| :--- | :---: | :---:| ---: |\n",
    "| Test Positive |  1| 99| 100\n",
    "| Test Negative | 0 | 9,900| 9,989\n",
    "| Total | 1 | 9,999 | 10,000\n",
    "\n",
    "\n",
    "P(Virus | Positive) = P(Positive | Virus) * P(Virus) / ((P(Virus & Positive) + P(Not Virus & Positive))\n",
    "\n",
    "P(Virus | Positive) = (1 \\* 0.0001) / ((1 \\* 0.0001) + (0.01 \\* 0.9999))"
   ]
  },
  {
   "cell_type": "code",
   "execution_count": 20,
   "metadata": {},
   "outputs": [
    {
     "data": {
      "text/plain": [
       "0.009901970492127933"
      ]
     },
     "execution_count": 20,
     "metadata": {},
     "output_type": "execute_result"
    }
   ],
   "source": [
    "(1 * 0.0001) / ((1 * 0.0001) + (0.01 * 0.9999))"
   ]
  },
  {
   "cell_type": "code",
   "execution_count": 21,
   "metadata": {},
   "outputs": [
    {
     "data": {
      "text/plain": [
       "0.01"
      ]
     },
     "execution_count": 21,
     "metadata": {},
     "output_type": "execute_result"
    }
   ],
   "source": [
    "1/100"
   ]
  },
  {
   "cell_type": "markdown",
   "metadata": {},
   "source": [
    "| | Disease | No Disease| Total |\n",
    "| :--- | :---: | :---:| ---: |\n",
    "| Test Positive |  1| 2| 3\n",
    "| Test Negative | 0 | 197| 197\n",
    "| Total | 1 | 199 | 200\n",
    "\n",
    "P(Virus | Positive) = P(Positive | Virus) * P(Virus) / ((P(Virus & Positive) + P(Not Virus & Positive))\n",
    "\n",
    "P(Virus | Positive) = (1 * 0.005) / (0.005 + 0.001)"
   ]
  },
  {
   "cell_type": "code",
   "execution_count": 22,
   "metadata": {},
   "outputs": [
    {
     "data": {
      "text/plain": [
       "0.33444816053511706"
      ]
     },
     "execution_count": 22,
     "metadata": {},
     "output_type": "execute_result"
    }
   ],
   "source": [
    "(1 * 0.005) / ((1 * 0.005) + (0.01 * 0.995))"
   ]
  },
  {
   "cell_type": "code",
   "execution_count": 23,
   "metadata": {},
   "outputs": [
    {
     "data": {
      "text/plain": [
       "0.3333333333333333"
      ]
     },
     "execution_count": 23,
     "metadata": {},
     "output_type": "execute_result"
    }
   ],
   "source": [
    "1/3"
   ]
  },
  {
   "cell_type": "markdown",
   "metadata": {},
   "source": [
    "Monty Hall  \n",
    "Explain why you should always switch doors in the Monty Hall scenario we discussed during class."
   ]
  },
  {
   "cell_type": "markdown",
   "metadata": {},
   "source": [
    "You should always switch doors because even though the test ostensibly seems like there is a 0.5 chance of either available door having the prize, there is actually a 2/3 test of the 'other' door having the prize because of the gameshow host. He is effectively filtering the picks - for example, for the 1/3 of the time that the car will be behind Door 2, he will see that and then open Door 3. He will never open the door to reveal the car. Thus, because of that filtering effect, you should switch doors 2/3 of the time."
   ]
  },
  {
   "cell_type": "code",
   "execution_count": null,
   "metadata": {
    "collapsed": true
   },
   "outputs": [],
   "source": []
  }
 ],
 "metadata": {
  "kernelspec": {
   "display_name": "Python 3",
   "language": "python",
   "name": "python3"
  },
  "language_info": {
   "codemirror_mode": {
    "name": "ipython",
    "version": 3
   },
   "file_extension": ".py",
   "mimetype": "text/x-python",
   "name": "python",
   "nbconvert_exporter": "python",
   "pygments_lexer": "ipython3",
   "version": "3.6.3"
  }
 },
 "nbformat": 4,
 "nbformat_minor": 2
}
